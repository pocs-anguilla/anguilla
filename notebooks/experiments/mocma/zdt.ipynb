{
 "cells": [
  {
   "cell_type": "markdown",
   "metadata": {},
   "source": [
    "<a name=\"top\"> </a>\n",
    "\n",
    "## Contents\n",
    "\n",
    "* [Setup](#Setup)\n",
    "* [References](#References)\n",
    "* [ZDT1](#ZDT1)\n",
    "* [ZDT2](#ZDT2)\n",
    "* [ZDT3](#ZDT3)\n",
    "* [ZDT4](#ZDT4)\n",
    "* [ZDT4P](#ZDT4P)\n",
    "* [ZDT6](#ZDT6)\n",
    "* [FON](#FON)"
   ]
  },
  {
   "cell_type": "markdown",
   "metadata": {},
   "source": [
    "<a id=\"top\"></a>"
   ]
  },
  {
   "cell_type": "markdown",
   "metadata": {},
   "source": [
    "## Setup\n",
    "\n",
    "In this notebook, we will run the MOCMA optimizer for functions in the ZDT benchmark and the FON function.\n",
    "For the ZDT functions, an analytical form of the optimal Pareto front [is known](https://sop.tik.ee.ethz.ch/download/supplementary/testproblems/).\n",
    "\n",
    "For each function, we will run 4 different configurations of the MOCMA optimizer for 5 trials. At each trial the optimizer will stop until a maximum number of iterations is reached or if the target volume (based on the [known maximum hypervolume](https://sop.tik.ee.ethz.ch/download/supplementary/testproblems/) for various population sizes) is surpassed."
   ]
  },
  {
   "cell_type": "code",
   "execution_count": null,
   "metadata": {},
   "outputs": [],
   "source": [
    "import dataclasses\n",
    "\n",
    "import math\n",
    "import numpy as np\n",
    "\n",
    "from anguilla.fitness import benchmark\n",
    "\n",
    "from experiment import TrialParameters, run_trials, population_plot_2d, runtime_summary, volume_summary"
   ]
  },
  {
   "cell_type": "code",
   "execution_count": null,
   "metadata": {},
   "outputs": [],
   "source": [
    "# 1) Configurable global settings\n",
    "\n",
    "# Number of trials\n",
    "N_TRIALS = 5\n",
    "\n",
    "# Number of dimensions\n",
    "N_DIMENSIONS = 30\n",
    "\n",
    "# Number of parents\n",
    "N_PARENTS = 20\n",
    "\n",
    "# For reproducible results we set a base seed to create the seed \n",
    "# sequence used to generate children seeds for each independent trial\n",
    "SEED = 84574962\n",
    "\n",
    "# Maximum number of evaluations to run the optimizer for\n",
    "MAX_EVALUATIONS = 50000\n",
    "\n",
    "# Truncate the maximum known hypervolume value to this number of decimal digits\n",
    "VOLUMES_N_DIGITS = 4\n",
    "\n",
    "# Reference point used for the known maximum hypervolume values\n",
    "REFERENCE = np.array([11., 11.])\n",
    "\n",
    "# 2) Other global values\n",
    "\n",
    "# We store target hypervolumes for each function in the benchmark.\n",
    "\n",
    "VOLUMES = {}\n",
    "VOLUMES[\"zdt1\"] = {2: 120.024876, 3: 120.387728, 4: 120.491597, 5: 120.539729, 10: 120.613761, \n",
    "                   20: 120.642396, 50: 120.657446, 100: 120.662137}\n",
    "VOLUMES[\"zdt2\"] = {2: 120.000000, 3: 120.148148, 4: 120.204159, 5: 120.233907, 10: 120.286820,\n",
    "                   20: 120.310699, 50: 120.324398, 100: 120.328881, 1000: 120.332834}\n",
    "VOLUMES[\"zdt3\"] = {2: 127.996445, 3: 128.448485, 4: 128.598233, 5: 128.665669, 10: 128.748470,\n",
    "                  20: 128.765657, 50: 128.773637, 100: 128.775955, 1000: 128.777722}\n",
    "VOLUMES[\"zdt4\"] = {2: 120.024876, 3: 120.387728, 4: 120.491597, 5: 120.539729, 10: 120.613761,\n",
    "                  20: 120.642396, 50: 120.657446, 100: 120.662137, 1000: 120.666177}\n",
    "VOLUMES[\"zdt6\"] = {2: 117.248947, 3: 117.372314, 4: 117.417899, 5: 117.441742, 10: 117.483246,\n",
    "                  20: 117.501440, 50: 117.511658, 100: 117.514950, 1000: 117.517870}\n",
    "\n",
    "# Helper functions\n",
    "def truncate(value, n_digits=VOLUMES_N_DIGITS):\n",
    "    tmp = 10 ** n_digits\n",
    "    value = math.trunc(value * tmp)\n",
    "    return value / tmp\n",
    "\n",
    "# Store common parameters which are customized using dataclasses.replace\n",
    "def get_base_params(fn_cls, key):\n",
    "    target_volume = None\n",
    "    if key in VOLUMES:\n",
    "        target_volume = truncate(VOLUMES[key][N_PARENTS])\n",
    "\n",
    "    return TrialParameters(\n",
    "                fn_cls,\n",
    "                fn_args=(N_DIMENSIONS,),\n",
    "                n_parents=N_PARENTS,\n",
    "                max_evaluations=MAX_EVALUATIONS,\n",
    "                #target_indicator_value=target_volume,\n",
    "                #reference=REFERENCE,\n",
    "            )\n",
    "\n",
    "PARAMETERS = {}\n",
    "PARAMETERS[\"zdt1\"] = get_base_params(benchmark.ZDT1, \"zdt1\")\n",
    "PARAMETERS[\"zdt2\"] = get_base_params(benchmark.ZDT2, \"zdt2\")\n",
    "PARAMETERS[\"zdt3\"] = get_base_params(benchmark.ZDT3, \"zdt3\")\n",
    "PARAMETERS[\"zdt4\"] = get_base_params(benchmark.ZDT4, \"zdt4\")\n",
    "PARAMETERS[\"zdt4p\"] = get_base_params(benchmark.ZDT4P, \"zdt4\")\n",
    "PARAMETERS[\"zdt6\"] = get_base_params(benchmark.ZDT6, \"zdt6\")\n",
    "PARAMETERS[\"fon\"] = get_base_params(benchmark.FON, \"fon\")\n",
    "\n",
    "def run(key, **parameter_replacements):\n",
    "    params = dataclasses.replace(PARAMETERS[key], **parameter_replacements)\n",
    "    results = run_trials(params, seed=SEED, n_trials=N_TRIALS)\n",
    "    runtime_summary(results)\n",
    "    volume_summary(results)\n",
    "    return population_plot_2d(results)"
   ]
  },
  {
   "cell_type": "markdown",
   "metadata": {},
   "source": [
    "## ZDT1\n",
    "[Back to top](#top)"
   ]
  },
  {
   "cell_type": "markdown",
   "metadata": {},
   "source": [
    "### Individual-based"
   ]
  },
  {
   "cell_type": "code",
   "execution_count": null,
   "metadata": {},
   "outputs": [],
   "source": [
    "fig = run(\"zdt1\", success_notion=\"individual\")"
   ]
  },
  {
   "cell_type": "markdown",
   "metadata": {},
   "source": [
    "### Population-based"
   ]
  },
  {
   "cell_type": "code",
   "execution_count": null,
   "metadata": {},
   "outputs": [],
   "source": [
    "fig = run(\"zdt1\")"
   ]
  },
  {
   "cell_type": "markdown",
   "metadata": {},
   "source": [
    "### Steady-state, individual-based"
   ]
  },
  {
   "cell_type": "code",
   "execution_count": null,
   "metadata": {},
   "outputs": [],
   "source": [
    "fig = run(\"zdt1\", success_notion=\"individual\", n_offspring=1)"
   ]
  },
  {
   "cell_type": "markdown",
   "metadata": {},
   "source": [
    "### Steady-state, population-based\n",
    "\n",
    "We observe that the steady-state using the population-based notion of success reaches the target volume faster than the other 3 variants and achieves better distribution."
   ]
  },
  {
   "cell_type": "code",
   "execution_count": null,
   "metadata": {},
   "outputs": [],
   "source": [
    "fig = run(\"zdt1\", n_offspring=1)"
   ]
  },
  {
   "cell_type": "markdown",
   "metadata": {},
   "source": [
    "## ZDT2\n",
    "[Back to top](#top)"
   ]
  },
  {
   "cell_type": "markdown",
   "metadata": {},
   "source": [
    "### Individual-based"
   ]
  },
  {
   "cell_type": "code",
   "execution_count": null,
   "metadata": {},
   "outputs": [],
   "source": [
    "fig = run(\"zdt2\", success_notion=\"individual\")"
   ]
  },
  {
   "cell_type": "markdown",
   "metadata": {},
   "source": [
    "### Population-based"
   ]
  },
  {
   "cell_type": "code",
   "execution_count": null,
   "metadata": {},
   "outputs": [],
   "source": [
    "fig = run(\"zdt2\")"
   ]
  },
  {
   "cell_type": "markdown",
   "metadata": {},
   "source": [
    "### Steady-state, individual-based"
   ]
  },
  {
   "cell_type": "code",
   "execution_count": null,
   "metadata": {},
   "outputs": [],
   "source": [
    "fig = run(\"zdt2\", success_notion=\"individual\", n_offspring=1)"
   ]
  },
  {
   "cell_type": "markdown",
   "metadata": {},
   "source": [
    "### Steady-state, population-based"
   ]
  },
  {
   "cell_type": "code",
   "execution_count": null,
   "metadata": {},
   "outputs": [],
   "source": [
    "fig = run(\"zdt2\", n_offspring=1)"
   ]
  },
  {
   "cell_type": "markdown",
   "metadata": {},
   "source": [
    "## ZDT3\n",
    "[Back to top](#top)"
   ]
  },
  {
   "cell_type": "markdown",
   "metadata": {},
   "source": [
    "### Individual-based"
   ]
  },
  {
   "cell_type": "code",
   "execution_count": null,
   "metadata": {},
   "outputs": [],
   "source": [
    "fig = run(\"zdt3\", success_notion=\"individual\")"
   ]
  },
  {
   "cell_type": "markdown",
   "metadata": {},
   "source": [
    "### Population-based"
   ]
  },
  {
   "cell_type": "code",
   "execution_count": null,
   "metadata": {},
   "outputs": [],
   "source": [
    "fig = run(\"zdt3\")"
   ]
  },
  {
   "cell_type": "markdown",
   "metadata": {},
   "source": [
    "### Steady-state, individual-based"
   ]
  },
  {
   "cell_type": "code",
   "execution_count": null,
   "metadata": {},
   "outputs": [],
   "source": [
    "fig = run(\"zdt3\", success_notion=\"individual\", n_offspring=1)"
   ]
  },
  {
   "cell_type": "markdown",
   "metadata": {},
   "source": [
    "### Steady-state, population-based"
   ]
  },
  {
   "cell_type": "code",
   "execution_count": null,
   "metadata": {},
   "outputs": [],
   "source": [
    "fig = run(\"zdt3\", n_offspring=1)"
   ]
  },
  {
   "cell_type": "markdown",
   "metadata": {},
   "source": [
    "## ZDT4\n",
    "[Back to top](#top)"
   ]
  },
  {
   "cell_type": "markdown",
   "metadata": {},
   "source": [
    "### Individual-based"
   ]
  },
  {
   "cell_type": "code",
   "execution_count": null,
   "metadata": {},
   "outputs": [],
   "source": [
    "fig = run(\"zdt4\", success_notion=\"individual\")"
   ]
  },
  {
   "cell_type": "markdown",
   "metadata": {},
   "source": [
    "### Population-based"
   ]
  },
  {
   "cell_type": "code",
   "execution_count": null,
   "metadata": {},
   "outputs": [],
   "source": [
    "fig = run(\"zdt4\")"
   ]
  },
  {
   "cell_type": "markdown",
   "metadata": {},
   "source": [
    "### Steady-state, individual-based"
   ]
  },
  {
   "cell_type": "code",
   "execution_count": null,
   "metadata": {},
   "outputs": [],
   "source": [
    "fig = run(\"zdt4\", success_notion=\"individual\", n_offspring=1)"
   ]
  },
  {
   "cell_type": "markdown",
   "metadata": {},
   "source": [
    "### Steady-state, population-based"
   ]
  },
  {
   "cell_type": "code",
   "execution_count": null,
   "metadata": {},
   "outputs": [],
   "source": [
    "fig = run(\"zdt4\", n_offspring=1)"
   ]
  },
  {
   "cell_type": "markdown",
   "metadata": {},
   "source": [
    "## ZDT4P\n",
    "[Back to top](#top)"
   ]
  },
  {
   "cell_type": "markdown",
   "metadata": {},
   "source": [
    "### Individual-based"
   ]
  },
  {
   "cell_type": "code",
   "execution_count": null,
   "metadata": {},
   "outputs": [],
   "source": [
    "fig = run(\"zdt4p\", success_notion=\"individual\")"
   ]
  },
  {
   "cell_type": "markdown",
   "metadata": {},
   "source": [
    "### Population-based"
   ]
  },
  {
   "cell_type": "code",
   "execution_count": null,
   "metadata": {},
   "outputs": [],
   "source": [
    "fig = run(\"zdt4p\")"
   ]
  },
  {
   "cell_type": "markdown",
   "metadata": {},
   "source": [
    "### Steady-state, individual-based"
   ]
  },
  {
   "cell_type": "code",
   "execution_count": null,
   "metadata": {},
   "outputs": [],
   "source": [
    "fig = run(\"zdt4p\", success_notion=\"individual\", n_offspring=1)"
   ]
  },
  {
   "cell_type": "markdown",
   "metadata": {},
   "source": [
    "### Steady-state, population-based"
   ]
  },
  {
   "cell_type": "code",
   "execution_count": null,
   "metadata": {},
   "outputs": [],
   "source": [
    "fig = run(\"zdt4p\", n_offspring=1)"
   ]
  },
  {
   "cell_type": "markdown",
   "metadata": {},
   "source": [
    "## ZDT6\n",
    "[Back to top](#top)"
   ]
  },
  {
   "cell_type": "markdown",
   "metadata": {},
   "source": [
    "### Individual-based"
   ]
  },
  {
   "cell_type": "code",
   "execution_count": null,
   "metadata": {},
   "outputs": [],
   "source": [
    "fig = run(\"zdt6\", success_notion=\"individual\")"
   ]
  },
  {
   "cell_type": "markdown",
   "metadata": {},
   "source": [
    "### Population-based"
   ]
  },
  {
   "cell_type": "code",
   "execution_count": null,
   "metadata": {},
   "outputs": [],
   "source": [
    "fig = run(\"zdt6\")"
   ]
  },
  {
   "cell_type": "markdown",
   "metadata": {},
   "source": [
    "### Steady-state, individual-based"
   ]
  },
  {
   "cell_type": "code",
   "execution_count": null,
   "metadata": {},
   "outputs": [],
   "source": [
    "fig = run(\"zdt6\", success_notion=\"individual\", n_offspring=1)"
   ]
  },
  {
   "cell_type": "markdown",
   "metadata": {},
   "source": [
    "### Steady-state, population-based"
   ]
  },
  {
   "cell_type": "code",
   "execution_count": null,
   "metadata": {},
   "outputs": [],
   "source": [
    "fig = run(\"zdt6\", n_offspring=1)"
   ]
  },
  {
   "cell_type": "markdown",
   "metadata": {},
   "source": [
    "## FON\n",
    "[Back to top](#top)"
   ]
  },
  {
   "cell_type": "markdown",
   "metadata": {},
   "source": [
    "### Individual-based"
   ]
  },
  {
   "cell_type": "code",
   "execution_count": null,
   "metadata": {},
   "outputs": [],
   "source": [
    "fig = run(\"fon\", success_notion=\"individual\", fn_args=(3,), reference=None)"
   ]
  },
  {
   "cell_type": "markdown",
   "metadata": {},
   "source": [
    "### Population-based"
   ]
  },
  {
   "cell_type": "code",
   "execution_count": null,
   "metadata": {},
   "outputs": [],
   "source": [
    "fig = run(\"fon\", fn_args=(3,), reference=None)"
   ]
  },
  {
   "cell_type": "markdown",
   "metadata": {},
   "source": [
    "### Steady-state, individual-based"
   ]
  },
  {
   "cell_type": "code",
   "execution_count": null,
   "metadata": {},
   "outputs": [],
   "source": [
    "fig = run(\"fon\", success_notion=\"individual\", n_offspring=1, fn_args=(3,), reference=None)"
   ]
  },
  {
   "cell_type": "markdown",
   "metadata": {},
   "source": [
    "### Steady-state, population-based"
   ]
  },
  {
   "cell_type": "code",
   "execution_count": null,
   "metadata": {},
   "outputs": [],
   "source": [
    "fig = run(\"fon\", n_offspring=1, fn_args=(3,), reference=None)"
   ]
  },
  {
   "cell_type": "markdown",
   "metadata": {},
   "source": [
    "## References\n",
    "\n",
    "[Back to top](#top)\n",
    "\n",
    "[1] Zitzler, E., Deb, K., Thiele, L. Comparison of multiobjective evolutionary algorithms: Empirical results. Evolutionary computation, 2000, vol. 8, no 2, p. 173-195.\n",
    "[2] C. Igel, N. Hansen, and S. Roth. Covariance matrix adaptation for multi-objective optimization. Evolutionary Computation, 15(1):1–28, 2007. doi:10.1162/evco.2007.15.1.1."
   ]
  }
 ],
 "metadata": {
  "kernelspec": {
   "display_name": "Python 3",
   "language": "python",
   "name": "python3"
  },
  "language_info": {
   "codemirror_mode": {
    "name": "ipython",
    "version": 3
   },
   "file_extension": ".py",
   "mimetype": "text/x-python",
   "name": "python",
   "nbconvert_exporter": "python",
   "pygments_lexer": "ipython3",
   "version": "3.8.8"
  }
 },
 "nbformat": 4,
 "nbformat_minor": 4
}
