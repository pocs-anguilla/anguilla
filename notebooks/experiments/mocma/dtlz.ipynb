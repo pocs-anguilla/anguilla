{
 "cells": [
  {
   "cell_type": "markdown",
   "metadata": {},
   "source": [
    "<a name=\"top\"></a>\n",
    "## Contents\n",
    "\n",
    "* [Setup](#Setup)\n",
    "* [References](#References)\n",
    "* [DTLZ1](#DTLZ1)\n",
    "* [DTLZ2](#DTLZ2)\n",
    "* [DTLZ3](#DTLZ3)\n",
    "* [DTLZ4](#DTLZ4)\n",
    "* [DTLZ5](#DTLZ5)\n",
    "* [DTLZ6](#DTLZ6)\n",
    "* [DTLZ7](#DTLZ7)"
   ]
  },
  {
   "cell_type": "markdown",
   "metadata": {},
   "source": [
    "<a id=\"top\"></a>"
   ]
  },
  {
   "cell_type": "markdown",
   "metadata": {},
   "source": [
    "## Setup\n",
    "\n",
    "In this notebook, we will run the MOCMA optimizer for functions in the DTLZ benchmark.\n",
    "For these functions, an analytical form of the optimal Pareto front [is known](https://sop.tik.ee.ethz.ch/download/supplementary/testproblems/).\n",
    "\n",
    "For each function, we will run 4 different configurations of the MOCMA optimizer for 5 trials. At each trial the optimizer will stop until a maximum number of iterations is reached or if the target volume (based on the [known maximum hypervolume](https://sop.tik.ee.ethz.ch/download/supplementary/testproblems/) for various population sizes) is surpassed."
   ]
  },
  {
   "cell_type": "code",
   "execution_count": null,
   "metadata": {},
   "outputs": [],
   "source": [
    "import dataclasses\n",
    "\n",
    "import math\n",
    "import numpy as np\n",
    "\n",
    "from anguilla.fitness import benchmark\n",
    "\n",
    "from experiment import TrialParameters, run_trials, population_plot_2d, runtime_summary, volume_summary"
   ]
  },
  {
   "cell_type": "code",
   "execution_count": null,
   "metadata": {},
   "outputs": [],
   "source": [
    "# 1) Configurable global settings\n",
    "\n",
    "# Number of trials\n",
    "N_TRIALS = 5\n",
    "\n",
    "# Number of dimensions\n",
    "N_DIMENSIONS = 30\n",
    "\n",
    "# Number of parents\n",
    "N_PARENTS = 100\n",
    "\n",
    "# For reproducible results we set a base seed to create the seed \n",
    "# sequence used to generate children seeds for each independent trial\n",
    "SEED = 84574962\n",
    "\n",
    "# Maximum number of evaluations to run the optimizer for\n",
    "MAX_EVALUATIONS = 50000\n",
    "\n",
    "# Truncate the maximum known hypervolume value to this number of decimal digits\n",
    "VOLUMES_N_DIGITS = 4\n",
    "\n",
    "# Reference point used for the known maximum hypervolume values\n",
    "REFERENCE = np.array([11., 11.])\n",
    "\n",
    "# 2) Other global values\n",
    "\n",
    "# We store target hypervolumes for each function in the benchmark.\n",
    "\n",
    "VOLUMES = {}\n",
    "VOLUMES[\"dtlz1\"] = {2: 120.750000, 3: 120.812500, 4: 120.833333, 5: 120.843750, 10: 120.861111,\n",
    "                  20: 120.868421, 50: 120.872449, 100: 120.873737, 1000: 120.874875}\n",
    "VOLUMES[\"dtlz2\"] = {2: 120.000000, 3: 120.085786, 4: 120.121585, 5: 120.141536, 10: 120.178966,\n",
    "                   20: 120.196858, 50: 120.207485, 100: 120.210644, 1000: 120.214114}\n",
    "VOLUMES[\"dtlz3\"] = {2: 120.000000, 3: 120.085786, 4: 120.121585, 5: 120.141536, 10: 120.178966,\n",
    "                   20: 120.196858, 50: 120.207485, 100: 120.210643, 1000: 120.214114}\n",
    "VOLUMES[\"dtlz4\"] = {2: 120.000000, 3: 120.085786, 4: 120.121585, 5: 120.141536, 10: 120.178966,\n",
    "                   20: 120.196858, 50: 120.207485, 100: 120.210634, 1000: 120.214114}\n",
    "VOLUMES[\"dtlz7\"] = {2: 112.534293, 3: 114.676857, 4: 115.495800, 5: 115.748424, 10: 115.964708, \n",
    "                   20: 116.045710, 50: 116.089454, 100: 116.101551, 1000: 116.111529}\n",
    "# Helper functions\n",
    "def truncate(value, n_digits=VOLUMES_N_DIGITS):\n",
    "    tmp = 10 ** n_digits\n",
    "    value = math.trunc(value * tmp)\n",
    "    return value / tmp\n",
    "\n",
    "# Store common parameters which are customized using dataclasses.replace\n",
    "def get_base_params(fn_cls, key):\n",
    "    target_volume = None\n",
    "    reference = None\n",
    "    if key in VOLUMES:\n",
    "        target_volume = truncate(VOLUMES[key][N_PARENTS])\n",
    "        reference = REFERENCE\n",
    "\n",
    "    return TrialParameters(\n",
    "                fn_cls,\n",
    "                fn_args=(N_DIMENSIONS,),\n",
    "                n_parents=N_PARENTS,\n",
    "                max_evaluations=MAX_EVALUATIONS,\n",
    "                #target_indicator_value=target_volume,\n",
    "                #reference=reference,\n",
    "            )\n",
    "\n",
    "PARAMETERS = {}\n",
    "PARAMETERS[\"dtlz1\"] = get_base_params(benchmark.DTLZ1, \"dtlz1\")\n",
    "PARAMETERS[\"dtlz2\"] = get_base_params(benchmark.DTLZ2, \"dtlz2\")\n",
    "PARAMETERS[\"dtlz3\"] = get_base_params(benchmark.DTLZ3, \"dtlz3\")\n",
    "PARAMETERS[\"dtlz4\"] = get_base_params(benchmark.DTLZ4, \"dtlz4\")\n",
    "PARAMETERS[\"dtlz5\"] = get_base_params(benchmark.DTLZ5, \"dtlz5\")\n",
    "PARAMETERS[\"dtlz6\"] = get_base_params(benchmark.DTLZ5, \"dtlz6\")\n",
    "PARAMETERS[\"dtlz7\"] = get_base_params(benchmark.DTLZ7, \"dtlz7\")\n",
    "\n",
    "def run(key, **parameter_replacements):\n",
    "    params = dataclasses.replace(PARAMETERS[key], **parameter_replacements)\n",
    "    results = run_trials(params, seed=SEED, n_trials=N_TRIALS)\n",
    "    runtime_summary(results)\n",
    "    volume_summary(results)\n",
    "    return population_plot_2d(results)"
   ]
  },
  {
   "cell_type": "markdown",
   "metadata": {},
   "source": [
    "## DTLZ1\n",
    "[Back to top](#top)"
   ]
  },
  {
   "cell_type": "markdown",
   "metadata": {},
   "source": [
    "### Individual-based"
   ]
  },
  {
   "cell_type": "code",
   "execution_count": null,
   "metadata": {},
   "outputs": [],
   "source": [
    "fig = run(\"dtlz1\", success_notion=\"individual\")"
   ]
  },
  {
   "cell_type": "markdown",
   "metadata": {},
   "source": [
    "### Population-based"
   ]
  },
  {
   "cell_type": "code",
   "execution_count": null,
   "metadata": {},
   "outputs": [],
   "source": [
    "fig = run(\"dtlz1\")"
   ]
  },
  {
   "cell_type": "markdown",
   "metadata": {},
   "source": [
    "### Steady-state, individual-based"
   ]
  },
  {
   "cell_type": "code",
   "execution_count": null,
   "metadata": {},
   "outputs": [],
   "source": [
    "fig = run(\"dtlz1\", success_notion=\"individual\", n_offspring=1)"
   ]
  },
  {
   "cell_type": "markdown",
   "metadata": {},
   "source": [
    "### Steady-state, population-based\n",
    "\n",
    "We observe that the steady-state using the population-based notion of success achieves better distribution than the other 3 variants."
   ]
  },
  {
   "cell_type": "code",
   "execution_count": null,
   "metadata": {},
   "outputs": [],
   "source": [
    "fig = run(\"dtlz1\", n_offspring=1)"
   ]
  },
  {
   "cell_type": "markdown",
   "metadata": {},
   "source": [
    "## DTLZ2\n",
    "[Back to top](#top)"
   ]
  },
  {
   "cell_type": "markdown",
   "metadata": {},
   "source": [
    "### Individual-based"
   ]
  },
  {
   "cell_type": "code",
   "execution_count": null,
   "metadata": {},
   "outputs": [],
   "source": [
    "fig = run(\"dtlz2\", success_notion=\"individual\")"
   ]
  },
  {
   "cell_type": "markdown",
   "metadata": {},
   "source": [
    "### Population-based"
   ]
  },
  {
   "cell_type": "code",
   "execution_count": null,
   "metadata": {},
   "outputs": [],
   "source": [
    "fig = run(\"dtlz2\")"
   ]
  },
  {
   "cell_type": "markdown",
   "metadata": {},
   "source": [
    "### Steady-state, individual-based"
   ]
  },
  {
   "cell_type": "code",
   "execution_count": null,
   "metadata": {},
   "outputs": [],
   "source": [
    "fig = run(\"dtlz2\", success_notion=\"individual\", n_offspring=1)"
   ]
  },
  {
   "cell_type": "markdown",
   "metadata": {},
   "source": [
    "### Steady-state, population-based\n",
    "\n",
    "We observe that the steady-state using the population-based notion of success reaches the target volume faster than the other 3 variants and achieves better distribution."
   ]
  },
  {
   "cell_type": "code",
   "execution_count": null,
   "metadata": {},
   "outputs": [],
   "source": [
    "fig = run(\"dtlz2\", n_offspring=1)"
   ]
  },
  {
   "cell_type": "markdown",
   "metadata": {},
   "source": [
    "## DTLZ3\n",
    "[Back to top](#top)"
   ]
  },
  {
   "cell_type": "markdown",
   "metadata": {},
   "source": [
    "### Individual-based\n",
    "\n",
    "Note: we get negative HV values because we are using $(-11, -11)$ as the reference point and the obtained fronts are outside the bounding box it defines."
   ]
  },
  {
   "cell_type": "code",
   "execution_count": null,
   "metadata": {},
   "outputs": [],
   "source": [
    "fig = run(\"dtlz3\", success_notion=\"individual\")"
   ]
  },
  {
   "cell_type": "markdown",
   "metadata": {},
   "source": [
    "### Population-based"
   ]
  },
  {
   "cell_type": "code",
   "execution_count": null,
   "metadata": {},
   "outputs": [],
   "source": [
    "fig = run(\"dtlz3\", target_indicator_value=None)"
   ]
  },
  {
   "cell_type": "markdown",
   "metadata": {},
   "source": [
    "### Steady-state, individual-based"
   ]
  },
  {
   "cell_type": "code",
   "execution_count": null,
   "metadata": {},
   "outputs": [],
   "source": [
    "fig = run(\"dtlz3\", success_notion=\"individual\", n_offspring=1, reference=None, target_indicator_value=None)"
   ]
  },
  {
   "cell_type": "markdown",
   "metadata": {},
   "source": [
    "### Steady-state, population-based"
   ]
  },
  {
   "cell_type": "code",
   "execution_count": null,
   "metadata": {},
   "outputs": [],
   "source": [
    "fig = run(\"dtlz3\", n_offspring=1, reference=None, target_indicator_value=None)"
   ]
  },
  {
   "cell_type": "markdown",
   "metadata": {},
   "source": [
    "## DTLZ4\n",
    "[Back to top](#top)"
   ]
  },
  {
   "cell_type": "markdown",
   "metadata": {},
   "source": [
    "### Individual-based"
   ]
  },
  {
   "cell_type": "code",
   "execution_count": null,
   "metadata": {},
   "outputs": [],
   "source": [
    "fig = run(\"dtlz4\", success_notion=\"individual\")"
   ]
  },
  {
   "cell_type": "markdown",
   "metadata": {},
   "source": [
    "### Population-based"
   ]
  },
  {
   "cell_type": "code",
   "execution_count": null,
   "metadata": {},
   "outputs": [],
   "source": [
    "fig = run(\"dtlz4\")"
   ]
  },
  {
   "cell_type": "markdown",
   "metadata": {},
   "source": [
    "### Steady-state, individual-based"
   ]
  },
  {
   "cell_type": "code",
   "execution_count": null,
   "metadata": {},
   "outputs": [],
   "source": [
    "fig = run(\"dtlz4\", success_notion=\"individual\", n_offspring=1)"
   ]
  },
  {
   "cell_type": "markdown",
   "metadata": {},
   "source": [
    "### Steady-state, population-based"
   ]
  },
  {
   "cell_type": "code",
   "execution_count": null,
   "metadata": {},
   "outputs": [],
   "source": [
    "fig = run(\"dtlz4\", n_offspring=1)"
   ]
  },
  {
   "cell_type": "markdown",
   "metadata": {},
   "source": [
    "## DTLZ5\n",
    "[Back to top](#top)"
   ]
  },
  {
   "cell_type": "markdown",
   "metadata": {},
   "source": [
    "### Individual-based"
   ]
  },
  {
   "cell_type": "code",
   "execution_count": null,
   "metadata": {},
   "outputs": [],
   "source": [
    "fig = run(\"dtlz5\", success_notion=\"individual\")"
   ]
  },
  {
   "cell_type": "markdown",
   "metadata": {},
   "source": [
    "### Population-based"
   ]
  },
  {
   "cell_type": "code",
   "execution_count": null,
   "metadata": {},
   "outputs": [],
   "source": [
    "fig = run(\"dtlz5\")"
   ]
  },
  {
   "cell_type": "markdown",
   "metadata": {},
   "source": [
    "### Steady-state, individual-based"
   ]
  },
  {
   "cell_type": "code",
   "execution_count": null,
   "metadata": {},
   "outputs": [],
   "source": [
    "fig = run(\"dtlz5\", success_notion=\"individual\", n_offspring=1)"
   ]
  },
  {
   "cell_type": "markdown",
   "metadata": {},
   "source": [
    "### Steady-state, population-based"
   ]
  },
  {
   "cell_type": "code",
   "execution_count": null,
   "metadata": {},
   "outputs": [],
   "source": [
    "fig = run(\"dtlz5\", n_offspring=1)"
   ]
  },
  {
   "cell_type": "markdown",
   "metadata": {},
   "source": [
    "## DTLZ6\n",
    "[Back to top](#top)"
   ]
  },
  {
   "cell_type": "markdown",
   "metadata": {},
   "source": [
    "### Individual-based"
   ]
  },
  {
   "cell_type": "code",
   "execution_count": null,
   "metadata": {},
   "outputs": [],
   "source": [
    "fig = run(\"dtlz6\", success_notion=\"individual\")"
   ]
  },
  {
   "cell_type": "markdown",
   "metadata": {},
   "source": [
    "### Population-based"
   ]
  },
  {
   "cell_type": "code",
   "execution_count": null,
   "metadata": {},
   "outputs": [],
   "source": [
    "fig = run(\"dtlz6\")"
   ]
  },
  {
   "cell_type": "markdown",
   "metadata": {},
   "source": [
    "### Steady-state, individual-based"
   ]
  },
  {
   "cell_type": "code",
   "execution_count": null,
   "metadata": {},
   "outputs": [],
   "source": [
    "fig = run(\"dtlz6\", success_notion=\"individual\", n_offspring=1)"
   ]
  },
  {
   "cell_type": "markdown",
   "metadata": {},
   "source": [
    "### Steady-state, population-based"
   ]
  },
  {
   "cell_type": "code",
   "execution_count": null,
   "metadata": {},
   "outputs": [],
   "source": [
    "fig = run(\"dtlz6\", n_offspring=1)"
   ]
  },
  {
   "cell_type": "markdown",
   "metadata": {},
   "source": [
    "## DTLZ7\n",
    "[Back to top](#top)"
   ]
  },
  {
   "cell_type": "markdown",
   "metadata": {},
   "source": [
    "### Individual-based"
   ]
  },
  {
   "cell_type": "code",
   "execution_count": null,
   "metadata": {},
   "outputs": [],
   "source": [
    "fig = run(\"dtlz7\", success_notion=\"individual\")"
   ]
  },
  {
   "cell_type": "markdown",
   "metadata": {},
   "source": [
    "### Population-based"
   ]
  },
  {
   "cell_type": "code",
   "execution_count": null,
   "metadata": {},
   "outputs": [],
   "source": [
    "fig = run(\"dtlz7\")"
   ]
  },
  {
   "cell_type": "markdown",
   "metadata": {},
   "source": [
    "### Steady-state, individual-based"
   ]
  },
  {
   "cell_type": "code",
   "execution_count": null,
   "metadata": {},
   "outputs": [],
   "source": [
    "fig = run(\"dtlz7\", success_notion=\"individual\", n_offspring=1)"
   ]
  },
  {
   "cell_type": "markdown",
   "metadata": {},
   "source": [
    "### Steady-state, population-based"
   ]
  },
  {
   "cell_type": "code",
   "execution_count": null,
   "metadata": {},
   "outputs": [],
   "source": [
    "fig = run(\"dtlz7\", n_offspring=1)"
   ]
  },
  {
   "cell_type": "markdown",
   "metadata": {},
   "source": [
    "## References\n",
    "[Back to top](#top)\n",
    "\n",
    "[1] Deb, K., et al. Scalable multi-objective optimization test problems. In Proceedings of the 2002 Congress on Evolutionary Computation. CEC'02 (Cat. No. 02TH8600). IEEE, 2002. p. 825-830."
   ]
  }
 ],
 "metadata": {
  "kernelspec": {
   "display_name": "Python 3",
   "language": "python",
   "name": "python3"
  },
  "language_info": {
   "codemirror_mode": {
    "name": "ipython",
    "version": 3
   },
   "file_extension": ".py",
   "mimetype": "text/x-python",
   "name": "python",
   "nbconvert_exporter": "python",
   "pygments_lexer": "ipython3",
   "version": "3.8.8"
  }
 },
 "nbformat": 4,
 "nbformat_minor": 4
}
