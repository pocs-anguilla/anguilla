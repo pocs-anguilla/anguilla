{
 "cells": [
  {
   "cell_type": "markdown",
   "id": "facial-casino",
   "metadata": {},
   "source": [
    "## Basic setup"
   ]
  },
  {
   "cell_type": "markdown",
   "id": "twenty-cassette",
   "metadata": {},
   "source": [
    "To install the library, we can use either `PyPI` or `Conda`:\n",
    "\n",
    "````bash\n",
    "    # Note this is an alternative to the official repository.\n",
    "    # It will be uploaded to the official PyPI repository.\n",
    "    pip install -i https://test.pypi.org/simple/ anguilla \n",
    "````"
   ]
  },
  {
   "cell_type": "markdown",
   "id": "grave-confidence",
   "metadata": {},
   "source": [
    "We then import the required libraries."
   ]
  },
  {
   "cell_type": "code",
   "execution_count": null,
   "id": "accompanied-hollow",
   "metadata": {},
   "outputs": [],
   "source": [
    "import numpy as np\n",
    "\n",
    "from anguilla.fitness import benchmark\n",
    "from anguilla.optimizers.mocma import MOCMA"
   ]
  },
  {
   "cell_type": "markdown",
   "id": "narrow-module",
   "metadata": {},
   "source": [
    "We set up a seed for reproducibility of the results."
   ]
  },
  {
   "cell_type": "code",
   "execution_count": null,
   "id": "juvenile-significance",
   "metadata": {},
   "outputs": [],
   "source": [
    "seed = 54545\n",
    "rng = np.random.default_rng(seed)"
   ]
  },
  {
   "cell_type": "markdown",
   "id": "adequate-adventure",
   "metadata": {},
   "source": [
    "## Instantiating a benchmark function"
   ]
  },
  {
   "cell_type": "markdown",
   "id": "greek-proposal",
   "metadata": {},
   "source": [
    "To run the optimizer we need a function to optimize.\n",
    "\n",
    "The library provides implementations of functions from various benchmarks used in MOO.\n",
    "For this tutorial we will use the DTLZ1$: \\mathbb{R}^{30} \\mapsto \\mathbb{R}^3$ benchmark function."
   ]
  },
  {
   "cell_type": "code",
   "execution_count": null,
   "id": "increased-million",
   "metadata": {},
   "outputs": [],
   "source": [
    "n_dimensions = 30\n",
    "n_objectives = 3\n",
    "fn = benchmark.DTLZ1(n_dimensions, n_objectives, rng=rng)"
   ]
  },
  {
   "cell_type": "markdown",
   "id": "clean-abortion",
   "metadata": {},
   "source": [
    "## Instanting the optimizer"
   ]
  },
  {
   "cell_type": "markdown",
   "id": "imperial-subdivision",
   "metadata": {},
   "source": [
    "The optimizer infers the number of parents, dimensions and objectives\n",
    "from the initial parent_point and parent_fitness arrays we pass its constructor \n",
    "at instantiation."
   ]
  },
  {
   "cell_type": "code",
   "execution_count": null,
   "id": "authorized-belfast",
   "metadata": {},
   "outputs": [],
   "source": [
    "n_parents = 100\n",
    "parent_points = fn.random_points(n_parents)\n",
    "parent_fitness = fn(parent_points)"
   ]
  },
  {
   "cell_type": "markdown",
   "id": "peaceful-recipe",
   "metadata": {},
   "source": [
    "We can omit providing a value for `n_offspring` when instantiating the optimizer.\n",
    "If `n_parents = 100`, then we would've be constructing an instance of $(100+100)$-MOCMA-ES \n",
    "If we'd like to use the steady-state variant, i.e $(100+1)-MOCMA-ES\n",
    "Then we need to set `n_offspring=1`."
   ]
  },
  {
   "cell_type": "code",
   "execution_count": null,
   "id": "designing-saturn",
   "metadata": {},
   "outputs": [],
   "source": [
    "n_offspring = 100"
   ]
  },
  {
   "cell_type": "markdown",
   "id": "saving-framing",
   "metadata": {},
   "source": [
    "We are ready to instantiate the MOCMA optimizer.\n",
    "Note that we need to specify at least one stopping condition,\n",
    "in this case we restrict the number of function evaluations by\n",
    "setting `max_evaluations=50000`. Other stopping conditions are\n",
    "`max_generations` and `target_indicator_value` (which requires providing a reference point)."
   ]
  },
  {
   "cell_type": "code",
   "execution_count": null,
   "id": "caring-angle",
   "metadata": {},
   "outputs": [],
   "source": [
    "optimizer = MOCMA(parent_points,\n",
    "                  parent_fitness,\n",
    "                  n_offspring=n_offspring,\n",
    "                  rng=rng,\n",
    "                  max_evaluations=50000,\n",
    "                 )"
   ]
  },
  {
   "cell_type": "markdown",
   "id": "minute-responsibility",
   "metadata": {},
   "source": [
    "To pass a reference point, we would've done the following:\n",
    "\n",
    "```python\n",
    "our_reference_point = None\n",
    "optimizer.indicator.reference = our_reference_point\n",
    "```"
   ]
  },
  {
   "cell_type": "markdown",
   "id": "offshore-utility",
   "metadata": {},
   "source": [
    "## The `fmin` interface"
   ]
  },
  {
   "cell_type": "markdown",
   "id": "viral-victorian",
   "metadata": {},
   "source": [
    "Now, to optimize we can simply call the `fmin` method on the optimizer instance:"
   ]
  },
  {
   "cell_type": "code",
   "execution_count": null,
   "id": "finite-upper",
   "metadata": {},
   "outputs": [],
   "source": [
    "result = optimizer.fmin(fn)"
   ]
  },
  {
   "cell_type": "markdown",
   "id": "applicable-internship",
   "metadata": {},
   "source": [
    "The optimizer returns an instance of `OptimizerResult`, which contains both the solution and the stopping conditions that were triggered.\n",
    "\n",
    "We can access the approximated Pareto set and front by:\n",
    "\n",
    "```python\n",
    "pareto_set = result.solution.points\n",
    "pareto_front = result.solution.fitness\n",
    "```\n",
    "\n",
    "We can inspect which condition(s) triggered the stop by:\n",
    "    \n",
    "```python\n",
    "result.stopping_conditions\n",
    "```"
   ]
  },
  {
   "cell_type": "markdown",
   "id": "veterinary-bahrain",
   "metadata": {},
   "source": [
    "## The `ask` and `tell` interface"
   ]
  },
  {
   "cell_type": "markdown",
   "id": "metallic-harvey",
   "metadata": {},
   "source": [
    "An alternative interface, called the ask-and-tell interface, allows for decoupled\n",
    "execution between calls to the optimizer and the function.\n",
    "The `fmin` implementation uses the ask-and-tell interface under the hood.\n",
    "\n",
    "The `ask` method generates new search points (offspring) by using mutation\n",
    "operators on the parent population.\n",
    "\n",
    "The `tell` method is used to inform the optimizer about the fitness of these\n",
    "new points. It then performs environmental selection to produce the new parent population.\n",
    "\n",
    "When could we need to use this interface? Say, for example, that we want to checkpoint solutions every `5000` function evaluations:"
   ]
  },
  {
   "cell_type": "code",
   "execution_count": null,
   "id": "average-projector",
   "metadata": {},
   "outputs": [],
   "source": [
    "while not optimizer.stop.triggered:\n",
    "    points = optimizer.ask()\n",
    "    if fn.has_constraints:\n",
    "        fitness, penalized_fitness = fn.evaluate_with_penalty(points)\n",
    "        optimizer.tell(fitness, penalized_fitness)\n",
    "    else:\n",
    "        fitness = fn(points)\n",
    "        optimizer.tell(fitness)\n",
    "    if optimizer.evaluation_count % 5000:\n",
    "        # Access current Pareto front approximation\n",
    "        # and save it to a file\n",
    "        np.savetxt(f\"./output/fitness-{optimizer.evaluation_count}.csv\",\n",
    "                   optimizer.best.fitness,\n",
    "                  )"
   ]
  },
  {
   "cell_type": "markdown",
   "id": "valuable-vertex",
   "metadata": {},
   "source": [
    "Note that we treated constrained functions a bit differently in the above example.\n",
    "This is because we should penalize search points that violate any constraints.\n",
    "To inform the optimizer about this, you can pass the penalized fitness.\n",
    "\n",
    "In the example above you've could also done:\n",
    "\n",
    "```python\n",
    "fitness = fn.evaluate_with_penalty(points)\n",
    "optimizer.tell(*fitness)\n",
    "```\n",
    "\n",
    "In addition, some functions are noisy. Usually, these functions are evaluated multiple times \n",
    "and an average of their fitness is reported to the optimizer. This takes more our the function evaluations\n",
    "budget we may define as a stopping condition. To inform the optimizer about this, we could do:\n",
    "\n",
    "```python\n",
    "    for i in range(n_repetitions):\n",
    "        fitness[i] = noisy_function(point)\n",
    "    optimizer.tell(np.average(fitness, axis=0), evaluation_count=n_evaluations) \n",
    "```"
   ]
  },
  {
   "cell_type": "markdown",
   "id": "established-kruger",
   "metadata": {},
   "source": [
    "After the optimizer finishes the optimization run, we can get the solution by:"
   ]
  },
  {
   "cell_type": "code",
   "execution_count": null,
   "id": "magnetic-lodge",
   "metadata": {},
   "outputs": [],
   "source": [
    "solution = optimizer.best"
   ]
  },
  {
   "cell_type": "markdown",
   "id": "active-program",
   "metadata": {},
   "source": [
    "## References\n",
    "\n",
    "Pending"
   ]
  }
 ],
 "metadata": {
  "kernelspec": {
   "display_name": "Python 3",
   "language": "python",
   "name": "python3"
  },
  "language_info": {
   "codemirror_mode": {
    "name": "ipython",
    "version": 3
   },
   "file_extension": ".py",
   "mimetype": "text/x-python",
   "name": "python",
   "nbconvert_exporter": "python",
   "pygments_lexer": "ipython3",
   "version": "3.8.6"
  }
 },
 "nbformat": 4,
 "nbformat_minor": 5
}
