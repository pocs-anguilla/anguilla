{
 "cells": [
  {
   "cell_type": "markdown",
   "id": "popular-carter",
   "metadata": {},
   "source": [
    "## Contents\n",
    "\n",
    "* [Setup](#Setup)\n",
    "* [References](#References)\n",
    "\n",
    "## Setup\n",
    "\n",
    "In this notebook, we generate the experimental data required to carry out the statistical evaluation described in [1].\n",
    "The data is logged into CSV files which will be later used when comparing the different MOCMA variants."
   ]
  },
  {
   "cell_type": "code",
   "execution_count": null,
   "id": "violent-optimum",
   "metadata": {},
   "outputs": [],
   "source": [
    "!pip install py-cpuinfo"
   ]
  },
  {
   "cell_type": "code",
   "execution_count": null,
   "id": "superior-survival",
   "metadata": {},
   "outputs": [],
   "source": [
    "import os\n",
    "import dataclasses\n",
    "from itertools import product\n",
    "\n",
    "import numpy as np\n",
    "from IPython.display import Markdown\n",
    "from cpuinfo import get_cpu_info\n",
    "\n",
    "from anguilla.fitness import benchmark\n",
    "\n",
    "from anguilla.evaluation import StopWatch, MOCMATrialParameters, LogParameters, log_mocma_trials"
   ]
  },
  {
   "cell_type": "code",
   "execution_count": null,
   "id": "million-pension",
   "metadata": {},
   "outputs": [],
   "source": [
    "cpu_info = get_cpu_info()\n",
    "cpu_info = \"{}, {} cores\".format(cpu_info['brand_raw'], cpu_info['count'])"
   ]
  },
  {
   "cell_type": "code",
   "execution_count": null,
   "id": "sudden-kinase",
   "metadata": {},
   "outputs": [],
   "source": [
    "# Search space dimension for both constrained and non-rotated benchmark functions is 30.\n",
    "\n",
    "D_CONSTRAINED_NONROTATED = 30\n",
    "\n",
    "# Search space dimension for rotated benchmark functions is 10.\n",
    "\n",
    "D_ROTATED = 10\n",
    "\n",
    "N_PARENTS = 100\n",
    "\n",
    "N_TRIALS = 25\n",
    "\n",
    "# The cartesian product of the following three global variables represents the space of \n",
    "# configured MOCMA-Benchmark function pairs for which we need to run N_TRIALS each\n",
    "\n",
    "# We put the explicit expressions to compute the initial step size \n",
    "# for constrained functions as in p. 489 [1].\n",
    "FUNCTIONS = [\n",
    "    (benchmark.ZDT1, [D_CONSTRAINED_NONROTATED], None, 0.6 * (1.0 - 0.0)),\n",
    "    (benchmark.ZDT2, [D_CONSTRAINED_NONROTATED], None, 0.6 * (1.0 - 0.0)),\n",
    "    (benchmark.ZDT3, [D_CONSTRAINED_NONROTATED], None, 0.6 * (1.0 - 0.0)),\n",
    "    (benchmark.ZDT4, [D_CONSTRAINED_NONROTATED], None, 0.6 * (1.0 - 0.0)),\n",
    "    (benchmark.ZDT6, [D_CONSTRAINED_NONROTATED], None, 0.6 * (1.0 - 0.0)),\n",
    "    (benchmark.IHR1, [D_ROTATED], None, 0.6 * (1.0 - -1.0)),\n",
    "    (benchmark.IHR2, [D_ROTATED], None, 0.6 * (1.0 - -1.0)),\n",
    "    (benchmark.IHR3, [D_ROTATED], None, 0.6 * (1.0 - -1.0)),\n",
    "    (benchmark.IHR4, [D_ROTATED], None, 0.6 * (5.0 - -5.0)),\n",
    "    (benchmark.IHR6, [D_ROTATED], None, 0.6 * (5.0 - -5.0)),\n",
    "    (benchmark.ELLI1, [D_ROTATED], {'a':1e3}, 1.0),\n",
    "    (benchmark.ELLI2, [D_ROTATED], {'a':1e3}, 1.0),\n",
    "    (benchmark.CIGTAB1, [D_ROTATED], {'a':1e3}, 1.0),\n",
    "    (benchmark.CIGTAB2, [D_ROTATED], {'a':1e3}, 1.0),\n",
    "    (benchmark.DTLZ1, [D_CONSTRAINED_NONROTATED, 3], None, 0.6 * (1.0 - 0.0)),\n",
    "    (benchmark.DTLZ2, [D_CONSTRAINED_NONROTATED, 3], None, 0.6 * (1.0 - 0.0)),\n",
    "    (benchmark.DTLZ3, [D_CONSTRAINED_NONROTATED, 3], None, 0.6 * (1.0 - 0.0)),\n",
    "    (benchmark.DTLZ4, [D_CONSTRAINED_NONROTATED, 3], None, 0.6 * (1.0 - 0.0)),\n",
    "    (benchmark.DTLZ5, [D_CONSTRAINED_NONROTATED, 3], None, 0.6 * (1.0 - 0.0)),\n",
    "    (benchmark.DTLZ6, [D_CONSTRAINED_NONROTATED, 3], None, 0.6 * (1.0 - 0.0)),\n",
    "    (benchmark.DTLZ7, [D_CONSTRAINED_NONROTATED, 3], None, 0.6 * (1.0 - 0.0)),\n",
    "    (benchmark.GELLI, [D_ROTATED, 3], None, 1.0),\n",
    "]\n",
    "\n",
    "# These next two global variables define the 4 MOCMA variants we will evaluate\n",
    "\n",
    "OPTIMIZER_PARENT_OFFSPRING = [\n",
    "    (100, 100),\n",
    "    (100, 1),\n",
    "]\n",
    "\n",
    "OPTIMIZER_SUCCESS_NOTION = [\n",
    "    \"population\",\n",
    "    \"individual\",\n",
    "]\n",
    "\n",
    "# Generate the trial parameters for each job\n",
    "TRIAL_PARAMETERS = []\n",
    "for configuration in product(FUNCTIONS, OPTIMIZER_PARENT_OFFSPRING, OPTIMIZER_SUCCESS_NOTION):\n",
    "    (fn_cls, fn_args, fn_kwargs, initial_step_size), (n_parents, n_offspring), success_notion = configuration\n",
    "    TRIAL_PARAMETERS.append(\n",
    "        MOCMATrialParameters(\n",
    "            fn_cls,\n",
    "            fn_args=fn_args,\n",
    "            fn_kwargs=fn_kwargs,\n",
    "            n_parents=n_parents,\n",
    "            n_offspring=n_offspring,\n",
    "            success_notion=success_notion,\n",
    "            initial_step_size=initial_step_size,\n",
    "        )\n",
    "    )\n",
    "\n",
    "# For reproducible results we set a base seed to create the seed \n",
    "# sequence used to generate children seeds for each independent trial\n",
    "SEED = 90508458\n",
    "\n",
    "# We want to checkpoint the best solutions at every 5000 iterations\n",
    "LOG_PARAMETERS = LogParameters(\"./output/logs\",\n",
    "                               log_at=np.arange(5000, 55000, 5000, dtype=int).tolist(),\n",
    "                               log_fitness=True,\n",
    "                               log_points=False,\n",
    "                               log_step_sizes=True,\n",
    "                               cpu_info=cpu_info,\n",
    "                              )"
   ]
  },
  {
   "cell_type": "code",
   "execution_count": null,
   "id": "rotary-toddler",
   "metadata": {},
   "outputs": [],
   "source": [
    "Markdown(\"\"\"We run **{}** independent optimization trials for each of the **{}** optimizer-function pairs, which totals **{}** jobs.\n",
    "            We sample 2 files every **{}** function evaluations (one file for the fitness and another one for the step sizes), \n",
    "            generating a total of **{}** CSV files.\"\"\".format(\n",
    "    N_TRIALS,\n",
    "    len(TRIAL_PARAMETERS),\n",
    "    N_TRIALS * len(TRIAL_PARAMETERS),\n",
    "    LOG_PARAMETERS.log_at[1] - LOG_PARAMETERS.log_at[0], \n",
    "    N_TRIALS * len(TRIAL_PARAMETERS) * len(LOG_PARAMETERS.log_at) * 2,\n",
    "))"
   ]
  },
  {
   "cell_type": "code",
   "execution_count": null,
   "id": "accessory-poison",
   "metadata": {},
   "outputs": [],
   "source": [
    "n = (N_TRIALS * len(TRIAL_PARAMETERS)) // 4"
   ]
  },
  {
   "cell_type": "code",
   "execution_count": null,
   "id": "close-shakespeare",
   "metadata": {},
   "outputs": [],
   "source": [
    "sw = StopWatch()\n",
    "sw.start()\n",
    "log_mocma_trials(dataclasses.replace(LOG_PARAMETERS, path=\"./output/logs-part1\"),\n",
    "           TRIAL_PARAMETERS,\n",
    "           # If we partition with slices we can distribute the load between\n",
    "           # multiple computers\n",
    "           trial_slice=slice(0, n),\n",
    "           seed=SEED,\n",
    "           n_trials=N_TRIALS,\n",
    "           n_processes=os.cpu_count(),\n",
    "           chunksize=10,\n",
    "          )\n",
    "sw.stop()\n",
    "print(f\"Done! Took {sw.duration:.2f}s\")"
   ]
  },
  {
   "cell_type": "code",
   "execution_count": null,
   "id": "chubby-allowance",
   "metadata": {},
   "outputs": [],
   "source": [
    "sw = StopWatch()\n",
    "sw.start()\n",
    "log_mocma_trials(dataclasses.replace(LOG_PARAMETERS, path=\"./output/logs-part2\"),\n",
    "           TRIAL_PARAMETERS,\n",
    "           trial_slice=slice(n, n*2),\n",
    "           seed=SEED,\n",
    "           n_trials=N_TRIALS,\n",
    "           n_processes=os.cpu_count(),\n",
    "           chunksize=10,\n",
    "          )\n",
    "sw.stop()\n",
    "print(f\"Done! Took {sw.duration:.2f}s\")"
   ]
  },
  {
   "cell_type": "code",
   "execution_count": null,
   "id": "nuclear-labor",
   "metadata": {},
   "outputs": [],
   "source": [
    "sw = StopWatch()\n",
    "sw.start()\n",
    "log_mocma_trials(dataclasses.replace(LOG_PARAMETERS, path=\"./output/logs-part3\"),\n",
    "           TRIAL_PARAMETERS,\n",
    "           trial_slice=slice(n*2, n*3),\n",
    "           seed=SEED,\n",
    "           n_trials=N_TRIALS,\n",
    "           n_processes=os.cpu_count(),\n",
    "           chunksize=10,\n",
    "          )\n",
    "sw.stop()\n",
    "print(f\"Done! Took {sw.duration:.2f}s\")"
   ]
  },
  {
   "cell_type": "code",
   "execution_count": null,
   "id": "immune-breeding",
   "metadata": {},
   "outputs": [],
   "source": [
    "sw = StopWatch()\n",
    "sw.start()\n",
    "log_mocma_trials(dataclasses.replace(LOG_PARAMETERS, path=\"./output/logs-part4\"),\n",
    "           TRIAL_PARAMETERS,\n",
    "           trial_slice=slice(n*3, n*4),\n",
    "           seed=SEED,\n",
    "           n_trials=N_TRIALS,\n",
    "           n_processes=os.cpu_count(),\n",
    "           chunksize=10,\n",
    "          )\n",
    "sw.stop()\n",
    "print(f\"Done! Took {sw.duration:.2f}s\")"
   ]
  },
  {
   "cell_type": "markdown",
   "id": "comprehensive-orange",
   "metadata": {},
   "source": [
    "## References\n",
    "\n",
    "[1] T. Voß, N. Hansen, and C. Igel. Improved Step Size Adaptation for the MO-CMA-ES. In Genetic And Evolutionary Computation Conference, 487–494. Portland, United States, July 2010. ACM. URL: https://hal.archives-ouvertes.fr/hal-00503251, doi:10.1145/1830483.1830573.\n",
    "\n",
    "[2] C. Igel, N. Hansen, and S. Roth. Covariance matrix adaptation for multi-objective optimization. Evolutionary Computation, 15(1):1–28, 2007. doi:10.1162/evco.2007.15.1.1."
   ]
  }
 ],
 "metadata": {
  "kernelspec": {
   "display_name": "Python 3",
   "language": "python",
   "name": "python3"
  },
  "language_info": {
   "codemirror_mode": {
    "name": "ipython",
    "version": 3
   },
   "file_extension": ".py",
   "mimetype": "text/x-python",
   "name": "python",
   "nbconvert_exporter": "python",
   "pygments_lexer": "ipython3",
   "version": "3.8.6"
  }
 },
 "nbformat": 4,
 "nbformat_minor": 5
}
