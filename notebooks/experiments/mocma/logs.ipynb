{
 "cells": [
  {
   "cell_type": "markdown",
   "id": "circular-fellow",
   "metadata": {},
   "source": [
    "## Contents\n",
    "\n",
    "* [Setup](#Setup)\n",
    "* [References](#References)\n",
    "\n",
    "## Setup\n",
    "\n",
    "In this notebook, we generate the experimental data required to carry out the statistical evaluation described in [1].\n",
    "The data is logged into CSV files which will be later used when comparing the different MOCMA variants."
   ]
  },
  {
   "cell_type": "code",
   "execution_count": 1,
   "id": "selected-livestock",
   "metadata": {},
   "outputs": [],
   "source": [
    "import os\n",
    "import dataclasses\n",
    "from itertools import product\n",
    "\n",
    "import numpy as np\n",
    "from IPython.display import Markdown\n",
    "\n",
    "from anguilla.fitness import benchmark\n",
    "\n",
    "from anguilla.evaluation import StopWatch, MOCMATrialParameters, LogParameters, log_mocma_trials"
   ]
  },
  {
   "cell_type": "code",
   "execution_count": 2,
   "id": "received-invalid",
   "metadata": {},
   "outputs": [
    {
     "name": "stdout",
     "output_type": "stream",
     "text": [
      "8 processors\n"
     ]
    }
   ],
   "source": [
    "print(f\"{os.cpu_count()} processors\")"
   ]
  },
  {
   "cell_type": "code",
   "execution_count": 3,
   "id": "owned-rates",
   "metadata": {},
   "outputs": [],
   "source": [
    "# Search space dimension for both constrained and non-rotated benchmark functions is 30.\n",
    "\n",
    "D_CONSTRAINED_NONROTATED = 30\n",
    "\n",
    "# Search space dimension for rotated benchmark functions is 10.\n",
    "\n",
    "D_ROTATED = 10\n",
    "\n",
    "N_PARENTS = 100\n",
    "\n",
    "N_TRIALS = 25\n",
    "\n",
    "# The cartesian product of the following three global variables represents the space of \n",
    "# configured MOCMA-Benchmark function pairs for which we need to run N_TRIALS each\n",
    "\n",
    "# We put the explicit expressions to compute the initial step size \n",
    "# for constrained functions as in p. 489 [1].\n",
    "FUNCTIONS = [\n",
    "    (benchmark.ZDT1, [D_CONSTRAINED_NONROTATED], 0.6 * (1.0 - 0.0)),\n",
    "    (benchmark.ZDT2, [D_CONSTRAINED_NONROTATED], 0.6 * (1.0 - 0.0)),\n",
    "    (benchmark.ZDT3, [D_CONSTRAINED_NONROTATED], 0.6 * (1.0 - 0.0)),\n",
    "    (benchmark.ZDT4, [D_CONSTRAINED_NONROTATED], 0.6 * (1.0 - 0.0)),\n",
    "    (benchmark.ZDT6, [D_CONSTRAINED_NONROTATED], 0.6 * (1.0 - 0.0)),\n",
    "    (benchmark.IHR1, [D_ROTATED], 0.6 * (1.0 - -1.0)),\n",
    "    (benchmark.IHR2, [D_ROTATED], 0.6 * (1.0 - -1.0)),\n",
    "    (benchmark.IHR3, [D_ROTATED], 0.6 * (1.0 - -1.0)),\n",
    "    (benchmark.IHR4, [D_ROTATED], 0.6 * (5.0 - -5.0)),\n",
    "    (benchmark.IHR6, [D_ROTATED], 0.6 * (5.0 - -5.0)),\n",
    "    (benchmark.ELLI1, [D_ROTATED], 1.0),\n",
    "    (benchmark.ELLI2, [D_ROTATED], 1.0),\n",
    "    (benchmark.CIGTAB1, [D_ROTATED], 1.0),\n",
    "    (benchmark.CIGTAB2, [D_ROTATED], 1.0),\n",
    "    (benchmark.DTLZ1, [D_CONSTRAINED_NONROTATED, 3], 0.6 * (1.0 - 0.0)),\n",
    "    (benchmark.DTLZ2, [D_CONSTRAINED_NONROTATED, 3], 0.6 * (1.0 - 0.0)),\n",
    "    (benchmark.DTLZ3, [D_CONSTRAINED_NONROTATED, 3], 0.6 * (1.0 - 0.0)),\n",
    "    (benchmark.DTLZ4, [D_CONSTRAINED_NONROTATED, 3], 0.6 * (1.0 - 0.0)),\n",
    "    (benchmark.DTLZ5, [D_CONSTRAINED_NONROTATED, 3], 0.6 * (1.0 - 0.0)),\n",
    "    (benchmark.DTLZ6, [D_CONSTRAINED_NONROTATED, 3], 0.6 * (1.0 - 0.0)),\n",
    "    (benchmark.DTLZ7, [D_CONSTRAINED_NONROTATED, 3], 0.6 * (1.0 - 0.0)),\n",
    "    (benchmark.GELLI, [D_ROTATED, 3], 1.0),\n",
    "]\n",
    "\n",
    "# These next two global variables define the 4 MOCMA variants we will evaluate\n",
    "\n",
    "OPTIMIZER_PARENT_OFFSPRING = [\n",
    "    (100, 100),\n",
    "    (100, 1),\n",
    "]\n",
    "\n",
    "OPTIMIZER_SUCCESS_NOTION = [\n",
    "    \"population\",\n",
    "    \"individual\",\n",
    "]\n",
    "\n",
    "# Generate the trial parameters for each job\n",
    "TRIAL_PARAMETERS = []\n",
    "for configuration in product(FUNCTIONS, OPTIMIZER_PARENT_OFFSPRING, OPTIMIZER_SUCCESS_NOTION):\n",
    "    (fn_cls, fn_args, initial_step_size), (n_parents, n_offspring), success_notion = configuration\n",
    "    TRIAL_PARAMETERS.append(\n",
    "        MOCMATrialParameters(\n",
    "            fn_cls,\n",
    "            fn_args=fn_args,\n",
    "            n_parents=n_parents,\n",
    "            n_offspring=n_offspring,\n",
    "            success_notion=success_notion,\n",
    "            initial_step_size=initial_step_size,\n",
    "        )\n",
    "    )\n",
    "\n",
    "# For reproducible results we set a base seed to create the seed \n",
    "# sequence used to generate children seeds for each independent trial\n",
    "SEED = 90508458\n",
    "\n",
    "# We want to checkpoint the best solutions at every 5000 iterations\n",
    "LOG_PARAMETERS = LogParameters(\"./output/logs\",\n",
    "                               log_at=np.arange(5000, 55000, 5000, dtype=int).tolist(),\n",
    "                               log_fitness=True,\n",
    "                               log_points=False,\n",
    "                               log_step_sizes=True,\n",
    "                              )"
   ]
  },
  {
   "cell_type": "code",
   "execution_count": 4,
   "id": "essential-portuguese",
   "metadata": {},
   "outputs": [
    {
     "data": {
      "text/markdown": [
       "We need to run 25 independent trials for each of the 88 pairs, which totals 2200 jobs."
      ],
      "text/plain": [
       "<IPython.core.display.Markdown object>"
      ]
     },
     "execution_count": 4,
     "metadata": {},
     "output_type": "execute_result"
    }
   ],
   "source": [
    "Markdown(\"We need to run {} independent trials for each of the {} pairs, which totals {} jobs.\".format(\n",
    "    N_TRIALS,\n",
    "    len(TRIAL_PARAMETERS),\n",
    "    N_TRIALS * len(TRIAL_PARAMETERS)\n",
    "))"
   ]
  },
  {
   "cell_type": "code",
   "execution_count": 5,
   "id": "neutral-impression",
   "metadata": {},
   "outputs": [],
   "source": [
    "n = (N_TRIALS * len(TRIAL_PARAMETERS)) // 4"
   ]
  },
  {
   "cell_type": "code",
   "execution_count": null,
   "id": "pressing-savannah",
   "metadata": {},
   "outputs": [],
   "source": [
    "sw = StopWatch()\n",
    "sw.start()\n",
    "log_mocma_trials(dataclasses.replace(LOG_PARAMETERS, path=\"./output/logs-part1\"),\n",
    "           TRIAL_PARAMETERS,\n",
    "           # If we partition with slices we can distribute the load between\n",
    "           # multiple computers\n",
    "           trial_slice=slice(0, n),\n",
    "           seed=SEED,\n",
    "           n_trials=N_TRIALS,\n",
    "           n_processes=os.cpu_count(),\n",
    "           chunksize=10,\n",
    "          )\n",
    "sw.stop()\n",
    "print(f\"Done! Took {sw.duration:.2f}s\")"
   ]
  },
  {
   "cell_type": "code",
   "execution_count": null,
   "id": "documentary-brook",
   "metadata": {},
   "outputs": [],
   "source": [
    "sw = StopWatch()\n",
    "sw.start()\n",
    "log_mocma_trials(dataclasses.replace(LOG_PARAMETERS, path=\"./output/logs-part2\"),\n",
    "           TRIAL_PARAMETERS,\n",
    "           trial_slice=slice(n, n*2),\n",
    "           seed=SEED,\n",
    "           n_trials=N_TRIALS,\n",
    "           n_processes=os.cpu_count(),\n",
    "           chunksize=10,\n",
    "          )\n",
    "sw.stop()\n",
    "print(f\"Done! Took {sw.duration:.2f}s\")"
   ]
  },
  {
   "cell_type": "code",
   "execution_count": null,
   "id": "operating-intervention",
   "metadata": {},
   "outputs": [],
   "source": [
    "sw = StopWatch()\n",
    "sw.start()\n",
    "log_mocma_trials(dataclasses.replace(LOG_PARAMETERS, path=\"./output/logs-part3\"),\n",
    "           TRIAL_PARAMETERS,\n",
    "           trial_slice=slice(n*2, n*3),\n",
    "           seed=SEED,\n",
    "           n_trials=N_TRIALS,\n",
    "           n_processes=os.cpu_count(),\n",
    "           chunksize=10,\n",
    "          )\n",
    "sw.stop()\n",
    "print(f\"Done! Took {sw.duration:.2f}s\")"
   ]
  },
  {
   "cell_type": "code",
   "execution_count": null,
   "id": "right-slide",
   "metadata": {},
   "outputs": [],
   "source": [
    "sw = StopWatch()\n",
    "sw.start()\n",
    "log_mocma_trials(dataclasses.replace(LOG_PARAMETERS, path=\"./output/logs-part4\"),\n",
    "           TRIAL_PARAMETERS,\n",
    "           trial_slice=slice(n*3, n*4),\n",
    "           seed=SEED,\n",
    "           n_trials=N_TRIALS,\n",
    "           n_processes=os.cpu_count(),\n",
    "           chunksize=10,\n",
    "          )\n",
    "sw.stop()\n",
    "print(f\"Done! Took {sw.duration:.2f}s\")"
   ]
  },
  {
   "cell_type": "markdown",
   "id": "quality-frame",
   "metadata": {},
   "source": [
    "## References\n",
    "\n",
    "[1] T. Voß, N. Hansen, and C. Igel. Improved Step Size Adaptation for the MO-CMA-ES. In Genetic And Evolutionary Computation Conference, 487–494. Portland, United States, July 2010. ACM. URL: https://hal.archives-ouvertes.fr/hal-00503251, doi:10.1145/1830483.1830573.\n",
    "\n",
    "[2] C. Igel, N. Hansen, and S. Roth. Covariance matrix adaptation for multi-objective optimization. Evolutionary Computation, 15(1):1–28, 2007. doi:10.1162/evco.2007.15.1.1."
   ]
  }
 ],
 "metadata": {
  "kernelspec": {
   "display_name": "Python 3",
   "language": "python",
   "name": "python3"
  },
  "language_info": {
   "codemirror_mode": {
    "name": "ipython",
    "version": 3
   },
   "file_extension": ".py",
   "mimetype": "text/x-python",
   "name": "python",
   "nbconvert_exporter": "python",
   "pygments_lexer": "ipython3",
   "version": "3.8.6"
  }
 },
 "nbformat": 4,
 "nbformat_minor": 5
}
