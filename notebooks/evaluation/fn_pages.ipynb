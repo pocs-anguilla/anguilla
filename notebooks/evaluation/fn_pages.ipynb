{
 "cells": [
  {
   "cell_type": "code",
   "execution_count": null,
   "id": "assisted-offering",
   "metadata": {},
   "outputs": [],
   "source": [
    "!pip install jinja2"
   ]
  },
  {
   "cell_type": "code",
   "execution_count": null,
   "id": "ranking-machine",
   "metadata": {},
   "outputs": [],
   "source": [
    "import pathlib\n",
    "\n",
    "import jinja2\n",
    "from jinja2 import Template\n",
    "\n",
    "from anguilla.fitness import benchmark"
   ]
  },
  {
   "cell_type": "code",
   "execution_count": null,
   "id": "solved-clinton",
   "metadata": {},
   "outputs": [],
   "source": [
    "# Search space dimension for both constrained and non-rotated benchmark functions is 30.\n",
    "\n",
    "D_CONSTRAINED_NONROTATED = 30\n",
    "\n",
    "# Search space dimension for rotated benchmark functions is 10.\n",
    "\n",
    "D_ROTATED = 10\n",
    "\n",
    "N_PARENTS = 100\n",
    "\n",
    "N_TRIALS = 25\n",
    "\n",
    "# The cartesian product of the following three global variables represents the space of \n",
    "# configured MOCMA-Benchmark function pairs for which we need to run N_TRIALS each\n",
    "\n",
    "# We put the explicit expressions to compute the initial step size \n",
    "# for constrained functions as in p. 489 [1].\n",
    "FUNCTIONS = [\n",
    "    (benchmark.ZDT1, [D_CONSTRAINED_NONROTATED], None, 0.6 * (1.0 - 0.0)),\n",
    "    (benchmark.ZDT2, [D_CONSTRAINED_NONROTATED], None, 0.6 * (1.0 - 0.0)),\n",
    "    (benchmark.ZDT3, [D_CONSTRAINED_NONROTATED], None, 0.6 * (1.0 - 0.0)),\n",
    "    (benchmark.ZDT4, [D_CONSTRAINED_NONROTATED], None, 0.6 * (1.0 - 0.0)),\n",
    "    (benchmark.ZDT6, [D_CONSTRAINED_NONROTATED], None, 0.6 * (1.0 - 0.0)),\n",
    "    (benchmark.IHR1, [D_ROTATED], None, 0.6 * (1.0 - -1.0)),\n",
    "    (benchmark.IHR2, [D_ROTATED], None, 0.6 * (1.0 - -1.0)),\n",
    "    (benchmark.IHR3, [D_ROTATED], None, 0.6 * (1.0 - -1.0)),\n",
    "    (benchmark.IHR4, [D_ROTATED], None, 0.6 * (5.0 - -5.0)),\n",
    "    (benchmark.IHR6, [D_ROTATED], None, 0.6 * (5.0 - -5.0)),\n",
    "    (benchmark.ELLI1, [D_ROTATED], {'a':1e6}, 1.0),\n",
    "    (benchmark.ELLI2, [D_ROTATED], {'a':1e6}, 1.0),\n",
    "    (benchmark.CIGTAB1, [D_ROTATED], {'a':1e6}, 1.0),\n",
    "    (benchmark.CIGTAB2, [D_ROTATED], {'a':1e-6}, 1.0),\n",
    "    (benchmark.DTLZ1, [D_CONSTRAINED_NONROTATED, 3], None, 0.6 * (1.0 - 0.0)),\n",
    "    (benchmark.DTLZ2, [D_CONSTRAINED_NONROTATED, 3], None, 0.6 * (1.0 - 0.0)),\n",
    "    (benchmark.DTLZ3, [D_CONSTRAINED_NONROTATED, 3], None, 0.6 * (1.0 - 0.0)),\n",
    "    (benchmark.DTLZ4, [D_CONSTRAINED_NONROTATED, 3], None, 0.6 * (1.0 - 0.0)),\n",
    "    (benchmark.DTLZ5, [D_CONSTRAINED_NONROTATED, 3], None, 0.6 * (1.0 - 0.0)),\n",
    "    (benchmark.DTLZ6, [D_CONSTRAINED_NONROTATED, 3], None, 0.6 * (1.0 - 0.0)),\n",
    "    (benchmark.DTLZ7, [D_CONSTRAINED_NONROTATED, 3], None, 0.6 * (1.0 - 0.0)),\n",
    "    (benchmark.GELLI, [D_ROTATED, 3], None, 1.0),\n",
    "]\n",
    "\n",
    "OPTS = [\n",
    "    '(100+1)-MO-CMA-ES-I',\n",
    "    '(100+1)-MO-CMA-ES-P',\n",
    "    '(100+100)-MO-CMA-ES-I',\n",
    "    '(100+100)-MO-CMA-ES-P',\n",
    "    #'NSGAII',\n",
    "]"
   ]
  },
  {
   "cell_type": "code",
   "execution_count": null,
   "id": "delayed-scott",
   "metadata": {},
   "outputs": [],
   "source": [
    "# Based on: http://eosrei.net/articles/2015/11/latex-templates-python-and-jinja2-generate-pdfs\n",
    "\n",
    "latex_jinja_env = jinja2.Environment(\n",
    "    block_start_string = '\\BLOCK{',\n",
    "    block_end_string = '}',\n",
    "    variable_start_string = '\\VAR{',\n",
    "    variable_end_string = '}',\n",
    "    comment_start_string = '\\#{',\n",
    "    comment_end_string = '}',\n",
    "    line_statement_prefix = '%%',\n",
    "    line_comment_prefix = '%#',\n",
    "    trim_blocks = True,\n",
    "    autoescape = False,\n",
    "    loader = jinja2.FileSystemLoader(pathlib.Path('.'))\n",
    ")"
   ]
  },
  {
   "cell_type": "code",
   "execution_count": null,
   "id": "rapid-illness",
   "metadata": {},
   "outputs": [],
   "source": [
    "template = latex_jinja_env.get_template('fn_page.tex')\n",
    "output_path = pathlib.Path(\"./pages\")\n",
    "upmocma_path = pathlib.Path(\"../experiments/upmocma/evolution\")\n",
    "\n",
    "for cfg in FUNCTIONS:\n",
    "    fn_cls, fn_args, fn_kwargs, initial_step_size = cfg\n",
    "    if fn_kwargs is None:\n",
    "        fn_kwargs = {}\n",
    "    fn = fn_cls(*fn_args, **fn_kwargs)\n",
    "    rendered_template = template.render(fn=fn,\n",
    "                                        opts=OPTS,\n",
    "                                        fig_ext=\"pdf\" if fn.n_objectives < 3 else \"png\",\n",
    "                                        initial_step_size=initial_step_size,\n",
    "                                        display_upmocma=upmocma_path.joinpath(f\"{fn.name}/\").exists()\n",
    "                                       )\n",
    "    with open(output_path.joinpath(f\"{fn.name}.tex\"), \"w\") as outputfile:\n",
    "        outputfile.write(rendered_template)\n",
    "    print(f\"Wrote {fn.name}\")"
   ]
  }
 ],
 "metadata": {
  "kernelspec": {
   "display_name": "Python 3",
   "language": "python",
   "name": "python3"
  },
  "language_info": {
   "codemirror_mode": {
    "name": "ipython",
    "version": 3
   },
   "file_extension": ".py",
   "mimetype": "text/x-python",
   "name": "python",
   "nbconvert_exporter": "python",
   "pygments_lexer": "ipython3",
   "version": "3.8.6"
  }
 },
 "nbformat": 4,
 "nbformat_minor": 5
}
