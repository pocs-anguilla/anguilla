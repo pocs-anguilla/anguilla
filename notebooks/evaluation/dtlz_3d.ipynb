{
 "cells": [
  {
   "cell_type": "code",
   "execution_count": null,
   "id": "surgical-morning",
   "metadata": {},
   "outputs": [],
   "source": [
    "import pathlib\n",
    "import dataclasses\n",
    "\n",
    "import numpy as np\n",
    "\n",
    "import matplotlib.pyplot as plt\n",
    "\n",
    "from anguilla.optimizers import MOCMA\n",
    "from anguilla.optimizers.mocma import MOCMA as MOCMAPython\n",
    "from anguilla.evaluation import MOCMATrialParameters\n",
    "from anguilla.fitness import benchmark"
   ]
  },
  {
   "cell_type": "code",
   "execution_count": null,
   "id": "classical-moisture",
   "metadata": {},
   "outputs": [],
   "source": [
    "def plot_3d(fitness, pareto_front=None, title=None):\n",
    "    fig = plt.figure(figsize=(18, 4.5))\n",
    "    ax0 = fig.add_subplot(111, projection='3d')\n",
    "    ax1 = fig.add_subplot(121, projection='3d')\n",
    "    ax0.scatter(fitness[:, 0], fitness[:, 1], fitness[:, 2], marker=\"x\", color=\"green\", label=\"Approximation\")\n",
    "    ax1.scatter(fitness[:, 0], fitness[:, 1], fitness[:, 2], marker=\"x\", color=\"green\", label=\"Approximation\")\n",
    "    if pareto_front is not None:\n",
    "        ax0.scatter(pareto_front[:, 0], pareto_front[:, 1], pareto_front[:, 2], marker=\"o\", color=\"red\", label=\"True\", alpha=0.2)\n",
    "    ax0.legend()\n",
    "    ax1.legend()\n",
    "    if title is not None:\n",
    "        fig.suptitle(title)\n",
    "    fig.tight_layout()\n",
    "    return fig\n",
    "\n",
    "def run_and_plot(parameters: MOCMATrialParameters, pareto_front=None, implementation=\"cxx\"):\n",
    "    if parameters.seed is not None:\n",
    "        rng = np.random.default_rng(parameters.seed)\n",
    "    else:\n",
    "        rng = np.random.default_rng()\n",
    "\n",
    "    fn = parameters.fn_cls(*parameters.fn_args, rng=rng, **parameters.fn_kwargs)\n",
    "    parent_points = fn.random_points(parameters.n_parents)\n",
    "    parent_fitness = fn(parent_points)\n",
    "    if implementation == \"cxx\":\n",
    "        optimizer = MOCMA(parent_points, parent_fitness,\n",
    "                          success_notion=parameters.success_notion,\n",
    "                          n_offspring=parameters.n_offspring,\n",
    "                          max_evaluations=parameters.max_evaluations, seed=rng.integers(0, 1000000))\n",
    "    else:\n",
    "        optimizer = MOCMAPython(parent_points, parent_fitness,\n",
    "                          success_notion=parameters.success_notion,\n",
    "                          n_offspring=parameters.n_offspring,\n",
    "                          max_evaluations=parameters.max_evaluations, rng=rng)\n",
    "    while not optimizer.stop.triggered:\n",
    "        points = optimizer.ask()\n",
    "        if fn.has_constraints:\n",
    "            optimizer.tell(*fn.evaluate_with_penalty(points))\n",
    "        else:\n",
    "            optimizer.tell(fn(points))\n",
    "    res = optimizer.best.fitness\n",
    "    title = \"{} with {}: ${} \\mapsto {}$\\n{} evaluations\".format(optimizer.qualified_name,\n",
    "                                                                 fn.qualified_name,\n",
    "                                                                 fn.n_dimensions,\n",
    "                                                                 fn.n_objectives,\n",
    "                                                                 optimizer.evaluation_count,\n",
    "                                                                )\n",
    "    fig = plot_3d(res.solution.fitness, pareto_front=pareto_front, title=title)"
   ]
  },
  {
   "cell_type": "code",
   "execution_count": null,
   "id": "simplified-background",
   "metadata": {},
   "outputs": [],
   "source": [
    "parameters = MOCMATrialParameters(None, fn_args=(30, 3), initial_step_size=0.6, max_evaluations=50000, n_parents=100)"
   ]
  },
  {
   "cell_type": "markdown",
   "id": "gorgeous-simple",
   "metadata": {},
   "source": [
    "## DTLZ1"
   ]
  },
  {
   "cell_type": "code",
   "execution_count": null,
   "id": "unknown-laptop",
   "metadata": {},
   "outputs": [],
   "source": [
    "pareto_front = np.loadtxt(\"http://www.cs.cinvestav.mx/~emoobook/apendix-e/data/paretoDTLZ1.dat\")"
   ]
  },
  {
   "cell_type": "markdown",
   "id": "muslim-underwear",
   "metadata": {},
   "source": [
    "### Population-based"
   ]
  },
  {
   "cell_type": "code",
   "execution_count": null,
   "id": "ahead-smile",
   "metadata": {},
   "outputs": [],
   "source": [
    "fig = run_and_plot(dataclasses.replace(parameters, fn_cls=benchmark.DTLZ1), pareto_front)"
   ]
  },
  {
   "cell_type": "code",
   "execution_count": null,
   "id": "northern-trust",
   "metadata": {},
   "outputs": [],
   "source": [
    "fig = run_and_plot(dataclasses.replace(parameters, fn_cls=benchmark.DTLZ1), pareto_front, implementation=\"python\")"
   ]
  },
  {
   "cell_type": "code",
   "execution_count": null,
   "id": "veterinary-awareness",
   "metadata": {},
   "outputs": [],
   "source": [
    "fig = run_and_plot(dataclasses.replace(parameters, fn_cls=benchmark.DTLZ1, success_notion=\"individual\"), pareto_front)"
   ]
  },
  {
   "cell_type": "markdown",
   "id": "adaptive-asian",
   "metadata": {},
   "source": [
    "### Population-based, steady-state"
   ]
  },
  {
   "cell_type": "code",
   "execution_count": null,
   "id": "vital-diving",
   "metadata": {},
   "outputs": [],
   "source": [
    "fig = run_and_plot(dataclasses.replace(parameters, fn_cls=benchmark.DTLZ1, n_offspring=1), pareto_front)"
   ]
  },
  {
   "cell_type": "markdown",
   "id": "african-debut",
   "metadata": {},
   "source": [
    "### Individual-based, steady-state"
   ]
  },
  {
   "cell_type": "code",
   "execution_count": null,
   "id": "proprietary-serbia",
   "metadata": {},
   "outputs": [],
   "source": [
    "fig = run_and_plot(dataclasses.replace(parameters, fn_cls=benchmark.DTLZ1, success_notion=\"individual\", n_offspring=1), pareto_front)"
   ]
  },
  {
   "cell_type": "markdown",
   "id": "infrared-brother",
   "metadata": {},
   "source": [
    "## DTLZ2"
   ]
  },
  {
   "cell_type": "code",
   "execution_count": null,
   "id": "previous-opera",
   "metadata": {},
   "outputs": [],
   "source": [
    "pareto_front = np.loadtxt(\"http://www.cs.cinvestav.mx/~emoobook/apendix-e/data/paretoDTLZ2.dat\")"
   ]
  },
  {
   "cell_type": "markdown",
   "id": "friendly-manual",
   "metadata": {},
   "source": [
    "### Population-based"
   ]
  },
  {
   "cell_type": "code",
   "execution_count": null,
   "id": "fallen-toyota",
   "metadata": {},
   "outputs": [],
   "source": [
    "fig = run_and_plot(dataclasses.replace(parameters, fn_cls=benchmark.DTLZ2), pareto_front)"
   ]
  },
  {
   "cell_type": "markdown",
   "id": "atomic-insulin",
   "metadata": {},
   "source": [
    "### Individual-based"
   ]
  },
  {
   "cell_type": "code",
   "execution_count": null,
   "id": "deluxe-territory",
   "metadata": {},
   "outputs": [],
   "source": [
    "fig = run_and_plot(dataclasses.replace(parameters, fn_cls=benchmark.DTLZ2, success_notion=\"individual\"), pareto_front)"
   ]
  },
  {
   "cell_type": "markdown",
   "id": "hollywood-program",
   "metadata": {},
   "source": [
    "### Population-based, steady-state"
   ]
  },
  {
   "cell_type": "code",
   "execution_count": null,
   "id": "mineral-panel",
   "metadata": {},
   "outputs": [],
   "source": [
    "fig = run_and_plot(dataclasses.replace(parameters, fn_cls=benchmark.DTLZ2, n_offspring=1), pareto_front)"
   ]
  },
  {
   "cell_type": "markdown",
   "id": "recognized-dressing",
   "metadata": {},
   "source": [
    "### Individual-based, steady-state"
   ]
  },
  {
   "cell_type": "code",
   "execution_count": null,
   "id": "friendly-particle",
   "metadata": {},
   "outputs": [],
   "source": [
    "fig = run_and_plot(dataclasses.replace(parameters, fn_cls=benchmark.DTLZ2, success_notion=\"individual\", n_offspring=1), pareto_front)"
   ]
  },
  {
   "cell_type": "markdown",
   "id": "orange-sunrise",
   "metadata": {},
   "source": [
    "## DTLZ3"
   ]
  },
  {
   "cell_type": "code",
   "execution_count": null,
   "id": "offensive-oracle",
   "metadata": {},
   "outputs": [],
   "source": [
    "pareto_front = np.loadtxt(\"http://www.cs.cinvestav.mx/~emoobook/apendix-e/data/paretoDTLZ3.dat\")"
   ]
  },
  {
   "cell_type": "markdown",
   "id": "bronze-championship",
   "metadata": {},
   "source": [
    "### Population-based"
   ]
  },
  {
   "cell_type": "code",
   "execution_count": null,
   "id": "pending-consciousness",
   "metadata": {},
   "outputs": [],
   "source": [
    "fig = run_and_plot(dataclasses.replace(parameters, fn_cls=benchmark.DTLZ3), pareto_front)"
   ]
  },
  {
   "cell_type": "markdown",
   "id": "complicated-sheffield",
   "metadata": {},
   "source": [
    "### Individual-based"
   ]
  },
  {
   "cell_type": "code",
   "execution_count": null,
   "id": "smaller-choir",
   "metadata": {},
   "outputs": [],
   "source": [
    "fig = run_and_plot(dataclasses.replace(parameters, fn_cls=benchmark.DTLZ3, success_notion=\"individual\"), pareto_front)"
   ]
  },
  {
   "cell_type": "markdown",
   "id": "lined-bleeding",
   "metadata": {},
   "source": [
    "### Population-based, steady-state"
   ]
  },
  {
   "cell_type": "code",
   "execution_count": null,
   "id": "clinical-donna",
   "metadata": {},
   "outputs": [],
   "source": [
    "fig = run_and_plot(dataclasses.replace(parameters, fn_cls=benchmark.DTLZ3, n_offspring=1), pareto_front)"
   ]
  },
  {
   "cell_type": "markdown",
   "id": "manufactured-litigation",
   "metadata": {},
   "source": [
    "### Individual-based, steady-state"
   ]
  },
  {
   "cell_type": "code",
   "execution_count": null,
   "id": "passive-section",
   "metadata": {},
   "outputs": [],
   "source": [
    "fig = run_and_plot(dataclasses.replace(parameters, fn_cls=benchmark.DTLZ3, success_notion=\"individual\", n_offspring=1), pareto_front)"
   ]
  },
  {
   "cell_type": "markdown",
   "id": "driving-geology",
   "metadata": {},
   "source": [
    "## DTLZ4"
   ]
  },
  {
   "cell_type": "code",
   "execution_count": null,
   "id": "universal-surfing",
   "metadata": {},
   "outputs": [],
   "source": [
    "pareto_front = np.loadtxt(\"http://www.cs.cinvestav.mx/~emoobook/apendix-e/data/paretoDTLZ4.dat\")"
   ]
  },
  {
   "cell_type": "markdown",
   "id": "floral-serum",
   "metadata": {},
   "source": [
    "### Population-based"
   ]
  },
  {
   "cell_type": "code",
   "execution_count": null,
   "id": "early-heritage",
   "metadata": {},
   "outputs": [],
   "source": [
    "fig = run_and_plot(dataclasses.replace(parameters, fn_cls=benchmark.DTLZ4), pareto_front)"
   ]
  },
  {
   "cell_type": "markdown",
   "id": "graphic-instrument",
   "metadata": {},
   "source": [
    "### Individual-based"
   ]
  },
  {
   "cell_type": "code",
   "execution_count": null,
   "id": "frozen-roulette",
   "metadata": {},
   "outputs": [],
   "source": [
    "fig = run_and_plot(dataclasses.replace(parameters, fn_cls=benchmark.DTLZ4, success_notion=\"individual\"), pareto_front)"
   ]
  },
  {
   "cell_type": "markdown",
   "id": "cubic-heating",
   "metadata": {},
   "source": [
    "### Population-based, steady-state"
   ]
  },
  {
   "cell_type": "code",
   "execution_count": null,
   "id": "small-modem",
   "metadata": {},
   "outputs": [],
   "source": [
    "fig = run_and_plot(dataclasses.replace(parameters, fn_cls=benchmark.DTLZ4, n_offspring=1), pareto_front)"
   ]
  },
  {
   "cell_type": "markdown",
   "id": "lyric-insured",
   "metadata": {},
   "source": [
    "### Individual-based, steady-state"
   ]
  },
  {
   "cell_type": "code",
   "execution_count": null,
   "id": "spiritual-russell",
   "metadata": {},
   "outputs": [],
   "source": [
    "fig = run_and_plot(dataclasses.replace(parameters, fn_cls=benchmark.DTLZ4, success_notion=\"individual\", n_offspring=1), pareto_front)"
   ]
  },
  {
   "cell_type": "markdown",
   "id": "contained-package",
   "metadata": {},
   "source": [
    "## DTLZ5"
   ]
  },
  {
   "cell_type": "code",
   "execution_count": null,
   "id": "subtle-turkey",
   "metadata": {},
   "outputs": [],
   "source": [
    "pareto_front = np.loadtxt(\"http://www.cs.cinvestav.mx/~emoobook/apendix-e/data/paretoDTLZ5.dat\")"
   ]
  },
  {
   "cell_type": "markdown",
   "id": "suitable-amazon",
   "metadata": {},
   "source": [
    "### Population-based"
   ]
  },
  {
   "cell_type": "code",
   "execution_count": null,
   "id": "sought-holiday",
   "metadata": {},
   "outputs": [],
   "source": [
    "fig = run_and_plot(dataclasses.replace(parameters, fn_cls=benchmark.DTLZ5), pareto_front)"
   ]
  },
  {
   "cell_type": "markdown",
   "id": "thousand-atlanta",
   "metadata": {},
   "source": [
    "### Individual-based"
   ]
  },
  {
   "cell_type": "code",
   "execution_count": null,
   "id": "entertaining-implementation",
   "metadata": {},
   "outputs": [],
   "source": [
    "fig = run_and_plot(dataclasses.replace(parameters, fn_cls=benchmark.DTLZ5, success_notion=\"individual\"), pareto_front)"
   ]
  },
  {
   "cell_type": "markdown",
   "id": "magnetic-atlas",
   "metadata": {},
   "source": [
    "### Population-based, steady-state"
   ]
  },
  {
   "cell_type": "code",
   "execution_count": null,
   "id": "banner-criticism",
   "metadata": {},
   "outputs": [],
   "source": [
    "fig = run_and_plot(dataclasses.replace(parameters, fn_cls=benchmark.DTLZ5, n_offspring=1), pareto_front)"
   ]
  },
  {
   "cell_type": "markdown",
   "id": "applicable-median",
   "metadata": {},
   "source": [
    "### Individual-based, steady-state"
   ]
  },
  {
   "cell_type": "code",
   "execution_count": null,
   "id": "sapphire-walker",
   "metadata": {},
   "outputs": [],
   "source": [
    "fig = run_and_plot(dataclasses.replace(parameters, fn_cls=benchmark.DTLZ5, success_notion=\"individual\", n_offspring=1), pareto_front)"
   ]
  },
  {
   "cell_type": "markdown",
   "id": "dynamic-prevention",
   "metadata": {},
   "source": [
    "## DTLZ6"
   ]
  },
  {
   "cell_type": "code",
   "execution_count": null,
   "id": "metric-laptop",
   "metadata": {},
   "outputs": [],
   "source": [
    "pareto_front = np.loadtxt(\"http://www.cs.cinvestav.mx/~emoobook/apendix-e/data/paretoDTLZ6.dat\")"
   ]
  },
  {
   "cell_type": "markdown",
   "id": "impressed-introduction",
   "metadata": {},
   "source": [
    "### Population-based"
   ]
  },
  {
   "cell_type": "code",
   "execution_count": null,
   "id": "medium-folder",
   "metadata": {},
   "outputs": [],
   "source": [
    "fig = run_and_plot(dataclasses.replace(parameters, fn_cls=benchmark.DTLZ6), pareto_front)"
   ]
  },
  {
   "cell_type": "markdown",
   "id": "located-header",
   "metadata": {},
   "source": [
    "### Individual-based"
   ]
  },
  {
   "cell_type": "code",
   "execution_count": null,
   "id": "behavioral-conspiracy",
   "metadata": {},
   "outputs": [],
   "source": [
    "fig = run_and_plot(dataclasses.replace(parameters, fn_cls=benchmark.DTLZ6, success_notion=\"individual\"), pareto_front)"
   ]
  },
  {
   "cell_type": "markdown",
   "id": "postal-customs",
   "metadata": {},
   "source": [
    "### Population-based, steady-state"
   ]
  },
  {
   "cell_type": "code",
   "execution_count": null,
   "id": "affected-words",
   "metadata": {},
   "outputs": [],
   "source": [
    "fig = run_and_plot(dataclasses.replace(parameters, fn_cls=benchmark.DTLZ6, n_offspring=1), pareto_front)"
   ]
  },
  {
   "cell_type": "markdown",
   "id": "brief-palestinian",
   "metadata": {},
   "source": [
    "### Individual-based, steady-state"
   ]
  },
  {
   "cell_type": "code",
   "execution_count": null,
   "id": "continued-priority",
   "metadata": {},
   "outputs": [],
   "source": [
    "fig = run_and_plot(dataclasses.replace(parameters, fn_cls=benchmark.DTLZ6, success_notion=\"individual\", n_offspring=1), pareto_front)"
   ]
  },
  {
   "cell_type": "markdown",
   "id": "meaning-latest",
   "metadata": {},
   "source": [
    "## DTLZ7"
   ]
  },
  {
   "cell_type": "code",
   "execution_count": null,
   "id": "innovative-delight",
   "metadata": {},
   "outputs": [],
   "source": [
    "pareto_front = np.loadtxt(\"http://www.cs.cinvestav.mx/~emoobook/apendix-e/data/paretoDTLZ7.dat\")"
   ]
  },
  {
   "cell_type": "markdown",
   "id": "approved-rings",
   "metadata": {},
   "source": [
    "### Population-based"
   ]
  },
  {
   "cell_type": "code",
   "execution_count": null,
   "id": "russian-procurement",
   "metadata": {},
   "outputs": [],
   "source": [
    "fig = run_and_plot(dataclasses.replace(parameters, fn_cls=benchmark.DTLZ7), pareto_front)"
   ]
  },
  {
   "cell_type": "markdown",
   "id": "several-sender",
   "metadata": {},
   "source": [
    "### Individual-based"
   ]
  },
  {
   "cell_type": "code",
   "execution_count": null,
   "id": "compressed-farming",
   "metadata": {},
   "outputs": [],
   "source": [
    "fig = run_and_plot(dataclasses.replace(parameters, fn_cls=benchmark.DTLZ7, success_notion=\"individual\"), pareto_front)"
   ]
  },
  {
   "cell_type": "markdown",
   "id": "intellectual-giant",
   "metadata": {},
   "source": [
    "### Population-based, steady-state"
   ]
  },
  {
   "cell_type": "code",
   "execution_count": null,
   "id": "forced-oregon",
   "metadata": {},
   "outputs": [],
   "source": [
    "fig = run_and_plot(dataclasses.replace(parameters, fn_cls=benchmark.DTLZ7, n_offspring=1), pareto_front)"
   ]
  },
  {
   "cell_type": "markdown",
   "id": "suspected-instruction",
   "metadata": {},
   "source": [
    "### Individual-based, steady-state"
   ]
  },
  {
   "cell_type": "code",
   "execution_count": null,
   "id": "little-perception",
   "metadata": {},
   "outputs": [],
   "source": [
    "fig = run_and_plot(dataclasses.replace(parameters, fn_cls=benchmark.DTLZ7, success_notion=\"individual\", n_offspring=1), pareto_front)"
   ]
  }
 ],
 "metadata": {
  "kernelspec": {
   "display_name": "Python 3",
   "language": "python",
   "name": "python3"
  },
  "language_info": {
   "codemirror_mode": {
    "name": "ipython",
    "version": 3
   },
   "file_extension": ".py",
   "mimetype": "text/x-python",
   "name": "python",
   "nbconvert_exporter": "python",
   "pygments_lexer": "ipython3",
   "version": "3.8.8"
  }
 },
 "nbformat": 4,
 "nbformat_minor": 5
}
