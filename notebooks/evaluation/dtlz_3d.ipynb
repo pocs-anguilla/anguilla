{
 "cells": [
  {
   "cell_type": "code",
   "execution_count": null,
   "id": "improving-notion",
   "metadata": {},
   "outputs": [],
   "source": [
    "import pathlib\n",
    "import dataclasses\n",
    "\n",
    "import numpy as np\n",
    "\n",
    "import matplotlib.pyplot as plt\n",
    "\n",
    "from anguilla.optimizers.mocma import MOCMA\n",
    "from anguilla.evaluation import MOCMATrialParameters\n",
    "from anguilla.fitness import benchmark"
   ]
  },
  {
   "cell_type": "code",
   "execution_count": null,
   "id": "reasonable-collapse",
   "metadata": {},
   "outputs": [],
   "source": [
    "def plot_3d(fitness, pareto_front=None, title=None):\n",
    "    fig = plt.figure(figsize=(18, 4.5))\n",
    "    ax0 = fig.add_subplot(111, projection='3d')\n",
    "    ax1 = fig.add_subplot(121, projection='3d')\n",
    "    ax0.scatter(fitness[:, 0], fitness[:, 1], fitness[:, 2], marker=\"x\", color=\"green\", label=\"Approximation\")\n",
    "    ax1.scatter(fitness[:, 0], fitness[:, 1], fitness[:, 2], marker=\"x\", color=\"green\", label=\"Approximation\")\n",
    "    if pareto_front is not None:\n",
    "        ax0.scatter(pareto_front[:, 0], pareto_front[:, 1], pareto_front[:, 2], marker=\"o\", color=\"red\", label=\"True\", alpha=0.2)\n",
    "    ax0.legend()\n",
    "    ax1.legend()\n",
    "    if title is not None:\n",
    "        fig.suptitle(title)\n",
    "    fig.tight_layout()\n",
    "    return fig\n",
    "\n",
    "def run_and_plot(parameters: MOCMATrialParameters, pareto_front=None):\n",
    "    if parameters.seed is not None:\n",
    "        rng = np.random.default_rng(parameters.seed)\n",
    "    else:\n",
    "        rng = np.random.default_rng()\n",
    "\n",
    "    fn = parameters.fn_cls(*parameters.fn_args, rng=rng, **parameters.fn_kwargs)\n",
    "    parent_points = fn.random_points(parameters.n_parents)\n",
    "    parent_fitness = fn(parent_points)\n",
    "    optimizer = MOCMA(parent_points, parent_fitness,\n",
    "                      success_notion=parameters.success_notion,\n",
    "                      n_offspring=parameters.n_offspring,\n",
    "                      max_evaluations=parameters.max_evaluations, rng=rng)\n",
    "    res = optimizer.fmin(fn.evaluate_with_penalty)\n",
    "    title = \"{} with {}: ${} \\mapsto {}$\\n{} evaluations\".format(optimizer.qualified_name,\n",
    "                                                                 fn.qualified_name,\n",
    "                                                                 fn.n_dimensions,\n",
    "                                                                 fn.n_objectives,\n",
    "                                                                 optimizer.evaluation_count,\n",
    "                                                                )\n",
    "    fig = plot_3d(res.solution.fitness, pareto_front=pareto_front, title=title)"
   ]
  },
  {
   "cell_type": "code",
   "execution_count": null,
   "id": "demonstrated-banks",
   "metadata": {},
   "outputs": [],
   "source": [
    "parameters = MOCMATrialParameters(None, fn_args=(30, 3), initial_step_size=0.6, max_evaluations=50000, n_parents=100)"
   ]
  },
  {
   "cell_type": "markdown",
   "id": "parental-stations",
   "metadata": {},
   "source": [
    "## DTLZ1"
   ]
  },
  {
   "cell_type": "code",
   "execution_count": null,
   "id": "closing-ultimate",
   "metadata": {},
   "outputs": [],
   "source": [
    "pareto_front = np.loadtxt(\"http://www.cs.cinvestav.mx/~emoobook/apendix-e/data/paretoDTLZ1.dat\")"
   ]
  },
  {
   "cell_type": "markdown",
   "id": "excess-cooperation",
   "metadata": {},
   "source": [
    "### Population-based"
   ]
  },
  {
   "cell_type": "code",
   "execution_count": null,
   "id": "raised-spouse",
   "metadata": {},
   "outputs": [],
   "source": [
    "fig = run_and_plot(dataclasses.replace(parameters, fn_cls=benchmark.DTLZ1), pareto_front)"
   ]
  },
  {
   "cell_type": "markdown",
   "id": "actual-leather",
   "metadata": {},
   "source": [
    "### Individual-based"
   ]
  },
  {
   "cell_type": "code",
   "execution_count": null,
   "id": "unlike-islam",
   "metadata": {},
   "outputs": [],
   "source": [
    "fig = run_and_plot(dataclasses.replace(parameters, fn_cls=benchmark.DTLZ1, success_notion=\"individual\"), pareto_front)"
   ]
  },
  {
   "cell_type": "markdown",
   "id": "grand-fossil",
   "metadata": {},
   "source": [
    "### Population-based, steady-state"
   ]
  },
  {
   "cell_type": "code",
   "execution_count": null,
   "id": "subjective-dealing",
   "metadata": {},
   "outputs": [],
   "source": [
    "fig = run_and_plot(dataclasses.replace(parameters, fn_cls=benchmark.DTLZ1, n_offspring=1), pareto_front)"
   ]
  },
  {
   "cell_type": "markdown",
   "id": "early-quantum",
   "metadata": {},
   "source": [
    "### Individual-based, steady-state"
   ]
  },
  {
   "cell_type": "code",
   "execution_count": null,
   "id": "certified-field",
   "metadata": {},
   "outputs": [],
   "source": [
    "fig = run_and_plot(dataclasses.replace(parameters, fn_cls=benchmark.DTLZ1, success_notion=\"individual\", n_offspring=1), pareto_front)"
   ]
  },
  {
   "cell_type": "markdown",
   "id": "suffering-plasma",
   "metadata": {},
   "source": [
    "## DTLZ2"
   ]
  },
  {
   "cell_type": "code",
   "execution_count": null,
   "id": "homeless-hazard",
   "metadata": {},
   "outputs": [],
   "source": [
    "pareto_front = np.loadtxt(\"http://www.cs.cinvestav.mx/~emoobook/apendix-e/data/paretoDTLZ2.dat\")"
   ]
  },
  {
   "cell_type": "markdown",
   "id": "smart-eagle",
   "metadata": {},
   "source": [
    "### Population-based"
   ]
  },
  {
   "cell_type": "code",
   "execution_count": null,
   "id": "super-perth",
   "metadata": {},
   "outputs": [],
   "source": [
    "fig = run_and_plot(dataclasses.replace(parameters, fn_cls=benchmark.DTLZ2), pareto_front)"
   ]
  },
  {
   "cell_type": "markdown",
   "id": "freelance-transcription",
   "metadata": {},
   "source": [
    "### Individual-based"
   ]
  },
  {
   "cell_type": "code",
   "execution_count": null,
   "id": "institutional-glasgow",
   "metadata": {},
   "outputs": [],
   "source": [
    "fig = run_and_plot(dataclasses.replace(parameters, fn_cls=benchmark.DTLZ2, success_notion=\"individual\"), pareto_front)"
   ]
  },
  {
   "cell_type": "markdown",
   "id": "different-avatar",
   "metadata": {},
   "source": [
    "### Population-based, steady-state"
   ]
  },
  {
   "cell_type": "code",
   "execution_count": null,
   "id": "sudden-adobe",
   "metadata": {},
   "outputs": [],
   "source": [
    "fig = run_and_plot(dataclasses.replace(parameters, fn_cls=benchmark.DTLZ2, n_offspring=1), pareto_front)"
   ]
  },
  {
   "cell_type": "markdown",
   "id": "taken-hormone",
   "metadata": {},
   "source": [
    "### Individual-based, steady-state"
   ]
  },
  {
   "cell_type": "code",
   "execution_count": null,
   "id": "detected-coverage",
   "metadata": {},
   "outputs": [],
   "source": [
    "fig = run_and_plot(dataclasses.replace(parameters, fn_cls=benchmark.DTLZ2, success_notion=\"individual\", n_offspring=1), pareto_front)"
   ]
  },
  {
   "cell_type": "markdown",
   "id": "severe-airport",
   "metadata": {},
   "source": [
    "## DTLZ3"
   ]
  },
  {
   "cell_type": "code",
   "execution_count": null,
   "id": "little-planet",
   "metadata": {},
   "outputs": [],
   "source": [
    "pareto_front = np.loadtxt(\"http://www.cs.cinvestav.mx/~emoobook/apendix-e/data/paretoDTLZ3.dat\")"
   ]
  },
  {
   "cell_type": "markdown",
   "id": "mobile-pavilion",
   "metadata": {},
   "source": [
    "### Population-based"
   ]
  },
  {
   "cell_type": "code",
   "execution_count": null,
   "id": "trying-designation",
   "metadata": {},
   "outputs": [],
   "source": [
    "fig = run_and_plot(dataclasses.replace(parameters, fn_cls=benchmark.DTLZ3), pareto_front)"
   ]
  },
  {
   "cell_type": "markdown",
   "id": "missing-forge",
   "metadata": {},
   "source": [
    "### Individual-based"
   ]
  },
  {
   "cell_type": "code",
   "execution_count": null,
   "id": "wanted-petite",
   "metadata": {},
   "outputs": [],
   "source": [
    "fig = run_and_plot(dataclasses.replace(parameters, fn_cls=benchmark.DTLZ3, success_notion=\"individual\"), pareto_front)"
   ]
  },
  {
   "cell_type": "markdown",
   "id": "confirmed-assumption",
   "metadata": {},
   "source": [
    "### Population-based, steady-state"
   ]
  },
  {
   "cell_type": "code",
   "execution_count": null,
   "id": "configured-expansion",
   "metadata": {},
   "outputs": [],
   "source": [
    "fig = run_and_plot(dataclasses.replace(parameters, fn_cls=benchmark.DTLZ3, n_offspring=1), pareto_front)"
   ]
  },
  {
   "cell_type": "markdown",
   "id": "brazilian-auckland",
   "metadata": {},
   "source": [
    "### Individual-based, steady-state"
   ]
  },
  {
   "cell_type": "code",
   "execution_count": null,
   "id": "mysterious-saver",
   "metadata": {},
   "outputs": [],
   "source": [
    "fig = run_and_plot(dataclasses.replace(parameters, fn_cls=benchmark.DTLZ3, success_notion=\"individual\", n_offspring=1), pareto_front)"
   ]
  },
  {
   "cell_type": "markdown",
   "id": "engaging-progressive",
   "metadata": {},
   "source": [
    "## DTLZ4"
   ]
  },
  {
   "cell_type": "code",
   "execution_count": null,
   "id": "looking-overall",
   "metadata": {},
   "outputs": [],
   "source": [
    "pareto_front = np.loadtxt(\"http://www.cs.cinvestav.mx/~emoobook/apendix-e/data/paretoDTLZ4.dat\")"
   ]
  },
  {
   "cell_type": "markdown",
   "id": "underlying-fisher",
   "metadata": {},
   "source": [
    "### Population-based"
   ]
  },
  {
   "cell_type": "code",
   "execution_count": null,
   "id": "indonesian-spanish",
   "metadata": {},
   "outputs": [],
   "source": [
    "fig = run_and_plot(dataclasses.replace(parameters, fn_cls=benchmark.DTLZ4), pareto_front)"
   ]
  },
  {
   "cell_type": "markdown",
   "id": "frank-healthcare",
   "metadata": {},
   "source": [
    "### Individual-based"
   ]
  },
  {
   "cell_type": "code",
   "execution_count": null,
   "id": "earned-bulgarian",
   "metadata": {},
   "outputs": [],
   "source": [
    "fig = run_and_plot(dataclasses.replace(parameters, fn_cls=benchmark.DTLZ4, success_notion=\"individual\"), pareto_front)"
   ]
  },
  {
   "cell_type": "markdown",
   "id": "metallic-nurse",
   "metadata": {},
   "source": [
    "### Population-based, steady-state"
   ]
  },
  {
   "cell_type": "code",
   "execution_count": null,
   "id": "professional-vintage",
   "metadata": {},
   "outputs": [],
   "source": [
    "fig = run_and_plot(dataclasses.replace(parameters, fn_cls=benchmark.DTLZ4, n_offspring=1), pareto_front)"
   ]
  },
  {
   "cell_type": "markdown",
   "id": "colored-cornell",
   "metadata": {},
   "source": [
    "### Individual-based, steady-state"
   ]
  },
  {
   "cell_type": "code",
   "execution_count": null,
   "id": "played-dakota",
   "metadata": {},
   "outputs": [],
   "source": [
    "fig = run_and_plot(dataclasses.replace(parameters, fn_cls=benchmark.DTLZ4, success_notion=\"individual\", n_offspring=1), pareto_front)"
   ]
  },
  {
   "cell_type": "markdown",
   "id": "appointed-tenant",
   "metadata": {},
   "source": [
    "## DTLZ5"
   ]
  },
  {
   "cell_type": "code",
   "execution_count": null,
   "id": "junior-excuse",
   "metadata": {},
   "outputs": [],
   "source": [
    "pareto_front = np.loadtxt(\"http://www.cs.cinvestav.mx/~emoobook/apendix-e/data/paretoDTLZ5.dat\")"
   ]
  },
  {
   "cell_type": "markdown",
   "id": "specific-behalf",
   "metadata": {},
   "source": [
    "### Population-based"
   ]
  },
  {
   "cell_type": "code",
   "execution_count": null,
   "id": "incorrect-small",
   "metadata": {},
   "outputs": [],
   "source": [
    "fig = run_and_plot(dataclasses.replace(parameters, fn_cls=benchmark.DTLZ5), pareto_front)"
   ]
  },
  {
   "cell_type": "markdown",
   "id": "middle-nation",
   "metadata": {},
   "source": [
    "### Individual-based"
   ]
  },
  {
   "cell_type": "code",
   "execution_count": null,
   "id": "hollywood-allergy",
   "metadata": {},
   "outputs": [],
   "source": [
    "fig = run_and_plot(dataclasses.replace(parameters, fn_cls=benchmark.DTLZ5, success_notion=\"individual\"), pareto_front)"
   ]
  },
  {
   "cell_type": "markdown",
   "id": "employed-bolivia",
   "metadata": {},
   "source": [
    "### Population-based, steady-state"
   ]
  },
  {
   "cell_type": "code",
   "execution_count": null,
   "id": "compound-estimate",
   "metadata": {},
   "outputs": [],
   "source": [
    "fig = run_and_plot(dataclasses.replace(parameters, fn_cls=benchmark.DTLZ5, n_offspring=1), pareto_front)"
   ]
  },
  {
   "cell_type": "markdown",
   "id": "discrete-ladder",
   "metadata": {},
   "source": [
    "### Individual-based, steady-state"
   ]
  },
  {
   "cell_type": "code",
   "execution_count": null,
   "id": "racial-information",
   "metadata": {},
   "outputs": [],
   "source": [
    "fig = run_and_plot(dataclasses.replace(parameters, fn_cls=benchmark.DTLZ5, success_notion=\"individual\", n_offspring=1), pareto_front)"
   ]
  },
  {
   "cell_type": "markdown",
   "id": "defensive-mandate",
   "metadata": {},
   "source": [
    "## DTLZ6"
   ]
  },
  {
   "cell_type": "code",
   "execution_count": null,
   "id": "eligible-international",
   "metadata": {},
   "outputs": [],
   "source": [
    "pareto_front = np.loadtxt(\"http://www.cs.cinvestav.mx/~emoobook/apendix-e/data/paretoDTLZ6.dat\")"
   ]
  },
  {
   "cell_type": "markdown",
   "id": "identified-preserve",
   "metadata": {},
   "source": [
    "### Population-based"
   ]
  },
  {
   "cell_type": "code",
   "execution_count": null,
   "id": "approved-grounds",
   "metadata": {},
   "outputs": [],
   "source": [
    "fig = run_and_plot(dataclasses.replace(parameters, fn_cls=benchmark.DTLZ6), pareto_front)"
   ]
  },
  {
   "cell_type": "markdown",
   "id": "intermediate-success",
   "metadata": {},
   "source": [
    "### Individual-based"
   ]
  },
  {
   "cell_type": "code",
   "execution_count": null,
   "id": "subsequent-donna",
   "metadata": {},
   "outputs": [],
   "source": [
    "fig = run_and_plot(dataclasses.replace(parameters, fn_cls=benchmark.DTLZ6, success_notion=\"individual\"), pareto_front)"
   ]
  },
  {
   "cell_type": "markdown",
   "id": "forbidden-fields",
   "metadata": {},
   "source": [
    "### Population-based, steady-state"
   ]
  },
  {
   "cell_type": "code",
   "execution_count": null,
   "id": "ancient-hudson",
   "metadata": {},
   "outputs": [],
   "source": [
    "fig = run_and_plot(dataclasses.replace(parameters, fn_cls=benchmark.DTLZ6, n_offspring=1), pareto_front)"
   ]
  },
  {
   "cell_type": "markdown",
   "id": "generic-jimmy",
   "metadata": {},
   "source": [
    "### Individual-based, steady-state"
   ]
  },
  {
   "cell_type": "code",
   "execution_count": null,
   "id": "alternate-impression",
   "metadata": {},
   "outputs": [],
   "source": [
    "fig = run_and_plot(dataclasses.replace(parameters, fn_cls=benchmark.DTLZ6, success_notion=\"individual\", n_offspring=1), pareto_front)"
   ]
  },
  {
   "cell_type": "markdown",
   "id": "induced-accountability",
   "metadata": {},
   "source": [
    "## DTLZ7"
   ]
  },
  {
   "cell_type": "code",
   "execution_count": null,
   "id": "civic-wayne",
   "metadata": {},
   "outputs": [],
   "source": [
    "pareto_front = np.loadtxt(\"http://www.cs.cinvestav.mx/~emoobook/apendix-e/data/paretoDTLZ7.dat\")"
   ]
  },
  {
   "cell_type": "markdown",
   "id": "metropolitan-compiler",
   "metadata": {},
   "source": [
    "### Population-based"
   ]
  },
  {
   "cell_type": "code",
   "execution_count": null,
   "id": "medical-pacific",
   "metadata": {},
   "outputs": [],
   "source": [
    "fig = run_and_plot(dataclasses.replace(parameters, fn_cls=benchmark.DTLZ7), pareto_front)"
   ]
  },
  {
   "cell_type": "markdown",
   "id": "retired-consumer",
   "metadata": {},
   "source": [
    "### Individual-based"
   ]
  },
  {
   "cell_type": "code",
   "execution_count": null,
   "id": "focused-promotion",
   "metadata": {},
   "outputs": [],
   "source": [
    "fig = run_and_plot(dataclasses.replace(parameters, fn_cls=benchmark.DTLZ7, success_notion=\"individual\"), pareto_front)"
   ]
  },
  {
   "cell_type": "markdown",
   "id": "looking-quick",
   "metadata": {},
   "source": [
    "### Population-based, steady-state"
   ]
  },
  {
   "cell_type": "code",
   "execution_count": null,
   "id": "elect-brooklyn",
   "metadata": {},
   "outputs": [],
   "source": [
    "fig = run_and_plot(dataclasses.replace(parameters, fn_cls=benchmark.DTLZ7, n_offspring=1), pareto_front)"
   ]
  },
  {
   "cell_type": "markdown",
   "id": "pregnant-gasoline",
   "metadata": {},
   "source": [
    "### Individual-based, steady-state"
   ]
  },
  {
   "cell_type": "code",
   "execution_count": null,
   "id": "indonesian-indian",
   "metadata": {},
   "outputs": [],
   "source": [
    "fig = run_and_plot(dataclasses.replace(parameters, fn_cls=benchmark.DTLZ7, success_notion=\"individual\", n_offspring=1), pareto_front)"
   ]
  },
  {
   "cell_type": "code",
   "execution_count": null,
   "id": "dirty-acrylic",
   "metadata": {},
   "outputs": [],
   "source": []
  }
 ],
 "metadata": {
  "kernelspec": {
   "display_name": "Python 3",
   "language": "python",
   "name": "python3"
  },
  "language_info": {
   "codemirror_mode": {
    "name": "ipython",
    "version": 3
   },
   "file_extension": ".py",
   "mimetype": "text/x-python",
   "name": "python",
   "nbconvert_exporter": "python",
   "pygments_lexer": "ipython3",
   "version": "3.8.6"
  }
 },
 "nbformat": 4,
 "nbformat_minor": 5
}
