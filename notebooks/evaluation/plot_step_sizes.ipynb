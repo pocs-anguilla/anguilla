{
 "cells": [
  {
   "cell_type": "code",
   "execution_count": null,
   "id": "local-california",
   "metadata": {},
   "outputs": [],
   "source": [
    "import os\n",
    "import pathlib\n",
    "\n",
    "import numpy as np\n",
    "import matplotlib.pyplot as plt\n",
    "\n",
    "from anguilla.fitness import benchmark\n",
    "from anguilla.evaluation import load_logs\n",
    "\n",
    "import anguilla.hypervolume as hv\n",
    "from anguilla.dominance import NonDominatedSet2D, NonDominatedSetKD"
   ]
  },
  {
   "cell_type": "code",
   "execution_count": null,
   "id": "proved-cattle",
   "metadata": {},
   "outputs": [],
   "source": [
    "FNS_2D = [\n",
    "    'ZDT1',\n",
    "    'ZDT2',\n",
    "    'ZDT3',\n",
    "    'ZDT4',\n",
    "    'ZDT6',\n",
    "    'IHR1',\n",
    "    'IHR2',\n",
    "    'IHR3',\n",
    "    'IHR4',\n",
    "    'IHR6',\n",
    "    'ELLI1',\n",
    "    'ELLI2',\n",
    "    'CIGTAB1',\n",
    "    'CIGTAB2'\n",
    "]\n",
    "\n",
    "FNS_3D = [\n",
    "    'DTLZ1',\n",
    "    'DTLZ2',\n",
    "    'DTLZ3',\n",
    "    'DTLZ4',\n",
    "    'DTLZ5',\n",
    "    'DTLZ6',\n",
    "    'DTLZ7',\n",
    "    'GELLI3',\n",
    "]"
   ]
  },
  {
   "cell_type": "code",
   "execution_count": null,
   "id": "premium-attack",
   "metadata": {},
   "outputs": [],
   "source": [
    "def plot_step_size_history(logs):\n",
    "    fig = plt.figure(figsize=(6, 4))\n",
    "    ax = fig.add_subplot(111)\n",
    "    data = {}\n",
    "    key = None\n",
    "    for log in sorted(logs, key=lambda log: (log.optimizer, log.n_evaluations, log.trial)):\n",
    "        if key is None:\n",
    "            key = (log.optimizer, log.n_evaluations)\n",
    "        if key != (log.optimizer, log.n_evaluations):\n",
    "            data[key[0]][key[1]] = np.median(data[key[0]][key[1]])\n",
    "            key = (log.optimizer, log.n_evaluations)\n",
    "        if log.optimizer not in data:\n",
    "            data[log.optimizer] = {}\n",
    "        if log.n_evaluations not in data[log.optimizer]:\n",
    "            data[log.optimizer][log.n_evaluations] = []\n",
    "        data[log.optimizer][log.n_evaluations] += log.data.tolist()\n",
    "    data[key[0]][key[1]] = np.median(data[key[0]][key[1]])\n",
    "    ticks_set = False\n",
    "    for opt, history in data.items():\n",
    "        ax.plot(history.keys(), history.values(), marker='s', label=opt)\n",
    "        if not ticks_set:\n",
    "            ax.set_xticks(list(history.keys()))\n",
    "            ticks_set = True\n",
    "    ax.set_title(logs[0].fn)\n",
    "    ax.set_ylabel('Step size (median)')\n",
    "    ax.set_xlabel('Function evaluations')\n",
    "    ax.legend()\n",
    "    fig.tight_layout()\n",
    "    return fig"
   ]
  },
  {
   "cell_type": "code",
   "execution_count": null,
   "id": "chronic-portugal",
   "metadata": {},
   "outputs": [],
   "source": [
    "for fn in FNS_2D + FNS_3D:\n",
    "    print(f\"Processing {fn}...\")\n",
    "    path = pathlib.Path(\"./plots/step_size\")\n",
    "    if not path.exists():\n",
    "        os.makedirs(path, exist_ok=True)\n",
    "    logs = load_logs(\"./data/anguilla\", fns=[fn], observations=[\"step_sizes\"], search_subdirs=True)\n",
    "    fig = plot_step_size_history(logs)\n",
    "    fig.savefig(path.joinpath(f\"{fn}.pdf\"), bbox_inches=\"tight\")\n",
    "    fig.savefig(path.joinpath(f\"{fn}.png\"), bbox_inches=\"tight\")\n",
    "    plt.close(fig)"
   ]
  }
 ],
 "metadata": {
  "kernelspec": {
   "display_name": "Python 3",
   "language": "python",
   "name": "python3"
  },
  "language_info": {
   "codemirror_mode": {
    "name": "ipython",
    "version": 3
   },
   "file_extension": ".py",
   "mimetype": "text/x-python",
   "name": "python",
   "nbconvert_exporter": "python",
   "pygments_lexer": "ipython3",
   "version": "3.8.6"
  }
 },
 "nbformat": 4,
 "nbformat_minor": 5
}
