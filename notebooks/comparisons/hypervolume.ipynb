{
 "cells": [
  {
   "cell_type": "code",
   "execution_count": 1,
   "metadata": {},
   "outputs": [],
   "source": [
    "import math\n",
    "import time\n",
    "import timeit\n",
    "import numpy as np\n",
    "import anguilla.hypervolume as hv"
   ]
  },
  {
   "cell_type": "code",
   "execution_count": 2,
   "metadata": {},
   "outputs": [],
   "source": [
    "ref_p_3d = np.array([1.1, 1.1, 1.1], dtype=float)\n",
    "\n",
    "ps_3d = np.array(\n",
    "    [\n",
    "        [6.56039859404455e-2, 0.4474014917277, 0.891923776019316],\n",
    "        [3.74945443950542e-2, 3.1364039802686e-2, 0.998804513479922],\n",
    "        [0.271275894554688, 0.962356894778677, 1.66911984440026e-2],\n",
    "        [0.237023460537611, 0.468951509833942, 0.850825693417425],\n",
    "        [8.35813910785332e-2, 0.199763306732937, 0.97627289850149],\n",
    "        [1.99072649788403e-2, 0.433909411793732, 0.900736544810901],\n",
    "        [9.60698311356187e-2, 0.977187045721721, 0.18940978121319],\n",
    "        [2.68052822856208e-2, 2.30651870780559e-2, 0.999374541394087],\n",
    "        [0.356223209018184, 0.309633114503212, 0.881607826507812],\n",
    "        [0.127964409429531, 0.73123479272024, 0.670015513129912],\n",
    "        [0.695473366395562, 0.588939459338073, 0.411663831140169],\n",
    "        [0.930735605917613, 0.11813654121718, 0.346085234453039],\n",
    "        [0.774030940645471, 2.83363630460836e-2, 0.632513362272141],\n",
    "        [0.882561783965009, 4.80931050853475e-3, 0.470171849451808],\n",
    "        [4.92340623346446e-3, 0.493836329534438, 0.869540936185878],\n",
    "        [0.305054163869799, 0.219367569077876, 0.926725324323535],\n",
    "        [0.575227233936948, 0.395585597387712, 0.715978815661927],\n",
    "        [0.914091673974525, 0.168988399705031, 0.368618138912863],\n",
    "        [0.225088318852838, 0.796785147906617, 0.560775067911755],\n",
    "        [0.306941172015014, 0.203530333828304, 0.929710987422322],\n",
    "        [0.185344081015371, 0.590388202293731, 0.785550343533082],\n",
    "        [0.177181921358634, 0.67105558509432, 0.719924279669315],\n",
    "        [0.668494587335475, 0.22012845825454, 0.710393164782469],\n",
    "        [0.768639363955671, 0.256541291890516, 0.585986427942633],\n",
    "        [0.403457020846225, 0.744309886218013, 0.532189088208334],\n",
    "        [0.659545359568811, 0.641205442223306, 0.39224418355721],\n",
    "        [0.156141960251846, 8.36191498217669e-2, 0.984188765446851],\n",
    "        [0.246039496399399, 0.954377757574506, 0.16919711007753],\n",
    "        [3.02243260456876e-2, 0.43842801306405, 0.898257962656493],\n",
    "        [0.243139979715573, 0.104253945099703, 0.96437236853565],\n",
    "        [0.343877707314699, 0.539556201272222, 0.768522757034998],\n",
    "        [0.715293885551218, 0.689330705208567, 0.114794756629825],\n",
    "        [1.27610149409238e-2, 9.47996983636579e-2, 0.995414573777096],\n",
    "        [0.30565381275615, 0.792827267212719, 0.527257689476066],\n",
    "        [0.43864576057661, 3.10389339442242e-2, 0.8981238674636],\n",
    "    ]\n",
    ")"
   ]
  },
  {
   "cell_type": "code",
   "execution_count": 3,
   "metadata": {},
   "outputs": [
    {
     "data": {
      "text/plain": [
       "array([6.66900683e-05, 1.27052063e-05, 1.45153473e-02, 6.80707501e-04,\n",
       "       4.86460918e-04, 1.59635724e-04, 9.35237153e-03, 7.38816827e-04,\n",
       "       9.73449354e-04, 3.73033034e-03, 2.27674976e-03, 3.05265939e-03,\n",
       "       5.86625018e-03, 8.33617977e-03, 3.61509047e-03, 6.90217889e-05,\n",
       "       2.67173642e-03, 7.66193810e-04, 1.43917818e-03, 7.22979757e-05,\n",
       "       9.12794195e-04, 1.37620025e-03, 3.30936198e-03, 1.90143581e-03,\n",
       "       1.71245687e-03, 2.49798368e-03, 1.69423751e-04, 1.50575051e-03,\n",
       "       1.13226411e-05, 5.48890368e-04, 1.28565415e-03, 2.62821322e-02,\n",
       "       6.36034460e-04, 7.75883941e-04, 5.34042831e-03])"
      ]
     },
     "execution_count": 3,
     "metadata": {},
     "output_type": "execute_result"
    }
   ],
   "source": [
    "hv.shark_contributions(ps_3d, ref_p_3d)"
   ]
  },
  {
   "cell_type": "code",
   "execution_count": 4,
   "metadata": {},
   "outputs": [
    {
     "data": {
      "text/plain": [
       "array([6.66900683e-05, 1.27052063e-05, 1.45153473e-02, 6.80707501e-04,\n",
       "       4.86460918e-04, 1.59635724e-04, 9.35237153e-03, 7.38816827e-04,\n",
       "       9.73449354e-04, 3.73033034e-03, 2.27674976e-03, 3.05265939e-03,\n",
       "       5.86625018e-03, 8.33617977e-03, 3.61509047e-03, 6.90217889e-05,\n",
       "       2.67173642e-03, 7.66193810e-04, 1.43917818e-03, 7.22979757e-05,\n",
       "       9.12794195e-04, 1.37620025e-03, 3.30936198e-03, 1.90143581e-03,\n",
       "       1.71245687e-03, 2.49798368e-03, 1.69423751e-04, 1.50575051e-03,\n",
       "       1.13226411e-05, 5.48890368e-04, 1.28565415e-03, 2.62821322e-02,\n",
       "       6.36034460e-04, 7.75883941e-04, 5.34042831e-03])"
      ]
     },
     "execution_count": 4,
     "metadata": {},
     "output_type": "execute_result"
    }
   ],
   "source": [
    "hv.contributions(ps_3d, ref_p_3d)"
   ]
  },
  {
   "cell_type": "code",
   "execution_count": 5,
   "metadata": {},
   "outputs": [
    {
     "name": "stdout",
     "output_type": "stream",
     "text": [
      "12.2 µs ± 74.7 ns per loop (mean ± std. dev. of 7 runs, 100000 loops each)\n"
     ]
    }
   ],
   "source": [
    "%timeit hv.calculate(ps_3d, ref_p_3d, ds='btree')"
   ]
  },
  {
   "cell_type": "code",
   "execution_count": 6,
   "metadata": {},
   "outputs": [
    {
     "name": "stdout",
     "output_type": "stream",
     "text": [
      "12.7 µs ± 90 ns per loop (mean ± std. dev. of 7 runs, 100000 loops each)\n"
     ]
    }
   ],
   "source": [
    "%timeit hv.calculate(ps_3d, ref_p_3d, ds='rbtree')"
   ]
  },
  {
   "cell_type": "code",
   "execution_count": 7,
   "metadata": {},
   "outputs": [
    {
     "name": "stdout",
     "output_type": "stream",
     "text": [
      "20.7 µs ± 1.81 µs per loop (mean ± std. dev. of 7 runs, 10000 loops each)\n"
     ]
    }
   ],
   "source": [
    "%timeit hv.shark_calculate(ps_3d, ref_p_3d)"
   ]
  },
  {
   "cell_type": "code",
   "execution_count": 8,
   "metadata": {},
   "outputs": [
    {
     "name": "stdout",
     "output_type": "stream",
     "text": [
      "24.1 µs ± 2.91 µs per loop (mean ± std. dev. of 7 runs, 10000 loops each)\n"
     ]
    }
   ],
   "source": [
    "%timeit hv.contributions(ps_3d, ref_p_3d, ds='btree')"
   ]
  },
  {
   "cell_type": "code",
   "execution_count": 9,
   "metadata": {},
   "outputs": [
    {
     "name": "stdout",
     "output_type": "stream",
     "text": [
      "23.7 µs ± 2.46 µs per loop (mean ± std. dev. of 7 runs, 10000 loops each)\n"
     ]
    }
   ],
   "source": [
    "%timeit hv.contributions(ps_3d, ref_p_3d, ds='rbtree')"
   ]
  },
  {
   "cell_type": "code",
   "execution_count": 10,
   "metadata": {},
   "outputs": [
    {
     "name": "stdout",
     "output_type": "stream",
     "text": [
      "24.1 µs ± 1.67 µs per loop (mean ± std. dev. of 7 runs, 10000 loops each)\n"
     ]
    }
   ],
   "source": [
    "%timeit hv.shark_contributions(ps_3d, ref_p_3d)"
   ]
  },
  {
   "cell_type": "code",
   "execution_count": 11,
   "metadata": {},
   "outputs": [
    {
     "name": "stdout",
     "output_type": "stream",
     "text": [
      "739 µs ± 4.8 µs per loop (mean ± std. dev. of 7 runs, 1000 loops each)\n"
     ]
    }
   ],
   "source": [
    "%timeit hv.contributions_naive(ps_3d, ref_p_3d)"
   ]
  },
  {
   "cell_type": "code",
   "execution_count": 12,
   "metadata": {},
   "outputs": [],
   "source": [
    "def cliff_3d(n, rng=np.random.default_rng()):\n",
    "    \"\"\"Generate n Cliff3D points.\"\"\"\n",
    "    vs = rng.standard_normal(size=(n, 2))\n",
    "    ys = np.zeros((n, 3))\n",
    "    for i in range(n):\n",
    "        c = np.linalg.norm(vs[i])\n",
    "        ys[i, 0:2] = 10.0 * np.abs(vs[i]) / c\n",
    "    ys[:, 2] = rng.uniform(low=0.0, high=10.0, size=n)\n",
    "    return ys"
   ]
  },
  {
   "cell_type": "code",
   "execution_count": 13,
   "metadata": {},
   "outputs": [],
   "source": [
    "def run_benchmark(ds='btree', nfronts=100, nruns=30):\n",
    "    elapsed_shark = 0.0\n",
    "    elapsed_anguilla = 0.0\n",
    "    elapsed_anguilla_rbtree = 0.0\n",
    "\n",
    "    front_sizes = np.arange(100, 1100, 100)\n",
    "    \n",
    "    shark_results = []\n",
    "    anguilla_results = []\n",
    "    anguilla_rbtree_results = []\n",
    "    \n",
    "    for front_size in front_sizes:\n",
    "        \n",
    "        print(\"-- FRONT SIZE ({}) --\".format(front_size))\n",
    "    \n",
    "        for _ in range(100):\n",
    "            ys = cliff_3d(front_size)\n",
    "            ref_y = np.max(ys, axis=0) + 1e-4\n",
    "\n",
    "            t_start = time.perf_counter_ns()\n",
    "            for _ in range(nruns):\n",
    "                vol2 = hv.shark_calculate(ys, ref_y)\n",
    "            t_end = time.perf_counter_ns()\n",
    "            t_diff = t_end - t_start\n",
    "            elapsed_shark += t_diff / float(nruns)\n",
    "\n",
    "            t_start = time.perf_counter_ns()\n",
    "            for _ in range(nruns):\n",
    "                vol1 = hv.calculate(ys, ref_y, ds=ds)\n",
    "            t_end = time.perf_counter_ns()\n",
    "            t_diff = t_end - t_start\n",
    "            elapsed_anguilla += t_diff / float(nruns)\n",
    "\n",
    "            assert math.isclose(vol2, vol1)\n",
    "\n",
    "        elapsed_shark /= 100.0\n",
    "        elapsed_anguilla /= 100.0\n",
    "        shark_results.append(elapsed_shark)\n",
    "        anguilla_results.append(elapsed_anguilla)\n",
    "\n",
    "        print(\"HYPERVOLUME CALCULATION\")\n",
    "        print(\"Shark bindings: \", elapsed_shark, \"ns\")\n",
    "        print(\"Anguilla: \", elapsed_anguilla, \"ns\")\n",
    "        print(\"Speedup: \", elapsed_shark / elapsed_anguilla)\n",
    "\n",
    "        elapsed_shark = 0.0\n",
    "        elapsed_anguilla = 0.0\n",
    "\n",
    "        for _ in range(100):\n",
    "            ys = cliff_3d(front_size)\n",
    "            ref_y = np.max(ys, axis=0) + 1e-4\n",
    "\n",
    "            t_start = time.perf_counter_ns()\n",
    "            for _ in range(nruns):\n",
    "                contribs2 = hv.shark_contributions(ys, ref_y)\n",
    "            t_end = time.perf_counter_ns()\n",
    "            t_diff = t_end - t_start\n",
    "            elapsed_shark += t_diff / float(nruns)\n",
    "\n",
    "            t_start = time.perf_counter_ns()\n",
    "            for _ in range(nruns):\n",
    "                contribs1 = hv.contributions(ys, ref_y, ds=ds)\n",
    "            t_end = time.perf_counter_ns()\n",
    "            t_diff = t_end - t_start\n",
    "            elapsed_anguilla += t_diff / float(nruns)\n",
    "\n",
    "            assert np.allclose(contribs2, contribs1)\n",
    "\n",
    "        elapsed_shark /= 100.0\n",
    "        elapsed_anguilla /= 100.0\n",
    "        shark_results.append(elapsed_shark)\n",
    "        anguilla_results.append(elapsed_anguilla)\n",
    "\n",
    "        print(\"HYPERVOLUME CONTRIBUTIONS\")\n",
    "        print(\"Shark bindings: \", elapsed_shark, \"ns\")\n",
    "        print(\"Anguilla: \", elapsed_anguilla, \"ns\")\n",
    "        print(\"Speedup: \", elapsed_shark / elapsed_anguilla)\n",
    "        print(\"\")"
   ]
  },
  {
   "cell_type": "code",
   "execution_count": 14,
   "metadata": {},
   "outputs": [
    {
     "name": "stdout",
     "output_type": "stream",
     "text": [
      "-- FRONT SIZE (100) --\n",
      "HYPERVOLUME CALCULATION\n",
      "Shark bindings:  74793.03666666667 ns\n",
      "Anguilla:  40846.21399999999 ns\n",
      "Speedup:  1.8310885965261476\n",
      "HYPERVOLUME CONTRIBUTIONS\n",
      "Shark bindings:  94051.1843333334 ns\n",
      "Anguilla:  75911.27233333333 ns\n",
      "Speedup:  1.2389620334691014\n",
      "\n",
      "-- FRONT SIZE (200) --\n",
      "HYPERVOLUME CALCULATION\n",
      "Shark bindings:  144119.59951000003 ns\n",
      "Anguilla:  75645.02872333335 ns\n",
      "Speedup:  1.9052091319458395\n",
      "HYPERVOLUME CONTRIBUTIONS\n",
      "Shark bindings:  185315.29066666667 ns\n",
      "Anguilla:  152623.52566666665 ns\n",
      "Speedup:  1.214198727602451\n",
      "\n",
      "-- FRONT SIZE (300) --\n",
      "HYPERVOLUME CALCULATION\n",
      "Shark bindings:  258495.07223999995 ns\n",
      "Anguilla:  139433.1932566667 ns\n",
      "Speedup:  1.8538991053885265\n",
      "HYPERVOLUME CONTRIBUTIONS\n",
      "Shark bindings:  666742.5803333331 ns\n",
      "Anguilla:  640615.3003333334 ns\n",
      "Speedup:  1.0407846643475496\n",
      "\n",
      "-- FRONT SIZE (400) --\n",
      "HYPERVOLUME CALCULATION\n",
      "Shark bindings:  327558.0768033333 ns\n",
      "Anguilla:  191275.45567000002 ns\n",
      "Speedup:  1.7124940346160058\n",
      "HYPERVOLUME CONTRIBUTIONS\n",
      "Shark bindings:  742267.0293333337 ns\n",
      "Anguilla:  802329.0746666662 ns\n",
      "Speedup:  0.9251403853733137\n",
      "\n",
      "-- FRONT SIZE (500) --\n",
      "HYPERVOLUME CALCULATION\n",
      "Shark bindings:  375948.6599600001 ns\n",
      "Anguilla:  234491.57908 ns\n",
      "Speedup:  1.6032501526706853\n",
      "HYPERVOLUME CONTRIBUTIONS\n",
      "Shark bindings:  813516.007 ns\n",
      "Anguilla:  952341.1443333335 ns\n",
      "Speedup:  0.8542275127359795\n",
      "\n",
      "-- FRONT SIZE (600) --\n",
      "HYPERVOLUME CALCULATION\n",
      "Shark bindings:  502134.77373666636 ns\n",
      "Anguilla:  297003.84910999995 ns\n",
      "Speedup:  1.6906675628661398\n",
      "HYPERVOLUME CONTRIBUTIONS\n",
      "Shark bindings:  1319627.191333333 ns\n",
      "Anguilla:  1225339.6246666661 ns\n",
      "Speedup:  1.076948108727257\n",
      "\n",
      "-- FRONT SIZE (700) --\n",
      "HYPERVOLUME CALCULATION\n",
      "Shark bindings:  563805.6412466665 ns\n",
      "Anguilla:  342978.8512466667 ns\n",
      "Speedup:  1.6438495819708243\n",
      "HYPERVOLUME CONTRIBUTIONS\n",
      "Shark bindings:  1129592.6670000001 ns\n",
      "Anguilla:  1270947.539 ns\n",
      "Speedup:  0.8887799317734074\n",
      "\n",
      "-- FRONT SIZE (800) --\n",
      "HYPERVOLUME CALCULATION\n",
      "Shark bindings:  653910.4830033333 ns\n",
      "Anguilla:  410090.01205666654 ns\n",
      "Speedup:  1.594553546241881\n",
      "HYPERVOLUME CONTRIBUTIONS\n",
      "Shark bindings:  885786.0500000003 ns\n",
      "Anguilla:  758000.8780000001 ns\n",
      "Speedup:  1.1685818258379381\n",
      "\n",
      "-- FRONT SIZE (900) --\n",
      "HYPERVOLUME CALCULATION\n",
      "Shark bindings:  754138.0331666666 ns\n",
      "Anguilla:  470839.32344666653 ns\n",
      "Speedup:  1.6016887197232799\n",
      "HYPERVOLUME CONTRIBUTIONS\n",
      "Shark bindings:  962660.3083333332 ns\n",
      "Anguilla:  830410.6876666669 ns\n",
      "Speedup:  1.1592580907626182\n",
      "\n",
      "-- FRONT SIZE (1000) --\n",
      "HYPERVOLUME CALCULATION\n",
      "Shark bindings:  884700.2877499999 ns\n",
      "Anguilla:  552039.0995433335 ns\n",
      "Speedup:  1.6026043961050143\n",
      "HYPERVOLUME CONTRIBUTIONS\n",
      "Shark bindings:  1124863.021333333 ns\n",
      "Anguilla:  982154.1233333333 ns\n",
      "Speedup:  1.1453019384734242\n",
      "\n"
     ]
    }
   ],
   "source": [
    "run_benchmark(ds='btree')"
   ]
  },
  {
   "cell_type": "code",
   "execution_count": 15,
   "metadata": {},
   "outputs": [
    {
     "name": "stdout",
     "output_type": "stream",
     "text": [
      "-- FRONT SIZE (100) --\n",
      "HYPERVOLUME CALCULATION\n",
      "Shark bindings:  77962.93333333332 ns\n",
      "Anguilla:  51843.333333333314 ns\n",
      "Speedup:  1.5038179129428408\n",
      "HYPERVOLUME CONTRIBUTIONS\n",
      "Shark bindings:  96489.16666666658 ns\n",
      "Anguilla:  78892.16666666667 ns\n",
      "Speedup:  1.2230512957560202\n",
      "\n",
      "-- FRONT SIZE (200) --\n",
      "HYPERVOLUME CALCULATION\n",
      "Shark bindings:  192490.92499999996 ns\n",
      "Anguilla:  131861.35500000004 ns\n",
      "Speedup:  1.4597978687538886\n",
      "HYPERVOLUME CONTRIBUTIONS\n",
      "Shark bindings:  231622.0 ns\n",
      "Anguilla:  194540.10000000003 ns\n",
      "Speedup:  1.190613143511286\n",
      "\n",
      "-- FRONT SIZE (300) --\n",
      "HYPERVOLUME CALCULATION\n",
      "Shark bindings:  283959.5866666668 ns\n",
      "Anguilla:  193046.46766666666 ns\n",
      "Speedup:  1.47093904435993\n",
      "HYPERVOLUME CONTRIBUTIONS\n",
      "Shark bindings:  769635.7999999998 ns\n",
      "Anguilla:  751169.1666666663 ns\n",
      "Speedup:  1.0245838542804941\n",
      "\n",
      "-- FRONT SIZE (400) --\n",
      "HYPERVOLUME CALCULATION\n",
      "Shark bindings:  332857.45800000004 ns\n",
      "Anguilla:  232886.55833333332 ns\n",
      "Speedup:  1.4292686550143319\n",
      "HYPERVOLUME CONTRIBUTIONS\n",
      "Shark bindings:  1038602.3 ns\n",
      "Anguilla:  1164724.933333333 ns\n",
      "Speedup:  0.8917146617850946\n",
      "\n",
      "-- FRONT SIZE (500) --\n",
      "HYPERVOLUME CALCULATION\n",
      "Shark bindings:  483807.523 ns\n",
      "Anguilla:  356145.8159999999 ns\n",
      "Speedup:  1.3584534796275696\n",
      "HYPERVOLUME CONTRIBUTIONS\n",
      "Shark bindings:  980209.566666666 ns\n",
      "Anguilla:  1134878.9999999998 ns\n",
      "Speedup:  0.8637128422207708\n",
      "\n",
      "-- FRONT SIZE (600) --\n",
      "HYPERVOLUME CALCULATION\n",
      "Shark bindings:  514426.06233333325 ns\n",
      "Anguilla:  360190.09000000014 ns\n",
      "Speedup:  1.4282071512109982\n",
      "HYPERVOLUME CONTRIBUTIONS\n",
      "Shark bindings:  1377037.9000000004 ns\n",
      "Anguilla:  1320040.0666666664 ns\n",
      "Speedup:  1.0431788661364374\n",
      "\n",
      "-- FRONT SIZE (700) --\n",
      "HYPERVOLUME CALCULATION\n",
      "Shark bindings:  599042.0123333334 ns\n",
      "Anguilla:  431298.26733333344 ns\n",
      "Speedup:  1.3889274724824188\n",
      "HYPERVOLUME CONTRIBUTIONS\n",
      "Shark bindings:  817701.5333333333 ns\n",
      "Anguilla:  900668.2000000003 ns\n",
      "Speedup:  0.9078832064164506\n",
      "\n",
      "-- FRONT SIZE (800) --\n",
      "HYPERVOLUME CALCULATION\n",
      "Shark bindings:  655498.5153333333 ns\n",
      "Anguilla:  476017.5153333334 ns\n",
      "Speedup:  1.3770470502000698\n",
      "HYPERVOLUME CONTRIBUTIONS\n",
      "Shark bindings:  938078.1 ns\n",
      "Anguilla:  988835.8666666661 ns\n",
      "Speedup:  0.948669169092977\n",
      "\n",
      "-- FRONT SIZE (900) --\n",
      "HYPERVOLUME CALCULATION\n",
      "Shark bindings:  736781.0143333334 ns\n",
      "Anguilla:  543806.7919999999 ns\n",
      "Speedup:  1.3548580583622676\n",
      "HYPERVOLUME CONTRIBUTIONS\n",
      "Shark bindings:  1039925.3666666667 ns\n",
      "Anguilla:  1037112.0999999997 ns\n",
      "Speedup:  1.0027125965135948\n",
      "\n",
      "-- FRONT SIZE (1000) --\n",
      "HYPERVOLUME CALCULATION\n",
      "Shark bindings:  805493.0203333336 ns\n",
      "Anguilla:  603719.2876666668 ns\n",
      "Speedup:  1.3342178008698518\n",
      "HYPERVOLUME CONTRIBUTIONS\n",
      "Shark bindings:  1191319.933333333 ns\n",
      "Anguilla:  1117990.2000000004 ns\n",
      "Speedup:  1.0655906763166016\n",
      "\n"
     ]
    }
   ],
   "source": [
    "run_benchmark(ds='rbtree')"
   ]
  },
  {
   "cell_type": "markdown",
   "metadata": {},
   "source": [
    "## 2-D case"
   ]
  },
  {
   "cell_type": "code",
   "execution_count": 24,
   "metadata": {},
   "outputs": [],
   "source": [
    "# Front with dominated points\n",
    "front_0 = np.array([\n",
    "    [0.16, 0.86],\n",
    "    [0.66, 0.37],\n",
    "    [0.79, 0.79],\n",
    "    [0.28, 0.99],\n",
    "    [0.51, 0.37],\n",
    "    [0.92, 0.62],\n",
    "    [0.16, 0.53],\n",
    "    [0.01, 0.98],\n",
    "    [0.67, 0.17],\n",
    "    [0.79, 0.72]\n",
    "])\n",
    "\n",
    "ref_p_0 = np.array([1., 1.])"
   ]
  },
  {
   "cell_type": "code",
   "execution_count": 25,
   "metadata": {},
   "outputs": [
    {
     "data": {
      "text/plain": [
       "0.5421999999999999"
      ]
     },
     "execution_count": 25,
     "metadata": {},
     "output_type": "execute_result"
    }
   ],
   "source": [
    "hv.shark_calculate(front_0, ref_p_0)"
   ]
  },
  {
   "cell_type": "code",
   "execution_count": 26,
   "metadata": {},
   "outputs": [
    {
     "data": {
      "text/plain": [
       "array([-0.0396,  0.    , -0.0091, -0.0299,  0.093 ,  0.0136,  0.    ,\n",
       "        0.003 ,  0.024 , -0.    ])"
      ]
     },
     "execution_count": 26,
     "metadata": {},
     "output_type": "execute_result"
    }
   ],
   "source": [
    "hv.shark_contributions(front_0, ref_p_0)"
   ]
  },
  {
   "cell_type": "code",
   "execution_count": 27,
   "metadata": {},
   "outputs": [
    {
     "data": {
      "text/plain": [
       "0.5422"
      ]
     },
     "execution_count": 27,
     "metadata": {},
     "output_type": "execute_result"
    }
   ],
   "source": [
    "hv.calculate(front_0, ref_p_0)"
   ]
  },
  {
   "cell_type": "code",
   "execution_count": 31,
   "metadata": {},
   "outputs": [
    {
     "data": {
      "text/plain": [
       "array([0.    , 0.    , 0.    , 0.    , 0.0992, 0.    , 0.1575, 0.003 ,\n",
       "       0.066 , 0.    ])"
      ]
     },
     "execution_count": 31,
     "metadata": {},
     "output_type": "execute_result"
    }
   ],
   "source": [
    "hv.contributions(front_0, ref_p_0)"
   ]
  },
  {
   "cell_type": "code",
   "execution_count": 32,
   "metadata": {},
   "outputs": [
    {
     "data": {
      "text/plain": [
       "array([0.00000000e+00, 1.11022302e-16, 1.11022302e-16, 1.11022302e-16,\n",
       "       2.40000000e-02, 1.11022302e-16, 1.15500000e-01, 3.00000000e-03,\n",
       "       6.60000000e-02, 1.11022302e-16])"
      ]
     },
     "execution_count": 32,
     "metadata": {},
     "output_type": "execute_result"
    }
   ],
   "source": [
    "hv.contributions_naive(front_0, ref_p_0)"
   ]
  },
  {
   "cell_type": "code",
   "execution_count": 33,
   "metadata": {},
   "outputs": [],
   "source": [
    "# Test case\n",
    "front_2 = np.array([[0.0024631887,0.9503694783],\n",
    "                    [1.0000000000,0.0000000000]])\n",
    "\n",
    "front_2 = np.array([\n",
    "    [0.0000004413,0.9993357234],\n",
    "    [0.0132868566,0.8847313720],\n",
    "    [0.0397074233,0.8007327842],\n",
    "    [0.0731837522,0.7294750434],\n",
    "    [0.1117377343,0.6657280534],\n",
    "    [0.1543553951,0.6071191082],\n",
    "    [0.2004080498,0.5523304234],\n",
    "    [0.2494624831,0.5005378062],\n",
    "    [0.3011993915,0.4511836450],\n",
    "    [0.3553721099,0.4038690497],\n",
    "    [0.4117834993,0.3582964085],\n",
    "    [0.4702717382,0.3142363831],\n",
    "    [0.5307012214,0.2715075694],\n",
    "    [0.5929564562,0.2299633410],\n",
    "    [0.6569376105,0.1894831214],\n",
    "    [0.7225573788,0.1499662484],\n",
    "    [0.7897387115,0.1113275567],\n",
    "    [0.8584129887,0.0734942047],\n",
    "    [0.9285186283,0.0364032854],\n",
    "    [1.0000000000,0.0000000000]\n",
    "])\n",
    "\n",
    "ref_p_2 = np.array([11., 11.])"
   ]
  },
  {
   "cell_type": "code",
   "execution_count": 34,
   "metadata": {},
   "outputs": [
    {
     "data": {
      "text/plain": [
       "120.64239629678224"
      ]
     },
     "execution_count": 34,
     "metadata": {},
     "output_type": "execute_result"
    }
   ],
   "source": [
    "hv.calculate(front_2, ref_p_2)"
   ]
  },
  {
   "cell_type": "code",
   "execution_count": 35,
   "metadata": {},
   "outputs": [
    {
     "data": {
      "text/plain": [
       "array([0.13287298, 0.00302791, 0.00281196, 0.00274727, 0.00271675,\n",
       "       0.0026991 , 0.00268763, 0.00267959, 0.00267365, 0.00266908,\n",
       "       0.00266546, 0.00266252, 0.00266009, 0.00265805, 0.0026563 ,\n",
       "       0.0026548 , 0.00265348, 0.00265233, 0.00265131, 0.36403285])"
      ]
     },
     "execution_count": 35,
     "metadata": {},
     "output_type": "execute_result"
    }
   ],
   "source": [
    "hv.contributions(front_2, ref_p_2)"
   ]
  },
  {
   "cell_type": "code",
   "execution_count": 36,
   "metadata": {},
   "outputs": [
    {
     "data": {
      "text/plain": [
       "120.64239629678224"
      ]
     },
     "execution_count": 36,
     "metadata": {},
     "output_type": "execute_result"
    }
   ],
   "source": [
    "hv.shark_calculate(front_2, ref_p_2)"
   ]
  },
  {
   "cell_type": "code",
   "execution_count": 37,
   "metadata": {},
   "outputs": [
    {
     "data": {
      "text/plain": [
       "array([0.13287298, 0.00302791, 0.00281196, 0.00274727, 0.00271675,\n",
       "       0.0026991 , 0.00268763, 0.00267959, 0.00267365, 0.00266908,\n",
       "       0.00266546, 0.00266252, 0.00266009, 0.00265805, 0.0026563 ,\n",
       "       0.0026548 , 0.00265348, 0.00265233, 0.00265131, 0.36403285])"
      ]
     },
     "execution_count": 37,
     "metadata": {},
     "output_type": "execute_result"
    }
   ],
   "source": [
    "hv.shark_contributions(front_2, ref_p_2)"
   ]
  },
  {
   "cell_type": "markdown",
   "metadata": {},
   "source": [
    "## Check handling of duplicates"
   ]
  },
  {
   "cell_type": "code",
   "execution_count": 38,
   "metadata": {},
   "outputs": [
    {
     "name": "stdout",
     "output_type": "stream",
     "text": [
      "1.2 1.2 1.2\n",
      "\n",
      "0.34809801 0.04027377 0.95910607\n",
      "0.46405603 1.18309998 0.18992489\n",
      "0.32362821 1.10760308 0.68271139\n",
      "0.05260465 0.23849614 0.99947899\n",
      "0.02506317 0.05318015 1.13008007\n",
      "0.50609626 0.59867043 0.95899003\n",
      "0.76977749 0.00581139 1.03351874\n",
      "0.34809801 0.04027377 0.95910607\n",
      "0.46405603 1.18309998 0.18992489\n",
      "0.32362821 1.10760308 0.68271139\n",
      "0.05260465 0.23849614 0.99947899\n",
      "0.02506317 0.05318015 1.13008007\n",
      "0.50609626 0.59867043 0.95899003\n",
      "0.76977749 0.00581139 1.03351874\n"
     ]
    }
   ],
   "source": [
    "front_1 = np.array([\n",
    "    [0.34809801, 0.04027377, 0.95910607],\n",
    "    [0.46405603, 1.18309998, 0.18992489],\n",
    "    [0.32362821, 1.10760308, 0.68271139],\n",
    "    [0.05260465, 0.23849614, 0.99947899],\n",
    "    [0.02506317, 0.05318015, 1.13008007],\n",
    "    [0.50609626, 0.59867043, 0.95899003],\n",
    "    [0.76977749, 0.00581139, 1.03351874],\n",
    "    [0.34809801, 0.04027377, 0.95910607],\n",
    "    [0.46405603, 1.18309998, 0.18992489],\n",
    "    [0.32362821, 1.10760308, 0.68271139],\n",
    "    [0.05260465, 0.23849614, 0.99947899],\n",
    "    [0.02506317, 0.05318015, 1.13008007],\n",
    "    [0.50609626, 0.59867043, 0.95899003],\n",
    "    [0.76977749, 0.00581139, 1.03351874],\n",
    "])\n",
    "\n",
    "ref_p_1 = np.array([1.2, 1.2, 1.2])\n",
    "\n",
    "print(' '.join([str(xi) for xi in ref_p_1]))\n",
    "\n",
    "print('')\n",
    "\n",
    "for x in front_1:\n",
    "    print(' '.join([str(xi) for xi in x]))"
   ]
  },
  {
   "cell_type": "code",
   "execution_count": 39,
   "metadata": {},
   "outputs": [
    {
     "data": {
      "text/plain": [
       "array([3.66516637e-02, 6.12901623e-03, 1.90283493e-02, 3.68108380e-02,\n",
       "       6.03721961e-03, 4.09795572e-05, 2.46833301e-03, 3.66516637e-02,\n",
       "       6.12901623e-03, 1.90283493e-02, 3.68108380e-02, 6.03721961e-03,\n",
       "       4.09795572e-05, 2.46833301e-03])"
      ]
     },
     "execution_count": 39,
     "metadata": {},
     "output_type": "execute_result"
    }
   ],
   "source": [
    "hv.contributions(front_1, ref_p_1)"
   ]
  },
  {
   "cell_type": "code",
   "execution_count": 40,
   "metadata": {},
   "outputs": [
    {
     "data": {
      "text/plain": [
       "0.3321159750270065"
      ]
     },
     "execution_count": 40,
     "metadata": {},
     "output_type": "execute_result"
    }
   ],
   "source": [
    "hv.calculate(front_1, ref_p_1)"
   ]
  },
  {
   "cell_type": "code",
   "execution_count": 41,
   "metadata": {},
   "outputs": [
    {
     "data": {
      "text/plain": [
       "array([0., 0., 0., 0., 0., 0., 0., 0., 0., 0., 0., 0., 0., 0.])"
      ]
     },
     "execution_count": 41,
     "metadata": {},
     "output_type": "execute_result"
    }
   ],
   "source": [
    "hv.shark_contributions(front_1, ref_p_1)"
   ]
  },
  {
   "cell_type": "code",
   "execution_count": 42,
   "metadata": {},
   "outputs": [
    {
     "data": {
      "text/plain": [
       "0.3321159750270065"
      ]
     },
     "execution_count": 42,
     "metadata": {},
     "output_type": "execute_result"
    }
   ],
   "source": [
    "hv.shark_calculate(front_1, ref_p_1)"
   ]
  },
  {
   "cell_type": "code",
   "execution_count": 43,
   "metadata": {},
   "outputs": [
    {
     "data": {
      "text/plain": [
       "array([0., 0., 0., 0., 0., 0., 0., 0., 0., 0., 0., 0., 0., 0.])"
      ]
     },
     "execution_count": 43,
     "metadata": {},
     "output_type": "execute_result"
    }
   ],
   "source": [
    "hv.contributions_naive(front_1, ref_p_1)"
   ]
  }
 ],
 "metadata": {
  "kernelspec": {
   "display_name": "Python 3",
   "language": "python",
   "name": "python3"
  },
  "language_info": {
   "codemirror_mode": {
    "name": "ipython",
    "version": 3
   },
   "file_extension": ".py",
   "mimetype": "text/x-python",
   "name": "python",
   "nbconvert_exporter": "python",
   "pygments_lexer": "ipython3",
   "version": "3.8.6"
  }
 },
 "nbformat": 4,
 "nbformat_minor": 4
}
