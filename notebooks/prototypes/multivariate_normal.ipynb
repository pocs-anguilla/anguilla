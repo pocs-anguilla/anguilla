{
 "cells": [
  {
   "cell_type": "code",
   "execution_count": 77,
   "metadata": {},
   "outputs": [],
   "source": [
    "import math\n",
    "\n",
    "import numpy as np\n",
    "from sklearn.datasets import make_spd_matrix"
   ]
  },
  {
   "cell_type": "code",
   "execution_count": 5,
   "metadata": {},
   "outputs": [
    {
     "name": "stdout",
     "output_type": "stream",
     "text": [
      "xbar:\n",
      " [0.2 0.2 0.2]\n",
      "C:\n",
      " [[ 0.74441055 -0.50552535 -0.08513618]\n",
      " [-0.50552535  3.48581245  0.05719362]\n",
      " [-0.08513618  0.05719362  0.47383848]]\n",
      "D:\n",
      " [0.66788556 0.82479747 1.89148077]\n",
      "B:\n",
      " [[ 0.33258747  0.92645224 -0.176272  ]\n",
      " [ 0.037581    0.17374413  0.9840735 ]\n",
      " [ 0.94232332 -0.33391499  0.02296812]]\n"
     ]
    }
   ],
   "source": [
    "np.random.seed(0)\n",
    "rng = np.random.default_rng(seed=0)\n",
    "n = 3\n",
    "lambda_ = 5\n",
    "sigma = 0.3\n",
    "\n",
    "xbar = np.repeat(0.2, n)\n",
    "\n",
    "C = make_spd_matrix(n)\n",
    "Dsq, B = np.linalg.eigh(C)\n",
    "D = np.sqrt(Dsq)\n",
    "\n",
    "print('xbar:\\n', xbar)\n",
    "print('C:\\n', C)\n",
    "print('D:\\n', D)\n",
    "print('B:\\n', B)"
   ]
  },
  {
   "cell_type": "code",
   "execution_count": 3,
   "metadata": {},
   "outputs": [
    {
     "name": "stdout",
     "output_type": "stream",
     "text": [
      "zs:\n",
      " [[ 0.76103773  0.12167502  0.44386323]\n",
      " [ 0.33367433  1.49407907 -0.20515826]\n",
      " [ 0.3130677  -0.85409574 -2.55298982]\n",
      " [ 0.6536186   0.8644362  -0.74216502]\n",
      " [ 2.26975462 -1.45436567  0.04575852]]\n"
     ]
    }
   ],
   "source": [
    "zs = np.random.standard_normal(size=(lambda_, n))\n",
    "print('zs:\\n', zs)"
   ]
  },
  {
   "cell_type": "code",
   "execution_count": 4,
   "metadata": {},
   "outputs": [
    {
     "name": "stdout",
     "output_type": "stream",
     "text": [
      "xs:\n",
      " [[ 0.23421052  0.45881777  0.33942264]\n",
      " [ 0.58526026  0.1521829   0.13688064]\n",
      " [ 0.28043071 -1.25996809  0.29640516]\n",
      " [ 0.51595518 -0.17234523  0.24231361]\n",
      " [ 0.01327774  0.18011819  0.74931206]]\n"
     ]
    }
   ],
   "source": [
    "BD = B * D  # B * D = B @ diag(D)\n",
    "#xs = xbar + sigma * (zs @ BD.T)\n",
    "xs = xbar + sigma * (zs @ BD.T)\n",
    "print('xs:\\n', xs)"
   ]
  },
  {
   "cell_type": "code",
   "execution_count": 5,
   "metadata": {},
   "outputs": [
    {
     "name": "stdout",
     "output_type": "stream",
     "text": [
      "z_0:\n",
      " [0.76103773 0.12167502 0.44386323]\n",
      "z_1:\n",
      " [ 0.33367433  1.49407907 -0.20515826]\n",
      "z_2:\n",
      " [ 0.3130677  -0.85409574 -2.55298982]\n",
      "z_3:\n",
      " [ 0.6536186   0.8644362  -0.74216502]\n",
      "z_4:\n",
      " [ 2.26975462 -1.45436567  0.04575852]\n"
     ]
    }
   ],
   "source": [
    "# Transformation to obtain zs:\n",
    "#\n",
    "#       x                       = m + sig * BDz\n",
    "#   <=> (x-m) / sig             = BDz\n",
    "#   <=> D^-1 B^-1 ((x-m) / sig) = z\n",
    "#   <=> D^-1 B' ((x-m) / sig)   = z\n",
    "\n",
    "for i, x in enumerate(xs):\n",
    "    y = (x - xbar) / sigma\n",
    "    #BD_inv = np.linalg.inv(np.diag(D)) @ B.T\n",
    "    BD_inv = np.diag(1. / D) @ B.T\n",
    "    z = BD_inv @ y\n",
    "    print('z_{}:\\n'.format(i), z)"
   ]
  },
  {
   "cell_type": "code",
   "execution_count": 6,
   "metadata": {},
   "outputs": [
    {
     "name": "stdout",
     "output_type": "stream",
     "text": [
      "zsb:\n",
      " [[ 0.76103773  0.12167502  0.44386323]\n",
      " [ 0.33367433  1.49407907 -0.20515826]\n",
      " [ 0.3130677  -0.85409574 -2.55298982]\n",
      " [ 0.6536186   0.8644362  -0.74216502]\n",
      " [ 2.26975462 -1.45436567  0.04575852]]\n"
     ]
    }
   ],
   "source": [
    "# Now in vectorized fashion:\n",
    "ys = (xs - xbar) / sigma\n",
    "BD_inv = np.diag(1. / D) @ B.T\n",
    "zsb = ys @ BD_inv.T\n",
    "print('zsb:\\n', zsb)"
   ]
  },
  {
   "cell_type": "markdown",
   "metadata": {},
   "source": [
    "# Like in the paper"
   ]
  },
  {
   "cell_type": "code",
   "execution_count": 91,
   "metadata": {},
   "outputs": [],
   "source": [
    "n = 3\n",
    "lambda_ = 7\n",
    "rng = np.random.default_rng(0)\n",
    "sigma = 0.3\n",
    "\n",
    "xbar = np.repeat(0.2, n).reshape(n, 1)\n",
    "\n",
    "C = make_spd_matrix(n)\n",
    "D_sq, B = np.linalg.eigh(C)\n",
    "D = np.diag(np.sqrt(D_sq))\n",
    "\n",
    "z = rng.standard_normal(size=(n, lambda_))\n",
    "\n",
    "BD = B @ D\n",
    "\n",
    "x = xbar + sigma * (BD @ z)\n",
    "\n",
    "y = (x - xbar) / sigma\n",
    "assert np.allclose(y, BD @ z)\n",
    "\n",
    "BD_inv = np.diag(1. / np.diag(D)) @ B.T\n",
    "\n",
    "zb = BD_inv @ y\n",
    "assert np.allclose(z, zb)\n",
    "assert np.allclose(y, BD @ zb)"
   ]
  }
 ],
 "metadata": {
  "kernelspec": {
   "display_name": "Python 3",
   "language": "python",
   "name": "python3"
  },
  "language_info": {
   "codemirror_mode": {
    "name": "ipython",
    "version": 3
   },
   "file_extension": ".py",
   "mimetype": "text/x-python",
   "name": "python",
   "nbconvert_exporter": "python",
   "pygments_lexer": "ipython3",
   "version": "3.8.6"
  }
 },
 "nbformat": 4,
 "nbformat_minor": 4
}
