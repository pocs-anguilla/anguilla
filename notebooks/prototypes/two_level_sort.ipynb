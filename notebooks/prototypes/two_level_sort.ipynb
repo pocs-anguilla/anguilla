{
 "cells": [
  {
   "cell_type": "code",
   "execution_count": 55,
   "metadata": {},
   "outputs": [],
   "source": [
    "import os\n",
    "import sys\n",
    "sys.path.append(os.path.abspath('../../'))"
   ]
  },
  {
   "cell_type": "code",
   "execution_count": 56,
   "metadata": {},
   "outputs": [],
   "source": [
    "import numpy as np\n",
    "import anguilla.hypervolume as hv\n",
    "\n",
    "from anguilla.dominance import fast_non_dominated_sort"
   ]
  },
  {
   "cell_type": "code",
   "execution_count": 125,
   "metadata": {},
   "outputs": [],
   "source": [
    "def rank(fitness_values):\n",
    "        population_size = len(fitness_values)\n",
    "        n_parents = 10\n",
    "        ref_point = np.max(fitness_values[:n_parents], axis=0) + 1.0\n",
    "        contrib = hv.contributions(fitness_values, ref_point)\n",
    "        fronts = np.zeros(population_size, dtype=int)\n",
    "        fast_non_dominated_sort(fitness_values, out=fronts)\n",
    "        ranking_idx = np.argsort(fronts)\n",
    "        last_rank = 1\n",
    "        selected_individuals: List[int] = []\n",
    "        last_front_individuals: List[int] = []\n",
    "        k = 0\n",
    "        while k < population_size:\n",
    "            individual = ranking_idx[k]\n",
    "            if fronts[individual] > last_rank:\n",
    "                if k < n_parents:\n",
    "                    last_rank += 1\n",
    "                    selected_individuals += last_front_individuals\n",
    "                    last_front_individuals = [individual]\n",
    "                else:\n",
    "                    break\n",
    "            else:\n",
    "                last_front_individuals.append(individual)\n",
    "            k += 1\n",
    "        selected_individuals = np.array(selected_individuals, dtype=int)\n",
    "        last_front_individuals = np.array(last_front_individuals, dtype=int)\n",
    "        # Select best using HV indicator\n",
    "        remaining = n_parents - len(selected_individuals)\n",
    "        if remaining > 0:\n",
    "            last_front_contrib = contrib[last_front_individuals]\n",
    "            tmp_idx = np.argsort(-last_front_contrib)\n",
    "            tmp_idx = tmp_idx[:remaining]\n",
    "            selected_individuals = np.concatenate([selected_individuals,\n",
    "                                                   last_front_individuals[tmp_idx]], dtype=int)\n",
    "        return selected_individuals"
   ]
  },
  {
   "cell_type": "code",
   "execution_count": 142,
   "metadata": {},
   "outputs": [
    {
     "name": "stdout",
     "output_type": "stream",
     "text": [
      "[[0.04971002 0.25956966 0.52786128]\n",
      " [0.65839716 0.8994224  0.57042234]\n",
      " [0.20422348 0.40745695 0.42366698]\n",
      " [0.62713478 0.04315244 0.64992065]\n",
      " [0.61041298 0.62710931 0.28541079]\n",
      " [0.3680862  0.05470941 0.20835542]\n",
      " [0.91897839 0.6009968  0.2748785 ]\n",
      " [0.70629644 0.14811012 0.09505836]\n",
      " [0.64553598 0.76802    0.19044925]\n",
      " [0.78707968 0.00282225 0.38249261]\n",
      " [0.00609302 0.19624744 0.40992622]\n",
      " [0.66945053 0.34341635 0.71292303]\n",
      " [0.15389157 0.28830047 0.72198954]\n",
      " [0.54970468 0.61713498 0.44390845]\n",
      " [0.62977097 0.98383036 0.20464176]\n",
      " [0.20432326 0.73884245 0.07880491]\n",
      " [0.95483012 0.02599562 0.5052506 ]\n",
      " [0.78362267 0.93612048 0.48561225]\n",
      " [0.95416507 0.69339158 0.258661  ]\n",
      " [0.4129452  0.20282797 0.68385515]\n",
      " [0.76389352 0.95014305 0.05946527]\n",
      " [0.28904165 0.9797385  0.34713371]\n",
      " [0.34524075 0.79967048 0.99177903]\n",
      " [0.88999544 0.41328192 0.50957201]\n",
      " [0.32056258 0.87629189 0.61891068]\n",
      " [0.80775815 0.98243558 0.25574373]\n",
      " [0.89716837 0.94767645 0.32163001]\n",
      " [0.57822398 0.98865945 0.84301521]\n",
      " [0.05768817 0.49445574 0.43677061]\n",
      " [0.45021707 0.41637527 0.14703326]]\n"
     ]
    },
    {
     "data": {
      "text/plain": [
       "array([29, 20,  3,  5,  7,  9, 10, 15, 21, 19])"
      ]
     },
     "execution_count": 142,
     "metadata": {},
     "output_type": "execute_result"
    }
   ],
   "source": [
    "xs = np.random.default_rng().uniform(size=(30, 3))\n",
    "print(xs)\n",
    "rank(xs)"
   ]
  },
  {
   "cell_type": "code",
   "execution_count": null,
   "metadata": {},
   "outputs": [],
   "source": []
  },
  {
   "cell_type": "code",
   "execution_count": null,
   "metadata": {},
   "outputs": [],
   "source": []
  },
  {
   "cell_type": "code",
   "execution_count": null,
   "metadata": {},
   "outputs": [],
   "source": []
  }
 ],
 "metadata": {
  "kernelspec": {
   "display_name": "Python 3",
   "language": "python",
   "name": "python3"
  },
  "language_info": {
   "codemirror_mode": {
    "name": "ipython",
    "version": 3
   },
   "file_extension": ".py",
   "mimetype": "text/x-python",
   "name": "python",
   "nbconvert_exporter": "python",
   "pygments_lexer": "ipython3",
   "version": "3.8.6"
  }
 },
 "nbformat": 4,
 "nbformat_minor": 4
}
