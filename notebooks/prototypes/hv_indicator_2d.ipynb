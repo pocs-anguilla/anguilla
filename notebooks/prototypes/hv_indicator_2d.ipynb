{
 "cells": [
  {
   "cell_type": "code",
   "execution_count": 2,
   "metadata": {},
   "outputs": [],
   "source": [
    "import math\n",
    "import timeit\n",
    "\n",
    "import numpy as np\n",
    "import numba"
   ]
  },
  {
   "cell_type": "markdown",
   "metadata": {},
   "source": [
    "Ported to Python from: https://github.com/Shark-ML/Shark/blob/4.1/include/shark/Algorithms/DirectSearch/Operators/Hypervolume/HypervolumeCalculator2D.h"
   ]
  },
  {
   "cell_type": "code",
   "execution_count": 3,
   "metadata": {},
   "outputs": [],
   "source": [
    "# Test case adapted from: https://github.com/Shark-ML/Shark/blob/4.1/Test/Algorithms/Hypervolume.cpp\n",
    "\n",
    "x_ref = np.array([11., 11.], dtype=float)\n",
    "xs = np.array([[0., 1.],\n",
    "               [0.2787464911, 0.9603647191],\n",
    "               [0.3549325314, 0.9348919179],\n",
    "               [0.4220279525, 0.9065828188],\n",
    "               [0.4828402120, 0.8757084730],\n",
    "               [0.7687221637, 0.6395828601],\n",
    "               [0.8067485614, 0.5908948796],\n",
    "               [0.8424097574, 0.5388374529],\n",
    "               [0.8757076053, 0.4828417856],\n",
    "               [0.9065821569, 0.4220293744],\n",
    "               [0.5908933491, 0.8067496824],\n",
    "               [0.5388359009, 0.8424107501],\n",
    "               [0.6852861036, 0.7282739568],\n",
    "               [0.7282728148, 0.6852873173],\n",
    "               [0.6395815841, 0.7687232254],\n",
    "               [0.9348914021, 0.3549338901],\n",
    "               [0.9603643728, 0.2787476843],\n",
    "               [0.9824775804, 0.1863808035],\n",
    "               [0.1863801385, 0.9824777066],\n",
    "               [1., 0.]], dtype=float)\n",
    "\n",
    "vol_value = 120.196858"
   ]
  },
  {
   "cell_type": "markdown",
   "metadata": {},
   "source": [
    "### First attempt"
   ]
  },
  {
   "cell_type": "code",
   "execution_count": 86,
   "metadata": {},
   "outputs": [
    {
     "data": {
      "text/plain": [
       "dtype([('i0', '<f8'), ('i1', '<f8')])"
      ]
     },
     "execution_count": 86,
     "metadata": {},
     "output_type": "execute_result"
    }
   ],
   "source": [
    "def create_point_type(xs):\n",
    "    fields = [('i{}'.format(i), xs.dtype) for i in range(xs.shape[1])]\n",
    "    return np.dtype(fields)\n",
    "\n",
    "create_point_type(xs)"
   ]
  },
  {
   "cell_type": "code",
   "execution_count": 87,
   "metadata": {},
   "outputs": [],
   "source": [
    "_point_2d_dtype = np.dtype([('i0', xs.dtype), ('i1', xs.dtype)])\n",
    "\n",
    "def calculate_2d(xs: np.ndarray, x_ref: np.ndarray) -> float:\n",
    "    if xs.shape[0] == 0:\n",
    "        return 0.\n",
    "\n",
    "    # Copy point set and sort along its first dimension.\n",
    "    xs = xs.view(dtype=_point_2d_dtype).reshape(-1)\n",
    "    xs.sort(order='i0', axis=0)\n",
    "\n",
    "    # Perform the integration.\n",
    "    volume = (x_ref[0] - xs[0]['i0']) * (x_ref[0] - xs[0]['i1'])\n",
    "              \n",
    "    last_valid_idx = 0\n",
    "    for k in range(1, xs.shape[0]):\n",
    "        dim1_diff = xs[last_valid_idx]['i1'] - xs[k]['i1']\n",
    "        # skip dominated points\n",
    "        # point is dominated <=> dim1_diff <= 0\n",
    "        if dim1_diff > 0:\n",
    "            volume += (x_ref[0] - xs[k]['i0']) * dim1_diff\n",
    "            last_valid_idx = k\n",
    "\n",
    "    return volume"
   ]
  },
  {
   "cell_type": "code",
   "execution_count": 88,
   "metadata": {},
   "outputs": [],
   "source": [
    "vol = calculate_2d(xs, x_ref)\n",
    "assert math.isclose(vol_value, vol, rel_tol=1e-6)"
   ]
  },
  {
   "cell_type": "code",
   "execution_count": 89,
   "metadata": {},
   "outputs": [
    {
     "name": "stdout",
     "output_type": "stream",
     "text": [
      "127 µs ± 12.2 µs per loop (mean ± std. dev. of 7 runs, 10000 loops each)\n"
     ]
    }
   ],
   "source": [
    "%timeit calculate_2d(xs, x_ref)"
   ]
  },
  {
   "cell_type": "markdown",
   "metadata": {},
   "source": [
    "### Improvement 1"
   ]
  },
  {
   "cell_type": "code",
   "execution_count": 4,
   "metadata": {},
   "outputs": [],
   "source": [
    "def calculate_2d_pre_njit(xs: np.ndarray, x_ref: np.ndarray) -> float:\n",
    "    if xs.shape[0] == 0:\n",
    "        return 0.\n",
    "\n",
    "    # Copy point set and sort along its first dimension.\n",
    "    sorted_idx = np.argsort(xs[:, 0])\n",
    "    xs = xs[sorted_idx]\n",
    "\n",
    "    # Perform the integration.\n",
    "    volume = (x_ref[0] - xs[0][0]) * (x_ref[0] - xs[0][1])\n",
    "              \n",
    "    last_valid_idx = 0\n",
    "    for k in range(1, xs.shape[0]):\n",
    "        dim1_diff = xs[last_valid_idx][1] - xs[k][1]\n",
    "        # skip dominated points\n",
    "        # point is dominated <=> dim1_diff <= 0\n",
    "        if dim1_diff > 0:\n",
    "            volume += (x_ref[0] - xs[k][0]) * dim1_diff\n",
    "            last_valid_idx = k\n",
    "\n",
    "    return volume"
   ]
  },
  {
   "cell_type": "code",
   "execution_count": 5,
   "metadata": {},
   "outputs": [],
   "source": [
    "vol = calculate_2d_pre_njit(xs, x_ref)\n",
    "assert math.isclose(vol_value, vol, rel_tol=1e-6)"
   ]
  },
  {
   "cell_type": "code",
   "execution_count": 6,
   "metadata": {},
   "outputs": [
    {
     "name": "stdout",
     "output_type": "stream",
     "text": [
      "67.7 µs ± 3.44 µs per loop (mean ± std. dev. of 7 runs, 10000 loops each)\n"
     ]
    }
   ],
   "source": [
    "%timeit calculate_2d_pre_njit(xs, x_ref)"
   ]
  },
  {
   "cell_type": "markdown",
   "metadata": {},
   "source": [
    "### Improvement 2 (using Numba)"
   ]
  },
  {
   "cell_type": "code",
   "execution_count": 73,
   "metadata": {},
   "outputs": [],
   "source": [
    "@numba.njit\n",
    "def calculate_2d_njit(xs: np.ndarray, x_ref: np.ndarray) -> float:\n",
    "    if xs.shape[0] == 0:\n",
    "        return 0.\n",
    "\n",
    "    # Copy point set and sort along its first dimension.\n",
    "    sorted_idx = np.argsort(xs[:, 0])\n",
    "    xs = xs[sorted_idx]\n",
    "\n",
    "    # Perform the integration.\n",
    "    volume = (x_ref[0] - xs[0][0]) * (x_ref[0] - xs[0][1])\n",
    "              \n",
    "    last_valid_idx = 0\n",
    "    for k in range(1, xs.shape[0]):\n",
    "        dim1_diff = xs[last_valid_idx][1] - xs[k][1]\n",
    "        # skip dominated points\n",
    "        # point is dominated <=> dim1_diff <= 0\n",
    "        if dim1_diff > 0:\n",
    "            volume += (x_ref[0] - xs[k][0]) * dim1_diff\n",
    "            last_valid_idx = k\n",
    "\n",
    "    return volume"
   ]
  },
  {
   "cell_type": "code",
   "execution_count": 75,
   "metadata": {},
   "outputs": [],
   "source": [
    "vol = calculate_2d_njit(xs, x_ref)\n",
    "assert math.isclose(vol_value, vol, rel_tol=1e-6)"
   ]
  },
  {
   "cell_type": "code",
   "execution_count": 77,
   "metadata": {},
   "outputs": [
    {
     "name": "stdout",
     "output_type": "stream",
     "text": [
      "2.43 µs ± 257 ns per loop (mean ± std. dev. of 7 runs, 100000 loops each)\n"
     ]
    }
   ],
   "source": [
    "%timeit calculate_2d_njit(xs, x_ref)"
   ]
  },
  {
   "cell_type": "markdown",
   "metadata": {},
   "source": [
    "## Inclusion-Exclusion baseline"
   ]
  },
  {
   "cell_type": "markdown",
   "metadata": {},
   "source": [
    "Ported from Shark"
   ]
  },
  {
   "cell_type": "code",
   "execution_count": 13,
   "metadata": {},
   "outputs": [],
   "source": [
    "def hv_inclusion_exclusion(ps: np.ndarray, ref_p: np.ndarray) -> float:\n",
    "    \n",
    "    def _helper(ps, ref_p, p, setsize=0, i=0):\n",
    "        if i == ps.shape[0]:\n",
    "            if setsize > 0:\n",
    "                vol = 1.\n",
    "                for a,b in zip(p, ref_p):\n",
    "                    vol *= b - a\n",
    "                return vol if (setsize & 1) else -vol\n",
    "            else:\n",
    "                return 0.\n",
    "        else:\n",
    "            vol = _helper(ps, ref_p, p, setsize, i + 1)\n",
    "            p = np.maximum(p, ps[i])\n",
    "            vol += _helper(ps, ref_p, p, setsize + 1, i + 1)\n",
    "            return vol\n",
    "    \n",
    "    p = np.full_like(ref_p, 1e-6, dtype=float)\n",
    "\n",
    "    return _helper(ps, ref_p, p)"
   ]
  },
  {
   "cell_type": "code",
   "execution_count": 14,
   "metadata": {},
   "outputs": [
    {
     "data": {
      "text/plain": [
       "120.19683764929286"
      ]
     },
     "execution_count": 14,
     "metadata": {},
     "output_type": "execute_result"
    }
   ],
   "source": [
    "hv_inclusion_exclusion(xs, x_ref)"
   ]
  }
 ],
 "metadata": {
  "kernelspec": {
   "display_name": "Python 3",
   "language": "python",
   "name": "python3"
  },
  "language_info": {
   "codemirror_mode": {
    "name": "ipython",
    "version": 3
   },
   "file_extension": ".py",
   "mimetype": "text/x-python",
   "name": "python",
   "nbconvert_exporter": "python",
   "pygments_lexer": "ipython3",
   "version": "3.8.6"
  }
 },
 "nbformat": 4,
 "nbformat_minor": 4
}
