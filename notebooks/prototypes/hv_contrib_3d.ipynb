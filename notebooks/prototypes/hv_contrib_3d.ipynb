{
 "cells": [
  {
   "cell_type": "code",
   "execution_count": 1,
   "metadata": {},
   "outputs": [],
   "source": [
    "import os\n",
    "import sys\n",
    "import math\n",
    "import numpy as np\n",
    "\n",
    "from collections import deque\n",
    "from typing import Optional\n",
    "\n",
    "sys.path.append(os.path.abspath('../../'))\n",
    "\n",
    "from anguilla.ds.rbtree import RBTree\n",
    "from anguilla.hypervolume.exact import calculate_3d"
   ]
  },
  {
   "cell_type": "code",
   "execution_count": 2,
   "metadata": {},
   "outputs": [],
   "source": [
    "p_ref = np.array([1.1 , 1.1 , 1.1], dtype=float)\n",
    "ps = np.array([\n",
    "    [6.56039859404455e-2, 0.4474014917277, 0.891923776019316],\n",
    "    [3.74945443950542e-2, 3.1364039802686e-2, 0.998804513479922],\n",
    "    [0.271275894554688, 0.962356894778677, 1.66911984440026e-2],\n",
    "    [0.237023460537611, 0.468951509833942, 0.850825693417425],\n",
    "    [8.35813910785332e-2, 0.199763306732937, 0.97627289850149],\n",
    "    [1.99072649788403e-2, 0.433909411793732, 0.900736544810901],\n",
    "    [9.60698311356187e-2, 0.977187045721721, 0.18940978121319],\n",
    "    [2.68052822856208e-2, 2.30651870780559e-2, 0.999374541394087],\n",
    "    [0.356223209018184, 0.309633114503212, 0.881607826507812],\n",
    "    [0.127964409429531, 0.73123479272024, 0.670015513129912],\n",
    "    [0.695473366395562, 0.588939459338073, 0.411663831140169],\n",
    "    [0.930735605917613, 0.11813654121718, 0.346085234453039],\n",
    "    [0.774030940645471, 2.83363630460836e-2, 0.632513362272141],\n",
    "    [0.882561783965009, 4.80931050853475e-3, 0.470171849451808],\n",
    "    [4.92340623346446e-3, 0.493836329534438, 0.869540936185878],\n",
    "    [0.305054163869799, 0.219367569077876, 0.926725324323535],\n",
    "    [0.575227233936948, 0.395585597387712, 0.715978815661927],\n",
    "    [0.914091673974525, 0.168988399705031, 0.368618138912863],\n",
    "    [0.225088318852838, 0.796785147906617, 0.560775067911755],\n",
    "    [0.306941172015014, 0.203530333828304, 0.929710987422322],\n",
    "    [0.185344081015371, 0.590388202293731, 0.785550343533082],\n",
    "    [0.177181921358634, 0.67105558509432, 0.719924279669315],\n",
    "    [0.668494587335475, 0.22012845825454, 0.710393164782469],\n",
    "    [0.768639363955671, 0.256541291890516, 0.585986427942633],\n",
    "    [0.403457020846225, 0.744309886218013, 0.532189088208334],\n",
    "    [0.659545359568811, 0.641205442223306, 0.39224418355721],\n",
    "    [0.156141960251846, 8.36191498217669e-2, 0.984188765446851],\n",
    "    [0.246039496399399, 0.954377757574506, 0.16919711007753],\n",
    "    [3.02243260456876e-2, 0.43842801306405, 0.898257962656493],\n",
    "    [0.243139979715573, 0.104253945099703, 0.96437236853565],\n",
    "    [0.343877707314699, 0.539556201272222, 0.768522757034998],\n",
    "    [0.715293885551218, 0.689330705208567, 0.114794756629825],\n",
    "    [1.27610149409238e-2, 9.47996983636579e-2, 0.995414573777096],\n",
    "    [0.30565381275615, 0.792827267212719, 0.527257689476066],\n",
    "    [0.43864576057661, 3.10389339442242e-2, 0.8981238674636],\n",
    "])\n",
    "total_volume = 0.60496383631719475"
   ]
  },
  {
   "cell_type": "code",
   "execution_count": 3,
   "metadata": {},
   "outputs": [],
   "source": [
    "point3d_dt = np.dtype([('x', float), ('y', float), ('z', float)], align=True)"
   ]
  },
  {
   "cell_type": "code",
   "execution_count": 4,
   "metadata": {},
   "outputs": [],
   "source": [
    "class SweepItem:\n",
    "    \"\"\"Models an item of the sweep structure.\"\"\"\n",
    "    def __init__(self, val: np.array, idx: int) -> None:\n",
    "        self.val = val\n",
    "        self.idx = idx\n",
    "        \n",
    "    def __repr__(self):\n",
    "        return \"Item({}, {})\".format(self.val, self.idx)\n",
    "        \n",
    "class Box3D:\n",
    "    \"\"\"Models and axis-parallel box in 3D.\"\"\"\n",
    "    def __init__(self, lower: np.array, upper: np.array):\n",
    "        self.lower = lower\n",
    "        self.upper = upper\n",
    "        \n",
    "    def __repr__(self):\n",
    "        return '[{}, {}]'.format(self.lower, self.upper)\n",
    "        \n",
    "    def volume(self):\n",
    "        return (self.upper['x'] - self.lower['x']) \\\n",
    "               * (self.upper['y'] - self.lower['y']) \\\n",
    "               * (self.upper['z'] - self.lower['z'])"
   ]
  },
  {
   "cell_type": "code",
   "execution_count": 21,
   "metadata": {},
   "outputs": [],
   "source": [
    "def contributions_3d(ps: np.ndarray, ref_p: Optional[np.ndarray]) -> np.array:\n",
    "    n = len(ps)\n",
    "\n",
    "    if n == 0:\n",
    "        return np.empty()\n",
    "    \n",
    "    if ref_p is None:\n",
    "        zero = np.array([(0, 0, 0)], dtype=point3d_dt)[0]\n",
    "        ref_p = zero\n",
    "\n",
    "    # Sort the points by their z-coordinate in ascending order\n",
    "    sorted_idx = np.argsort(ps[:, 2])\n",
    "    sorted_ps = ps[sorted_idx]\n",
    "    \n",
    "    # \"Cast\" to allow access by \"key\"\n",
    "    ps = sorted_ps.view(dtype=point3d_dt).reshape(-1)\n",
    "    ref_p = ref_p.view(dtype=point3d_dt)[0]\n",
    "    \n",
    "    # Initialization\n",
    "    front_xy = RBTree()\n",
    "    \n",
    "    # Add boundary sentinels to the sweeping structure\n",
    "    sentinel_x = np.array([(ref_p['x'], float('-inf'), float('-inf'))], dtype=point3d_dt)[0]\n",
    "    front_xy[ref_p['x']] = SweepItem(sentinel_x, n)\n",
    "    sentinel_y = np.array([(float('-inf'), ref_p['y'], float('-inf'))], dtype=point3d_dt)[0]\n",
    "    front_xy[float('-inf')] = SweepItem(sentinel_y, n)\n",
    "\n",
    "    # Create box lists and contribution vector\n",
    "    boxes = [deque([]) for _ in range(n+1)]\n",
    "    contribution = np.zeros(n+1, dtype=float)\n",
    "    contribution[n] = float('nan')\n",
    "    \n",
    "    # Process first point\n",
    "    p0 = ps[0]\n",
    "    upper0 = ref_p.copy()\n",
    "    upper0['z'] = float('nan')\n",
    "    boxes[0].appendleft(Box3D(p0.copy(), upper0))\n",
    "    front_xy[p0['x']] = SweepItem(p0, 0)\n",
    "\n",
    "    # Create pending points list\n",
    "    pending = [SweepItem(p, i) for i, p in enumerate(ps[1:], 1)]\n",
    "\n",
    "    # Process the rest of the points\n",
    "    for p in pending:\n",
    "\n",
    "        # find greatest q_x, such that q_x <= p_x\n",
    "        node_q = front_xy.lower_bound_by_key(p.val['x'])        \n",
    "        left = node_q.item\n",
    "\n",
    "        if not (p.val['y'] < left.val['y']):  # p is dominated by q\n",
    "            continue\n",
    "    \n",
    "        # (a) Find all points dominated by p, remove them\n",
    "        # from the sweeping structure and add them to\n",
    "        # the processing list 'dominated'.\n",
    "        node_s = front_xy.succ(node_q)\n",
    "        right = node_s.item\n",
    "        dominated = []\n",
    "        while True:\n",
    "            if p.val['y'] > right.val['y']:\n",
    "                break\n",
    "            dominated.append(right)\n",
    "            node_d = node_s\n",
    "            node_s = front_xy.succ(node_s)\n",
    "            right = node_s.item\n",
    "            front_xy.remove(node_d)\n",
    "        front_xy[p.val['x']] = p\n",
    "  \n",
    "        # (b) Process \"left\" region\n",
    "        # Notice the symmetry with the paper's algorithm\n",
    "        vol = 0.0\n",
    "        while any(boxes[left.idx]):\n",
    "            b = boxes[left.idx][-1]\n",
    "            if p.val['x'] < b.lower['x']:\n",
    "                # This box is dominated at this z-level\n",
    "                # so it can completed and added to the\n",
    "                # volume contribution of the left neighbour.\n",
    "                b.upper['z'] = p.val['z']\n",
    "                vol += b.volume()\n",
    "                boxes[left.idx].pop()\n",
    "            else:\n",
    "                if p.val['x'] < b.upper['x']:\n",
    "                    # Stop removing boxes.\n",
    "                    b.upper['z'] = p.val['z']\n",
    "                    vol += b.volume()\n",
    "                    # Modify box to reflect the dominance\n",
    "                    # of the left neighbour in this part \n",
    "                    # of the L region.\n",
    "                    b.upper['x'] = p.val['x']\n",
    "                    b.upper['z'] = float('nan')\n",
    "                    b.lower['z'] = p.val['z']\n",
    "                    break\n",
    "        contribution[left.idx] += vol\n",
    "            \n",
    "        # (c) Process the dominated points\n",
    "        right_x = right.val['x']\n",
    "        for d in reversed(dominated):\n",
    "            while any(boxes[d.idx]):\n",
    "                b = boxes[d.idx].pop()\n",
    "                b.upper['z'] = p.val['z']\n",
    "                contribution[d.idx] += b.volume()\n",
    "            # Create new box\n",
    "            upper = d.val.copy()\n",
    "            upper['x'] = right_x\n",
    "            upper['z'] = float('nan')\n",
    "            lower = p.val.copy()\n",
    "            lower['x'] = d.val['x']\n",
    "            b = Box3D(lower, upper)\n",
    "            boxes[p.idx].appendleft(b)\n",
    "            right_x = d.val['x']\n",
    "\n",
    "        upper = left.val.copy()\n",
    "        upper['x'] = right_x\n",
    "        upper['z'] = float('nan')\n",
    "        lower = p.val.copy()\n",
    "        b = Box3D(lower, upper)\n",
    "        boxes[p.idx].appendleft(b)\n",
    "            \n",
    "        # (d) Process \"right\" region\n",
    "        vol = 0.0\n",
    "        right_x = right.val['x']\n",
    "        while any(boxes[right.idx]):\n",
    "            b = boxes[right.idx][0]\n",
    "            if b.upper['y'] >= p.val['y']:\n",
    "                b.upper['z'] = p.val['z']\n",
    "                vol += b.volume()\n",
    "                right_x = b.upper['x']\n",
    "                boxes[right.idx].popleft()\n",
    "            else:\n",
    "                break\n",
    "\n",
    "        if right_x > right.val['x']:\n",
    "            upper = p.val.copy()\n",
    "            upper['x'] = right_x\n",
    "            upper['z'] = float('nan')\n",
    "            lower = right.val.copy()\n",
    "            lower['z'] = p.val['z']\n",
    "            b = Box3D(lower, upper)\n",
    "            boxes[right.idx].appendleft(b)\n",
    "        contribution[right.idx] += vol\n",
    "        \n",
    "    # The paper uses a 'z sentinel' to close the remaining boxes.\n",
    "    # Here we do it as in Shark's approach.\n",
    "    for p in front_xy:\n",
    "        while any(boxes[p.idx]):\n",
    "            b = boxes[p.idx].pop()\n",
    "            assert math.isnan(b.upper['z'])\n",
    "            b.upper['z'] = ref_p['z']\n",
    "            contribution[p.idx] += b.volume()   \n",
    "    \n",
    "    for bl in boxes:\n",
    "        assert len(bl) == 0\n",
    "    \n",
    "    reverse_idx = np.argsort(sorted_idx)\n",
    "    return contribution[:-1][reverse_idx]"
   ]
  },
  {
   "cell_type": "code",
   "execution_count": 23,
   "metadata": {},
   "outputs": [
    {
     "data": {
      "text/plain": [
       "array([6.66900683e-05, 1.27052063e-05, 1.45153473e-02, 6.80707501e-04,\n",
       "       4.86460918e-04, 1.59635724e-04, 9.35237153e-03, 7.38816827e-04,\n",
       "       9.73449354e-04, 3.73033034e-03, 2.27674976e-03, 3.05265939e-03,\n",
       "       5.86625018e-03, 8.33617977e-03, 3.61509047e-03, 6.90217889e-05,\n",
       "       2.67173642e-03, 7.66193810e-04, 1.43917818e-03, 7.22979757e-05,\n",
       "       9.12794195e-04, 1.37620025e-03, 3.30936198e-03, 1.90143581e-03,\n",
       "       1.71245687e-03, 2.49798368e-03, 1.69423751e-04, 1.50575051e-03,\n",
       "       1.13226411e-05, 5.48890368e-04, 1.28565415e-03, 2.62821322e-02,\n",
       "       6.36034460e-04, 7.75883941e-04, 5.34042831e-03])"
      ]
     },
     "execution_count": 23,
     "metadata": {},
     "output_type": "execute_result"
    }
   ],
   "source": [
    "contributions_3d(ps, p_ref)"
   ]
  },
  {
   "cell_type": "code",
   "execution_count": 24,
   "metadata": {},
   "outputs": [
    {
     "name": "stdout",
     "output_type": "stream",
     "text": [
      "4.52 ms ± 74.6 µs per loop (mean ± std. dev. of 7 runs, 100 loops each)\n"
     ]
    }
   ],
   "source": [
    "%timeit contributions_3d(ps, p_ref)"
   ]
  },
  {
   "cell_type": "code",
   "execution_count": 25,
   "metadata": {},
   "outputs": [],
   "source": [
    "# Implements the bruteforce computation\n",
    "def contributions_3d_naive(ps: np.ndarray, ref_p: Optional[np.ndarray]) -> np.array:\n",
    "    if len(ps) == 0:\n",
    "        return np.empty()\n",
    "    \n",
    "    if ref_p is None:\n",
    "        ref_p = np.zeros_like(ps[0])\n",
    "\n",
    "    contribution = np.zeros(len(ps))\n",
    "\n",
    "    vol = calculate_3d(ps, p_ref)\n",
    "    for i in range(len(ps)):\n",
    "        qs = np.delete(ps, i, 0)\n",
    "        contribution[i] = vol - calculate_3d(qs, p_ref)\n",
    "    return contribution"
   ]
  },
  {
   "cell_type": "code",
   "execution_count": 26,
   "metadata": {},
   "outputs": [
    {
     "data": {
      "text/plain": [
       "array([6.66900683e-05, 1.27052063e-05, 1.45153473e-02, 6.80707501e-04,\n",
       "       4.86460918e-04, 1.59635724e-04, 9.35237153e-03, 7.38816827e-04,\n",
       "       9.73449354e-04, 3.73033034e-03, 2.27674976e-03, 3.05265939e-03,\n",
       "       5.86625018e-03, 8.33617977e-03, 3.61509047e-03, 6.90217889e-05,\n",
       "       2.67173642e-03, 7.66193810e-04, 1.43917818e-03, 7.22979757e-05,\n",
       "       9.12794195e-04, 1.37620025e-03, 3.30936198e-03, 1.90143581e-03,\n",
       "       1.71245687e-03, 2.49798368e-03, 1.69423751e-04, 1.50575051e-03,\n",
       "       1.13226411e-05, 5.48890368e-04, 1.28565415e-03, 2.62821322e-02,\n",
       "       6.36034460e-04, 7.75883941e-04, 5.34042831e-03])"
      ]
     },
     "execution_count": 26,
     "metadata": {},
     "output_type": "execute_result"
    }
   ],
   "source": [
    "contributions_3d_naive(ps, p_ref)"
   ]
  },
  {
   "cell_type": "code",
   "execution_count": 27,
   "metadata": {},
   "outputs": [
    {
     "name": "stdout",
     "output_type": "stream",
     "text": [
      "32 ms ± 1.13 ms per loop (mean ± std. dev. of 7 runs, 10 loops each)\n"
     ]
    }
   ],
   "source": [
    "%timeit contributions_3d_naive(ps, p_ref)"
   ]
  }
 ],
 "metadata": {
  "kernelspec": {
   "display_name": "Python 3",
   "language": "python",
   "name": "python3"
  },
  "language_info": {
   "codemirror_mode": {
    "name": "ipython",
    "version": 3
   },
   "file_extension": ".py",
   "mimetype": "text/x-python",
   "name": "python",
   "nbconvert_exporter": "python",
   "pygments_lexer": "ipython3",
   "version": "3.8.6"
  }
 },
 "nbformat": 4,
 "nbformat_minor": 4
}
