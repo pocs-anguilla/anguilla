{
 "cells": [
  {
   "cell_type": "code",
   "execution_count": 1,
   "metadata": {},
   "outputs": [],
   "source": [
    "import math\n",
    "import time\n",
    "import timeit\n",
    "import numpy as np\n",
    "import anguilla.hypervolume as hv\n",
    "#from anguilla.util import random_cliff_3d"
   ]
  },
  {
   "cell_type": "code",
   "execution_count": 2,
   "metadata": {},
   "outputs": [],
   "source": [
    "def random_cliff_3d(n, rng=np.random.default_rng()):\n",
    "    vs = rng.standard_normal(size=(n, 2))\n",
    "    ys = np.zeros((n, 3))\n",
    "    for i in range(n):\n",
    "        c = np.linalg.norm(vs[i])\n",
    "        ys[i, 0:2] = 10.0 * np.abs(vs[i]) / c\n",
    "    ys[:, 2] = rng.uniform(low=0.0, high=10.0, size=n)\n",
    "    return ys"
   ]
  },
  {
   "cell_type": "code",
   "execution_count": 3,
   "metadata": {},
   "outputs": [
    {
     "name": "stdout",
     "output_type": "stream",
     "text": [
      "Notebook environment set! Use \"fontsize\" & \"figsize\" args with plot method for better viewing experience.\n"
     ]
    }
   ],
   "source": [
    "import benchit\n",
    "benchit.setparams(environ='notebook')"
   ]
  },
  {
   "cell_type": "code",
   "execution_count": 4,
   "metadata": {},
   "outputs": [],
   "source": [
    "datasets = {}\n",
    "for n in np.arange(100, 1100, 100):\n",
    "    front = random_cliff_3d(n)\n",
    "    nadir = np.max(front, axis=0) + 1e-4\n",
    "    datasets[n] = (front, nadir)"
   ]
  },
  {
   "cell_type": "code",
   "execution_count": 5,
   "metadata": {},
   "outputs": [],
   "source": [
    "datasets_b = {}\n",
    "for n in np.arange(5, 100, 5):\n",
    "    front = random_cliff_3d(n)\n",
    "    nadir = np.max(front, axis=0) + 1e-4\n",
    "    datasets_b[n] = (front, nadir)"
   ]
  },
  {
   "cell_type": "code",
   "execution_count": 6,
   "metadata": {},
   "outputs": [],
   "source": [
    "def shark_bindings(*args, **kwargs):\n",
    "    return hv.shark_calculate(*args, **kwargs)\n",
    "\n",
    "def anguilla_btree(*args, **kwargs):\n",
    "    return hv.calculate(*args, use_btree=True, **kwargs)\n",
    "\n",
    "def anguilla_rbtree(*args, **kwargs):\n",
    "    return hv.calculate(*args, use_btree=False, **kwargs)\n",
    "\n",
    "implementations = [shark_bindings, anguilla_btree, anguilla_rbtree]"
   ]
  },
  {
   "cell_type": "code",
   "execution_count": null,
   "metadata": {},
   "outputs": [
    {
     "name": "stderr",
     "output_type": "stream",
     "text": [
      "Loop datasets :  50%|█████     | 5/10 [00:48<00:48,  9.73s/it]"
     ]
    }
   ],
   "source": [
    "t = benchit.timings(implementations, datasets, multivar=True, input_name='Front size')"
   ]
  },
  {
   "cell_type": "code",
   "execution_count": null,
   "metadata": {},
   "outputs": [],
   "source": [
    "_ = t.plot()"
   ]
  },
  {
   "cell_type": "code",
   "execution_count": null,
   "metadata": {},
   "outputs": [],
   "source": [
    "t.speedups(anguilla_rbtree)"
   ]
  },
  {
   "cell_type": "code",
   "execution_count": null,
   "metadata": {},
   "outputs": [],
   "source": [
    "t_b = benchit.timings(implementations, datasets_b, multivar=True, input_name='Front size')"
   ]
  },
  {
   "cell_type": "code",
   "execution_count": null,
   "metadata": {},
   "outputs": [],
   "source": [
    "_ = t_b.plot()"
   ]
  },
  {
   "cell_type": "code",
   "execution_count": null,
   "metadata": {},
   "outputs": [],
   "source": [
    "t_b.speedups(anguilla_rbtree)"
   ]
  },
  {
   "cell_type": "code",
   "execution_count": null,
   "metadata": {},
   "outputs": [],
   "source": [
    "def shark_bindings_c(*args, **kwargs):\n",
    "    return hv.shark_contributions(*args, **kwargs)\n",
    "\n",
    "def anguilla_btree_c(*args, **kwargs):\n",
    "    return hv.contributions(*args, use_btree=True, **kwargs)\n",
    "\n",
    "def anguilla_rbtree_c(*args, **kwargs):\n",
    "    return hv.contributions(*args, use_btree=False, **kwargs)\n",
    "\n",
    "implementations_c = [shark_bindings_c, anguilla_btree_c, anguilla_rbtree_c]"
   ]
  },
  {
   "cell_type": "code",
   "execution_count": null,
   "metadata": {},
   "outputs": [],
   "source": [
    "t_c = benchit.timings(implementations_c, datasets, multivar=True, input_name='Front size')"
   ]
  },
  {
   "cell_type": "code",
   "execution_count": null,
   "metadata": {},
   "outputs": [],
   "source": [
    "_ = t_c.plot()"
   ]
  },
  {
   "cell_type": "code",
   "execution_count": null,
   "metadata": {},
   "outputs": [],
   "source": [
    "t_c.speedups(anguilla_rbtree_c)"
   ]
  },
  {
   "cell_type": "code",
   "execution_count": null,
   "metadata": {},
   "outputs": [],
   "source": [
    "t_b_c = benchit.timings(implementations_c, datasets_b, multivar=True, input_name='Front size')"
   ]
  },
  {
   "cell_type": "code",
   "execution_count": null,
   "metadata": {},
   "outputs": [],
   "source": [
    "_ = t_b_c.plot()"
   ]
  },
  {
   "cell_type": "code",
   "execution_count": null,
   "metadata": {},
   "outputs": [],
   "source": [
    "t_b_c.speedups(anguilla_rbtree_c)"
   ]
  },
  {
   "cell_type": "code",
   "execution_count": null,
   "metadata": {},
   "outputs": [],
   "source": [
    "def random_3d_front(n, duplicates=False, dominated=False):\n",
    "    rng = np.random.default_rng()\n",
    "    cliff3d = random_cliff_3d(n, rng=rng)\n",
    "    # Add some repeated entries.\n",
    "    dups = None\n",
    "    if duplicates:\n",
    "        dups = cliff3d[rng.choice(n, max(2, n // 3), replace=False), :]\n",
    "    dom = None\n",
    "    if dominated:\n",
    "        m = max(2, n // 3)\n",
    "        dom = cliff3d[rng.choice(n, m, replace=False), :]\n",
    "        for i in range(m):\n",
    "            dom[i, rng.integers(0, 2)] += 0.01\n",
    "    front = np.vstack([x for x in [cliff3d, dups, dom] if x is not None])\n",
    "    rng.shuffle(front)\n",
    "    nadir = np.ceil(np.max(front, axis=0))\n",
    "    return front, nadir"
   ]
  },
  {
   "cell_type": "code",
   "execution_count": null,
   "metadata": {},
   "outputs": [],
   "source": [
    "def random_2d_3d_front(n, duplicates=False, dominated=False):\n",
    "    front_3d, nadir_3d = random_3d_front(n, duplicates=duplicates, dominated=dominated)\n",
    "    n = len(front_3d)\n",
    "    front_3d[:, 2] = 0.0\n",
    "    nadir_3d[2] = 1.0\n",
    "    front_2d = np.delete(front_3d, 2, 1)\n",
    "    nadir_2d = np.empty(2)\n",
    "    nadir_2d[0] = nadir_3d[0]\n",
    "    nadir_2d[1] = nadir_3d[1]\n",
    "    return front_3d, nadir_3d, front_2d, nadir_2d"
   ]
  },
  {
   "cell_type": "code",
   "execution_count": null,
   "metadata": {},
   "outputs": [],
   "source": [
    "front_3d, nadir_3d, front_2d, nadir_2d = random_2d_3d_front(10, dominated=False)"
   ]
  },
  {
   "cell_type": "code",
   "execution_count": null,
   "metadata": {},
   "outputs": [],
   "source": [
    "for x, y, z in front_3d:\n",
    "    print(x, y, z)"
   ]
  },
  {
   "cell_type": "code",
   "execution_count": null,
   "metadata": {},
   "outputs": [],
   "source": [
    "print(nadir_3d)"
   ]
  },
  {
   "cell_type": "code",
   "execution_count": null,
   "metadata": {},
   "outputs": [],
   "source": [
    "hv.contributions(front_2d, nadir_2d, non_dominated=False)"
   ]
  },
  {
   "cell_type": "code",
   "execution_count": null,
   "metadata": {},
   "outputs": [],
   "source": [
    "hv.contributions(front_3d, nadir_3d)"
   ]
  },
  {
   "cell_type": "code",
   "execution_count": null,
   "metadata": {},
   "outputs": [],
   "source": [
    "hv.shark_contributions(front_3d, nadir_3d)"
   ]
  },
  {
   "cell_type": "code",
   "execution_count": null,
   "metadata": {},
   "outputs": [],
   "source": [
    "hv.shark_contributions(front_2d, nadir_2d)"
   ]
  },
  {
   "cell_type": "code",
   "execution_count": null,
   "metadata": {},
   "outputs": [],
   "source": [
    "import pygmo as pg\n",
    "hvinstance = pg.hypervolume(front_3d)\n",
    "hvinstance.contributions(ref_point=nadir_3d)"
   ]
  },
  {
   "cell_type": "code",
   "execution_count": null,
   "metadata": {},
   "outputs": [],
   "source": []
  }
 ],
 "metadata": {
  "kernelspec": {
   "display_name": "Python 3",
   "language": "python",
   "name": "python3"
  },
  "language_info": {
   "codemirror_mode": {
    "name": "ipython",
    "version": 3
   },
   "file_extension": ".py",
   "mimetype": "text/x-python",
   "name": "python",
   "nbconvert_exporter": "python",
   "pygments_lexer": "ipython3",
   "version": "3.8.6"
  }
 },
 "nbformat": 4,
 "nbformat_minor": 4
}
